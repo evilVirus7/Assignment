{
 "cells": [
  {
   "cell_type": "markdown",
   "id": "43202a3d-ef95-4940-8038-c5a9182bbedf",
   "metadata": {},
   "source": [
    "1. **Explain the key features of Python that make it a popular choice for programming?**\n",
    "Ans. The key features of Python are:-\n",
    "a. Readability and simplicity.\n",
    "b. compatible with various programming patterns.\n",
    "c. large and active community of developers."
   ]
  },
  {
   "cell_type": "markdown",
   "id": "81e8e2ae-fe1b-480f-bc70-1f8342454f67",
   "metadata": {},
   "source": [
    "2. **Describe the role of predefined keywords in Python and provide examples of how they are used in a \r\n",
    "progrma**.\n",
    "Ans. Predefined keyword- It is predefined words that holds a specific meaning and have specific purpose in Python programming.\n",
    "\n",
    "Example:- False- represents the boolean value for \"not true\".\n",
    "          Continue- Is used within loops like \"for\" and \"while\" to skip the remaining code after the statement is matchedm"
   ]
  },
  {
   "cell_type": "markdown",
   "id": "a710899b-c659-48f1-98d3-f579c6153dc8",
   "metadata": {},
   "source": [
    "3. **Compare and contrast mutable and immutable objects in Python with examples.**\n",
    "Ans- Mutable object:- Object whose state or value can be modified after created.\n",
    "       Example- list[] is mutable object.\n",
    "     Immutable object:- Object whose state or value cannot be modified.\n",
    "       Example- Immutable Object:- String is immutable object."
   ]
  },
  {
   "cell_type": "code",
   "execution_count": 19,
   "id": "9dc6c7af-8d22-4fed-9839-94e7b21b91f0",
   "metadata": {},
   "outputs": [
    {
     "data": {
      "text/plain": [
       "[1, 8, (2+5j), 'pwskills']"
      ]
     },
     "execution_count": 19,
     "metadata": {},
     "output_type": "execute_result"
    }
   ],
   "source": [
    "#Example-\n",
    "#Mutable Object:-\n",
    "list = [1, 5, 2+5j, \"pwskills\"]\n",
    "list[1] = 8\n",
    "list"
   ]
  },
  {
   "cell_type": "markdown",
   "id": "8f76ea62-ced3-42cc-82ed-79ec60b13366",
   "metadata": {},
   "source": [
    "4. **Discuss the different types of operators in Python and provide examples of how they are used.**\n",
    "Ans- There are total 7 operators in Python:-\n",
    "a. Arithamatic operator- Used for basic calculations\n",
    "    Example- +,-,*,/,%,**\n",
    "b. Comparison operator- Used for comparing values.\n",
    "     Example- ==,!=,<,>,<=,>=\n",
    "c. Logical operator- Used for combining conditions\n",
    "    Example- and, or, not\n",
    "d. Bitwise operator- Used for manipulating individual bits within integers.\n",
    "    Example- &,|,~,^,<<,>>\n",
    "e. Assignment operator- Used for assigning values to variables.\n",
    "    Example- =,+=,-=,*=,/=\n",
    "f. Membership operator- Used for checking if a value is within a sequence.\n",
    "    Example- in, not in\n",
    "g. Identity operator- Used for checking if two objects are the same.\n",
    "    Example- is, is not"
   ]
  },
  {
   "cell_type": "markdown",
   "id": "746c387e-54b4-4a87-b19c-3dacd4e92bae",
   "metadata": {},
   "source": [
    "5. **Explain the concept of type casting in Python with examples.**\n",
    "Ans- Implicit Typecasting:-Python itself understands the datatype."
   ]
  },
  {
   "cell_type": "code",
   "execution_count": 65,
   "id": "d664b9b1-b700-4a49-8c3c-d6951c7344ad",
   "metadata": {},
   "outputs": [
    {
     "name": "stdout",
     "output_type": "stream",
     "text": [
      "7.5\n"
     ]
    }
   ],
   "source": [
    "x = 5\n",
    "y = 2.5\n",
    "z = x + y   #Implicit Typecasting\n",
    "print(z)"
   ]
  },
  {
   "cell_type": "markdown",
   "id": "9f321bbf-df54-49e4-acc7-e1655458b08c",
   "metadata": {},
   "source": [
    "    Explicit Typecasting- It can convert datatype using inbuilt functions."
   ]
  },
  {
   "cell_type": "code",
   "execution_count": 60,
   "id": "b32ebb4f-1e1b-411f-bca1-b9791f19370c",
   "metadata": {},
   "outputs": [
    {
     "name": "stdout",
     "output_type": "stream",
     "text": [
      "10\n"
     ]
    }
   ],
   "source": [
    "#Example-\n",
    "#Convert str to int\n",
    "x = \"10\"\n",
    "y = int(x)\n",
    "print(y)"
   ]
  },
  {
   "cell_type": "code",
   "execution_count": 62,
   "id": "0b4ec8d1-bbbd-463c-b17f-454b75e3fb7a",
   "metadata": {},
   "outputs": [
    {
     "name": "stdout",
     "output_type": "stream",
     "text": [
      "5.0\n"
     ]
    }
   ],
   "source": [
    "#Convert int to float\n",
    "x = 5\n",
    "y = float(x)\n",
    "print(y)"
   ]
  },
  {
   "cell_type": "code",
   "execution_count": 57,
   "id": "8089330d-8867-455b-a612-6aa706e151ec",
   "metadata": {},
   "outputs": [
    {
     "name": "stdout",
     "output_type": "stream",
     "text": [
      "6.5\n"
     ]
    }
   ],
   "source": [
    "#Convert float to str\n",
    "x = 6.5\n",
    "y = str(x)\n",
    "print(y)\n"
   ]
  },
  {
   "cell_type": "markdown",
   "id": "639a45f5-5f8f-4bbb-8f2f-6c1c7588c212",
   "metadata": {},
   "source": [
    "6. **How do conditional statements work in Python? Illustrate with examples.**\n",
    "Ans- Conditional statements:- It helps to code decisions based on some pre-conditions."
   ]
  },
  {
   "cell_type": "code",
   "execution_count": 68,
   "id": "723959a2-3fb4-429b-b90a-4615be40a246",
   "metadata": {},
   "outputs": [
    {
     "name": "stdout",
     "output_type": "stream",
     "text": [
      "Grade C\n"
     ]
    }
   ],
   "source": [
    "#Example- \n",
    "score=65\n",
    "if score>=90:\n",
    "  print('Grade A')\n",
    "elif score>=80:\n",
    "  print('Grade B')\n",
    "elif score<=70:\n",
    "  print('Grade C')\n",
    "else:\n",
    "  print('Grade D')"
   ]
  },
  {
   "cell_type": "markdown",
   "id": "6fc1b03f-9886-4c8b-bf98-6e67892fbcdf",
   "metadata": {},
   "source": [
    "7. **Describe the different types of loops in Python and their use cases with examples.**\n",
    "Ans- There are two type of loops in Python are:-\n",
    "a. For loop- This keyword helps to iterate over a sequence of elements."
   ]
  },
  {
   "cell_type": "code",
   "execution_count": 72,
   "id": "51064d18-935b-4d7b-93ae-2e96c91fa8d8",
   "metadata": {},
   "outputs": [
    {
     "name": "stdout",
     "output_type": "stream",
     "text": [
      "p w s k i l l s "
     ]
    }
   ],
   "source": [
    "#Example-\n",
    "a = \"pwskills\"\n",
    "for i in a:\n",
    "    print(i, end = \" \")"
   ]
  },
  {
   "cell_type": "markdown",
   "id": "3b9528da-f808-496e-b3d1-b2e72fac2d23",
   "metadata": {},
   "source": [
    "b. While loop- This keyword helps to repeatedly execute a block of code untill a condition is met."
   ]
  },
  {
   "cell_type": "code",
   "execution_count": 76,
   "id": "6423e40e-abe2-4c8d-82ff-1666026d3211",
   "metadata": {},
   "outputs": [
    {
     "name": "stdout",
     "output_type": "stream",
     "text": [
      "5\n",
      "4\n",
      "3\n",
      "2\n",
      "1\n",
      "End of loop\n"
     ]
    }
   ],
   "source": [
    "count = 5\n",
    "while count>0:\n",
    "  print(count)\n",
    "  count-=1\n",
    "else:\n",
    "  print('End of loop')"
   ]
  },
  {
   "cell_type": "code",
   "execution_count": null,
   "id": "a13f4d8b-e6b8-4ca2-9d7e-6cb1232b0194",
   "metadata": {},
   "outputs": [],
   "source": []
  }
 ],
 "metadata": {
  "kernelspec": {
   "display_name": "Python 3 (ipykernel)",
   "language": "python",
   "name": "python3"
  },
  "language_info": {
   "codemirror_mode": {
    "name": "ipython",
    "version": 3
   },
   "file_extension": ".py",
   "mimetype": "text/x-python",
   "name": "python",
   "nbconvert_exporter": "python",
   "pygments_lexer": "ipython3",
   "version": "3.12.4"
  }
 },
 "nbformat": 4,
 "nbformat_minor": 5
}
