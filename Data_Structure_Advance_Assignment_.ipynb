{
  "nbformat": 4,
  "nbformat_minor": 0,
  "metadata": {
    "colab": {
      "provenance": []
    },
    "kernelspec": {
      "name": "python3",
      "display_name": "Python 3"
    },
    "language_info": {
      "name": "python"
    }
  },
  "cells": [
    {
      "cell_type": "markdown",
      "source": [
        "### Write a code to reverse a string. ###\n",
        "Ans- This code effectively reverses the input string using Python's slicing technique. The [::-1] slice notation reverses the string by taking steps of -1 from the end to the beginning."
      ],
      "metadata": {
        "id": "q0pEXmWWh7d9"
      }
    },
    {
      "cell_type": "code",
      "execution_count": 1,
      "metadata": {
        "colab": {
          "base_uri": "https://localhost:8080/"
        },
        "id": "BfV7DzshhuoI",
        "outputId": "c6e96f77-0082-45ff-cde1-09c3a5434da5"
      },
      "outputs": [
        {
          "output_type": "stream",
          "name": "stdout",
          "text": [
            "!dlroW ,olleH\n"
          ]
        }
      ],
      "source": [
        "def reverse_string(string):\n",
        "    \"\"\"Reverses a given string.\n",
        "\n",
        "    Args:\n",
        "        string: The input string to be reversed.\n",
        "\n",
        "    Returns:\n",
        "        The reversed string.\n",
        "    \"\"\"\n",
        "\n",
        "    return string[::-1]\n",
        "\n",
        "# Example usage:\n",
        "input_string = \"Hello, World!\"\n",
        "reversed_string = reverse_string(input_string)\n",
        "print(reversed_string)\n",
        "  # Output: !dlroW ,olleH"
      ]
    },
    {
      "cell_type": "markdown",
      "source": [
        "### Write a code to count the number of vowels in a string. ###\n",
        "Ans- This code defines a function count_vowels that takes a string as input. It iterates over each character in the string and checks if it's a vowel. If it is, the vowel count is incremented. Finally, the function returns the total count of vowels."
      ],
      "metadata": {
        "id": "hdSrSkcyiz0d"
      }
    },
    {
      "cell_type": "code",
      "source": [
        "def count_vowels(string):\n",
        "    \"\"\"Counts the number of vowels in a given string.\n",
        "\n",
        "    Args:\n",
        "        string: The input string.\n",
        "\n",
        "    Returns:\n",
        "        The count of vowels in the string.\n",
        "    \"\"\"\n",
        "\n",
        "    vowels = \"aeiouAEIOU\"\n",
        "    count = 0\n",
        "    for char in string:\n",
        "        if char in vowels:\n",
        "            count += 1\n",
        "    return count\n",
        "\n",
        "# Example usage:\n",
        "input_string = \"Hello, World!\"\n",
        "vowel_count = count_vowels(input_string)\n",
        "print(\"Number of vowels:\", vowel_count)  # Output: 3"
      ],
      "metadata": {
        "colab": {
          "base_uri": "https://localhost:8080/"
        },
        "id": "jcoEhEC_iiFP",
        "outputId": "860bb870-e200-407a-db48-84a750a2a26a"
      },
      "execution_count": 2,
      "outputs": [
        {
          "output_type": "stream",
          "name": "stdout",
          "text": [
            "Number of vowels: 3\n"
          ]
        }
      ]
    },
    {
      "cell_type": "markdown",
      "source": [
        "### Write a code to check if a given string is a palindrome or not. ###\n",
        "Ans- This code defines a function is_palindrome that takes a string as input. It checks if the string is equal to its reversed version using the [::-1] slicing technique. If they are equal, the string is a palindrome."
      ],
      "metadata": {
        "id": "9Q8ik1HplIKs"
      }
    },
    {
      "cell_type": "code",
      "source": [
        "def is_palindrome(string):\n",
        "    \"\"\"Checks if a given string is a palindrome.\n",
        "\n",
        "    Args:\n",
        "        string: The input string.\n",
        "\n",
        "    Returns:\n",
        "        True if the string is a palindrome, False otherwise.\n",
        "    \"\"\"\n",
        "\n",
        "    return string == string[::-1]\n",
        "\n",
        "# Example usage:\n",
        "input_string = \"racecar\"\n",
        "if is_palindrome(input_string):\n",
        "    print(input_string, \"is a palindrome.\")\n",
        "else:\n",
        "    print(input_string, \"is not a palindrome.\")"
      ],
      "metadata": {
        "colab": {
          "base_uri": "https://localhost:8080/"
        },
        "id": "eJSJfYNmlA3C",
        "outputId": "87582ba0-8dca-413d-b230-6d4760685909"
      },
      "execution_count": 3,
      "outputs": [
        {
          "output_type": "stream",
          "name": "stdout",
          "text": [
            "racecar is a palindrome.\n"
          ]
        }
      ]
    },
    {
      "cell_type": "markdown",
      "source": [
        "### Write a code to check if two given strings are anagrams of each other. ###\n",
        "Ans- This code defines a function are_anagrams that takes two strings as input. It first checks if the lengths of the two strings are equal. If not, they cannot be anagrams.\n",
        "\n",
        "Then, it creates two frequency dictionaries, one for each string. Each dictionary stores the frequency of each character in the corresponding string.\n",
        "\n",
        "Finally, the function compares the two frequency dictionaries. If they are equal, the strings are anagrams."
      ],
      "metadata": {
        "id": "-MGvtGrlnpNs"
      }
    },
    {
      "cell_type": "code",
      "source": [
        "def are_anagrams(str1, str2):\n",
        "    \"\"\"Checks if two strings are anagrams of each other.\n",
        "\n",
        "    Args:\n",
        "        str1: The first string.\n",
        "        str2: The second string.\n",
        "\n",
        "    Returns:\n",
        "        True if the strings are anagrams, False otherwise.\n",
        "    \"\"\"\n",
        "\n",
        "    if len(str1) != len(str2):\n",
        "        return False\n",
        "\n",
        "    # Create character frequency dictionaries for both strings\n",
        "    freq1 = {}\n",
        "    freq2 = {}\n",
        "\n",
        "    for char in str1:\n",
        "        freq1[char] = freq1.get(char, 0) + 1\n",
        "\n",
        "    for char in str2:\n",
        "        freq2[char] = freq2.get(char, 0) + 1\n",
        "\n",
        "    # Compare the frequency dictionaries\n",
        "    return freq1 == freq2\n",
        "\n",
        "# Example usage:\n",
        "string1 = \"listen\"\n",
        "string2 = \"silent\"\n",
        "\n",
        "if are_anagrams(string1, string2):\n",
        "    print(string1, \"and\", string2, \"are anagrams.\")\n",
        "else:\n",
        "    print(string1, \"and\", string2, \"are not anagrams.\")"
      ],
      "metadata": {
        "colab": {
          "base_uri": "https://localhost:8080/"
        },
        "id": "mkWpFmQ8lTHq",
        "outputId": "57d986cd-ec5e-49f9-9a67-4a31f2853c32"
      },
      "execution_count": 4,
      "outputs": [
        {
          "output_type": "stream",
          "name": "stdout",
          "text": [
            "listen and silent are anagrams.\n"
          ]
        }
      ]
    },
    {
      "cell_type": "markdown",
      "source": [
        "###  Write a code to find all occurrences of a given substring within another string. ###\n",
        "Ans- This code defines a function find_substring_occurrences that takes the main string and the substring to search for as input. It iteratively finds the index of the substring using the find() method. If a match is found, the index is added to a list, and the search continues from the next character. The function returns a list of indices where the substring is found."
      ],
      "metadata": {
        "id": "oYzi1SHOoGJs"
      }
    },
    {
      "cell_type": "code",
      "source": [
        "def find_substring_occurrences(string, substring):\n",
        "    \"\"\"Finds all occurrences of a substring within a string.\n",
        "\n",
        "    Args:\n",
        "        string: The main string.\n",
        "        substring: The substring to search for.\n",
        "\n",
        "    Returns:\n",
        "        A list of indices where the substring is found.\n",
        "    \"\"\"\n",
        "\n",
        "    indices = []\n",
        "    index = 0\n",
        "    while index < len(string):\n",
        "        index = string.find(substring, index)\n",
        "        if index == -1:\n",
        "            break\n",
        "        indices.append(index)\n",
        "        index += 1\n",
        "    return indices\n",
        "\n",
        "# Example usage:\n",
        "main_string = \"The quick brown fox jumps over the lazy dog\"\n",
        "substring = \"the\"\n",
        "\n",
        "occurrences = find_substring_occurrences(main_string.lower(), substring.lower())\n",
        "print(\"Occurrences of '{}' in '{}':\".format(substring, main_string))\n",
        "for index in occurrences:\n",
        "    print(\"Found at index:\", index)"
      ],
      "metadata": {
        "colab": {
          "base_uri": "https://localhost:8080/"
        },
        "id": "mdqPTFv8n-qK",
        "outputId": "d91c33dd-36cf-40b9-fca9-fc7481ae25de"
      },
      "execution_count": 5,
      "outputs": [
        {
          "output_type": "stream",
          "name": "stdout",
          "text": [
            "Occurrences of 'the' in 'The quick brown fox jumps over the lazy dog':\n",
            "Found at index: 0\n",
            "Found at index: 31\n"
          ]
        }
      ]
    },
    {
      "cell_type": "markdown",
      "source": [
        "### Write a code to perform basic string compression using the counts of repeated characters. ###\n",
        "Ans- This code defines a function compress_string that takes a string as input. It iterates through the string, keeping track of consecutive repeated characters and their counts. When a new character is encountered, the previous character and its count are added to the compressed string, and the count is reset. Finally, the last character and its count are added to the compressed string."
      ],
      "metadata": {
        "id": "m0j1_eI4oi_Y"
      }
    },
    {
      "cell_type": "code",
      "source": [
        "def compress_string(string):\n",
        "    \"\"\"Compresses a string by replacing repeated characters with the character and its count.\n",
        "\n",
        "    Args:\n",
        "        string: The input string.\n",
        "\n",
        "    Returns:\n",
        "        The compressed string.\n",
        "    \"\"\"\n",
        "\n",
        "    compressed_string = \"\"\n",
        "    count = 1\n",
        "    for i in range(1, len(string)):\n",
        "        if string[i] == string[i - 1]:\n",
        "            count += 1\n",
        "        else:\n",
        "            compressed_string += string[i - 1] + str(count)\n",
        "\n",
        "            count = 1\n",
        "    compressed_string += string[-1] + str(count)\n",
        "    return compressed_string\n",
        "\n",
        "# Example usage:\n",
        "input_string = \"aabcccccaaa\"\n",
        "compressed_string = compress_string(input_string)\n",
        "print(compressed_string)  # Output: a2b1c5a3"
      ],
      "metadata": {
        "colab": {
          "base_uri": "https://localhost:8080/"
        },
        "id": "lS_BJDX8oRq0",
        "outputId": "caf6fb04-a39a-455d-cb15-67a633536663"
      },
      "execution_count": 6,
      "outputs": [
        {
          "output_type": "stream",
          "name": "stdout",
          "text": [
            "a2b1c5a3\n"
          ]
        }
      ]
    },
    {
      "cell_type": "markdown",
      "source": [
        "###  Write a code to determine if a string has all unique characters. ###\n",
        "Ans- This code defines a function has_unique_chars that takes a string as input. It uses a set to store unique characters encountered. If a character is already in the set, it means the string has duplicate characters, and the function returns False. If the loop completes without finding any duplicates, the function returns True."
      ],
      "metadata": {
        "id": "B5SB0HfUo2Dq"
      }
    },
    {
      "cell_type": "code",
      "source": [
        "def has_unique_chars(string):\n",
        "    \"\"\"Checks if a string has all unique characters.\n",
        "\n",
        "    Args:\n",
        "        string: The input string.\n",
        "\n",
        "    Returns:\n",
        "        True if all characters are unique, False otherwise.\n",
        "    \"\"\"\n",
        "\n",
        "    char_set = set()\n",
        "    for char in string:\n",
        "        if char in char_set:\n",
        "            return False\n",
        "        char_set.add(char)\n",
        "    return True\n",
        "\n",
        "# Example usage:\n",
        "string1 = \"abcde\"\n",
        "string2 = \"hello\"\n",
        "\n",
        "print(has_unique_chars(string1))  # Output: True\n",
        "print(has_unique_chars(string2))  # Output: False"
      ],
      "metadata": {
        "colab": {
          "base_uri": "https://localhost:8080/"
        },
        "id": "ZzeCmBOzow4F",
        "outputId": "c5448843-acb6-42da-c23f-7c66da69b28e"
      },
      "execution_count": 7,
      "outputs": [
        {
          "output_type": "stream",
          "name": "stdout",
          "text": [
            "True\n",
            "False\n"
          ]
        }
      ]
    },
    {
      "cell_type": "markdown",
      "source": [
        "### Write a code to convert a given string to uppercase or lowercase. ###\n",
        "Ans- This code defines a function convert_case that takes a string and the desired case as input. It uses the upper() and lower() methods to convert the string to uppercase or lowercase, respectively. The function raises a ValueError if an invalid case is provided."
      ],
      "metadata": {
        "id": "uE43C_U5pQ2d"
      }
    },
    {
      "cell_type": "code",
      "source": [
        "def convert_case(string, case):\n",
        "    \"\"\"Converts a string to uppercase or lowercase.\n",
        "\n",
        "    Args:\n",
        "        string: The input string.\n",
        "        case: A string, either \"upper\" or \"lower\", indicating the desired case.\n",
        "\n",
        "    Returns:\n",
        "        The converted string.\n",
        "    \"\"\"\n",
        "\n",
        "    if case == \"upper\":\n",
        "        return string.upper()\n",
        "    elif case == \"lower\":\n",
        "        return string.lower()\n",
        "    else:\n",
        "        raise ValueError(\"Invalid case. Please specify 'upper' or 'lower'.\")\n",
        "\n",
        "# Example usage:\n",
        "input_string = \"hEllo, WoRlD!\"\n",
        "\n",
        "upper_case_string = convert_case(input_string, \"upper\")\n",
        "print(upper_case_string)  # Output: HELLO, WORLD!\n",
        "\n",
        "lower_case_string = convert_case(input_string, \"lower\")\n",
        "print(lower_case_string)  # Output: hello, world!"
      ],
      "metadata": {
        "colab": {
          "base_uri": "https://localhost:8080/"
        },
        "id": "_-E88io6pADi",
        "outputId": "da637d3a-3254-48e7-8690-2fab0597d83c"
      },
      "execution_count": 8,
      "outputs": [
        {
          "output_type": "stream",
          "name": "stdout",
          "text": [
            "HELLO, WORLD!\n",
            "hello, world!\n"
          ]
        }
      ]
    },
    {
      "cell_type": "markdown",
      "source": [
        "### Write a code to count the number of words in a string. ###\n",
        "Ans- This code defines a function count_words that takes a string as input. It splits the string into a list of words using the split() method, which splits the string at whitespace characters by default. The len() function is then used to count the number of words in the resulting list."
      ],
      "metadata": {
        "id": "oPymmvXUpeAP"
      }
    },
    {
      "cell_type": "code",
      "source": [
        "def count_words(string):\n",
        "    \"\"\"Counts the number of words in a given string.\n",
        "\n",
        "    Args:\n",
        "        string: The input string.\n",
        "\n",
        "    Returns:\n",
        "        The number of words in the string.\n",
        "    \"\"\"\n",
        "\n",
        "    words = string.split()\n",
        "    return len(words)\n",
        "\n",
        "# Example usage:\n",
        "input_string = \"This is a sample string with five words.\"\n",
        "word_count = count_words(input_string)\n",
        "print(\"Number of words:\", word_count)  # Output: 5"
      ],
      "metadata": {
        "colab": {
          "base_uri": "https://localhost:8080/"
        },
        "id": "W1BZUxivpZnj",
        "outputId": "a5e71d85-6dd9-4e30-f8bd-98d51267ecf9"
      },
      "execution_count": 9,
      "outputs": [
        {
          "output_type": "stream",
          "name": "stdout",
          "text": [
            "Number of words: 8\n"
          ]
        }
      ]
    },
    {
      "cell_type": "markdown",
      "source": [
        "### Write a code to concatenate two strings without using the + operator. ###\n",
        "Ans- Here are a few methods to concatenate strings without using the + operator:"
      ],
      "metadata": {
        "id": "hOHrnjBTp24y"
      }
    },
    {
      "cell_type": "code",
      "source": [
        "#Method 1: Using the join() method:\n",
        "\n",
        "def concatenate_strings(str1, str2):\n",
        "    \"\"\"Concatenates two strings without using the + operator.\n",
        "\n",
        "    Args:\n",
        "        str1: The first string.\n",
        "        str2: The second string.\n",
        "\n",
        "    Returns:\n",
        "        The concatenated string.\n",
        "    \"\"\"\n",
        "\n",
        "    return \"\".join([str1, str2])\n",
        "\n",
        "# Example usage:\n",
        "string1 = \"Hello\"\n",
        "string2 = \"World\"\n",
        "result = concatenate_strings(string1, string2)\n",
        "print(result)  # Output: HelloWorld"
      ],
      "metadata": {
        "colab": {
          "base_uri": "https://localhost:8080/"
        },
        "id": "dcgJL2QApmmH",
        "outputId": "6a3d77b8-e543-4a1b-d541-95ee5b1fce52"
      },
      "execution_count": 10,
      "outputs": [
        {
          "output_type": "stream",
          "name": "stdout",
          "text": [
            "HelloWorld\n"
          ]
        }
      ]
    },
    {
      "cell_type": "code",
      "source": [
        "#Method 2: Using string formatting:\n",
        "\n",
        "def concatenate_strings(str1, str2):\n",
        "    \"\"\"Concatenates two strings without using the + operator.\n",
        "\n",
        "    Args:\n",
        "        str1: The first string.\n",
        "        str2: The second string.\n",
        "\n",
        "    Returns:\n",
        "        The concatenated string.\n",
        "    \"\"\"\n",
        "\n",
        "    return f\"{str1}{str2}\"\n",
        "\n",
        "# Example usage:\n",
        "string1 = \"Hello\"\n",
        "string2 = \"World\"\n",
        "result = concatenate_strings(string1, string2)\n",
        "print(result)  # Output: HelloWorld"
      ],
      "metadata": {
        "colab": {
          "base_uri": "https://localhost:8080/"
        },
        "id": "_4TP2lrJsr56",
        "outputId": "cb569b53-7b59-41df-f626-6327e8214881"
      },
      "execution_count": 11,
      "outputs": [
        {
          "output_type": "stream",
          "name": "stdout",
          "text": [
            "HelloWorld\n"
          ]
        }
      ]
    },
    {
      "cell_type": "markdown",
      "source": [
        "Both methods provide efficient ways to concatenate strings without relying on the + operator."
      ],
      "metadata": {
        "id": "V8aWecUYtKOB"
      }
    },
    {
      "cell_type": "markdown",
      "source": [
        "### Write a code to remove all occurrences of a specific element from a list. ###\n",
        "Ans- This code defines a function remove_element that takes a list and the element to be removed as input. It uses a list comprehension to create a new list, including only the elements that are not equal to the specified element. This efficiently removes all occurrences of the element without modifying the original list."
      ],
      "metadata": {
        "id": "LbJWMoQItLaX"
      }
    },
    {
      "cell_type": "code",
      "source": [
        "def remove_element(lst, element):\n",
        "    \"\"\"Removes all occurrences of a specific element from a list.\n",
        "\n",
        "    Args:\n",
        "        lst: The input list.\n",
        "        element: The element to be removed.\n",
        "\n",
        "    Returns:\n",
        "        The modified list.\n",
        "    \"\"\"\n",
        "\n",
        "    new_list = [item for item in lst if item != element]\n",
        "    return new_list\n",
        "\n",
        "# Example usage:\n",
        "my_list = [1, 2, 3, 2, 4, 2]\n",
        "element_to_remove = 2\n",
        "new_list = remove_element(my_list, element_to_remove)\n",
        "print(new_list)  # Output: [1, 3, 4]"
      ],
      "metadata": {
        "colab": {
          "base_uri": "https://localhost:8080/"
        },
        "id": "ex1dhmWOsy_6",
        "outputId": "11b00fe8-2046-4809-c9a3-eda7e636c24c"
      },
      "execution_count": 12,
      "outputs": [
        {
          "output_type": "stream",
          "name": "stdout",
          "text": [
            "[1, 3, 4]\n"
          ]
        }
      ]
    },
    {
      "cell_type": "markdown",
      "source": [
        "###  Implement a code to find the second largest number in a given list of integers. ###\n",
        "Ans- This code defines a function find_second_largest that takes a list of integers as input. It initializes two variables, largest and second_largest, to negative infinity. Then, it iterates through the list, updating largest and second_largest as needed. Finally, it returns the second_largest value. If the list has less than two elements, it returns None."
      ],
      "metadata": {
        "id": "7xF6K6qStyQ_"
      }
    },
    {
      "cell_type": "code",
      "source": [
        "def find_second_largest(nums):\n",
        "    \"\"\"Finds the second largest number in a list of integers.\n",
        "\n",
        "    Args:\n",
        "        nums: The list of integers.\n",
        "\n",
        "    Returns:\n",
        "        The second largest number, or None if the list has less than two elements.\n",
        "    \"\"\"\n",
        "\n",
        "    if len(nums) < 2:\n",
        "        return None\n",
        "\n",
        "    largest = second_largest = float('-infinity')\n",
        "\n",
        "    for num in nums:\n",
        "        if num > largest:\n",
        "            second_largest = largest\n",
        "            largest = num\n",
        "        elif num > second_largest and num != largest:\n",
        "            second_largest = num\n",
        "\n",
        "\n",
        "    return second_largest\n",
        "\n",
        "# Example usage:\n",
        "numbers = [12, 35, 1, 10, 34, 1]\n",
        "second_largest_num = find_second_largest(numbers)\n",
        "print(\"Second largest number:\", second_largest_num)  # Output: 34"
      ],
      "metadata": {
        "colab": {
          "base_uri": "https://localhost:8080/"
        },
        "id": "Elgzz84Nttap",
        "outputId": "2d2b77ad-ebdf-4248-dcc7-4e6fb48626b6"
      },
      "execution_count": 14,
      "outputs": [
        {
          "output_type": "stream",
          "name": "stdout",
          "text": [
            "Second largest number: 34\n"
          ]
        }
      ]
    },
    {
      "cell_type": "markdown",
      "source": [
        "### Create a code to count the occurrences of each element in a list and return a dictionary with elements as keys and their counts as values. ###\n",
        "Ans- This code defines a function count_occurrences that takes a list as input. It creates an empty dictionary count_dict to store the element counts. The function iterates through each element in the list and updates the corresponding count in the dictionary using the get() method. Finally, it returns the count_dict."
      ],
      "metadata": {
        "id": "QSl3RQTjuHOL"
      }
    },
    {
      "cell_type": "code",
      "source": [
        "def count_occurrences(lst):\n",
        "    \"\"\"Counts the occurrences of each element in a list.\n",
        "\n",
        "    Args:\n",
        "        lst: The input list.\n",
        "\n",
        "    Returns:\n",
        "        A dictionary with elements as keys and their counts as values.\n",
        "    \"\"\"\n",
        "\n",
        "    count_dict = {}\n",
        "    for item in lst:\n",
        "        count_dict[item] = count_dict.get(item, 0) + 1\n",
        "    return count_dict\n",
        "\n",
        "# Example usage:\n",
        "my_list = [1, 2, 3, 2, 1, 4, 1]\n",
        "result = count_occurrences(my_list)\n",
        "print(result)  # Output: {1: 3, 2: 2, 3: 1, 4: 1}"
      ],
      "metadata": {
        "colab": {
          "base_uri": "https://localhost:8080/"
        },
        "id": "1gndTyVgt_mo",
        "outputId": "744d3ae2-7611-47a4-e08a-7e892792f911"
      },
      "execution_count": 15,
      "outputs": [
        {
          "output_type": "stream",
          "name": "stdout",
          "text": [
            "{1: 3, 2: 2, 3: 1, 4: 1}\n"
          ]
        }
      ]
    },
    {
      "cell_type": "markdown",
      "source": [
        "### Write a code to reverse a list in-place without using any built-in reverse functions. ###\n",
        "Ans- This code defines a function reverse_list_in_place that takes a list as input. It iterates through half of the list and swaps elements from the beginning with elements from the end. This effectively reverses the list in-place without creating a new list."
      ],
      "metadata": {
        "id": "du9FryiCuWuc"
      }
    },
    {
      "cell_type": "code",
      "source": [
        "def reverse_list_in_place(lst):\n",
        "    \"\"\"Reverses a list in-place without using built-in reverse functions.\n",
        "\n",
        "    Args:\n",
        "        lst: The list to be reversed.\n",
        "    \"\"\"\n",
        "\n",
        "    n = len(lst)\n",
        "    for i in range(n // 2):\n",
        "        lst[i], lst[n - i - 1] = lst[n - i - 1], lst[i]\n",
        "\n",
        "# Example usage:\n",
        "my_list = [1, 2, 3, 4, 5]\n",
        "reverse_list_in_place(my_list)\n",
        "print(my_list)  # Output: [5, 4, 3, 2, 1]"
      ],
      "metadata": {
        "colab": {
          "base_uri": "https://localhost:8080/"
        },
        "id": "HZxnfpNkuSn-",
        "outputId": "13e3bb8b-5fde-4ec6-98a5-08ad4b7dd374"
      },
      "execution_count": 16,
      "outputs": [
        {
          "output_type": "stream",
          "name": "stdout",
          "text": [
            "[5, 4, 3, 2, 1]\n"
          ]
        }
      ]
    },
    {
      "cell_type": "markdown",
      "source": [
        "### Implement a code to find and remove duplicates from a list while preserving the original order of elements. ###\n",
        "Ans- This code defines a function remove_duplicates_preserving_order that takes a list as input. It creates a set seen to keep track of unique elements encountered. The function iterates through the list, and for each element, it checks if it's already in the seen set. If not, it adds the element to the seen set and appends it to the result list. This ensures that duplicates are removed while preserving the original order of the remaining elements."
      ],
      "metadata": {
        "id": "RT7yphdoukTW"
      }
    },
    {
      "cell_type": "code",
      "source": [
        "def remove_duplicates_preserving_order(lst):\n",
        "    \"\"\"Removes duplicates from a list while preserving the original order.\n",
        "\n",
        "    Args:\n",
        "        lst: The input list.\n",
        "\n",
        "    Returns:\n",
        "        A new list with duplicates removed.\n",
        "    \"\"\"\n",
        "\n",
        "    seen = set()\n",
        "    result = []\n",
        "    for item in lst:\n",
        "        if item not in seen:\n",
        "            seen.add(item)\n",
        "            result.append(item)\n",
        "    return result\n",
        "\n",
        "\n",
        "# Example usage:\n",
        "my_list = [1, 2, 3, 2,\n",
        " 1, 4, 1]\n",
        "result = remove_duplicates_preserving_order(my_list)\n",
        "print(result)  # Output: [1, 2, 3, 4]"
      ],
      "metadata": {
        "colab": {
          "base_uri": "https://localhost:8080/"
        },
        "id": "9TXzznUPudn5",
        "outputId": "d6dff6c1-3555-4082-931c-4d05ccd0684f"
      },
      "execution_count": 17,
      "outputs": [
        {
          "output_type": "stream",
          "name": "stdout",
          "text": [
            "[1, 2, 3, 4]\n"
          ]
        }
      ]
    },
    {
      "cell_type": "markdown",
      "source": [
        "### Create a code to check if a given list is sorted (either in ascending or descending order) or not. ###\n",
        "Ans- This code defines a function is_sorted that takes a list as input. It initializes two boolean variables, is_ascending and is_descending, to True. Then, it iterates through the list, checking if the current element is greater than or less than the previous element. If either condition is violated, the corresponding boolean variable is set to False. Finally, the function returns True if either is_ascending or is_descending is True, indicating that the list is sorted in either ascending or descending order."
      ],
      "metadata": {
        "id": "6JXJlSgau2sO"
      }
    },
    {
      "cell_type": "code",
      "source": [
        "def is_sorted(lst):\n",
        "    \"\"\"Checks if a given list is sorted.\n",
        "\n",
        "    Args:\n",
        "        lst: The input list.\n",
        "\n",
        "    Returns:\n",
        "        True if the list is sorted in ascending or descending order, False otherwise.\n",
        "    \"\"\"\n",
        "\n",
        "    is_ascending = True\n",
        "    is_descending = True\n",
        "\n",
        "    for i in range(1, len(lst)):\n",
        "        if lst[i] < lst[i - 1]:\n",
        "            is_ascending = False\n",
        "        if lst[i] > lst[i - 1]:\n",
        "            is_descending = False\n",
        "\n",
        "    return is_ascending or is_descending\n",
        "\n",
        "# Example usage:\n",
        "list1 = [1, 2, 3, 4, 5]\n",
        "list2 = [5, 4, 3, 2, 1]\n",
        "list3 = [1, 3, 2, 4]\n",
        "\n",
        "print(is_sorted(list1))  # Output: True\n",
        "print(is_sorted(list2))  # Output: True\n",
        "print(is_sorted(list3))  # Output: False"
      ],
      "metadata": {
        "colab": {
          "base_uri": "https://localhost:8080/"
        },
        "id": "IIkTUoJquxwQ",
        "outputId": "84935d63-9dc7-4a2c-cdd0-83d707f33d0a"
      },
      "execution_count": 18,
      "outputs": [
        {
          "output_type": "stream",
          "name": "stdout",
          "text": [
            "True\n",
            "True\n",
            "False\n"
          ]
        }
      ]
    },
    {
      "cell_type": "markdown",
      "source": [
        "### Write a code to merge two sorted lists into a single sorted list. ###\n",
        "Ans- This code defines a function merge_sorted_lists that takes two sorted lists as input. It initializes two pointers, i and j, to track the current positions in list1 and list2, respectively. It then iteratively compares the elements at the current positions of both lists and appends the smaller element to the merged_list. Once one of the lists is exhausted, the remaining elements from the other list are appended to the merged_list. This approach ensures that the merged list remains sorted."
      ],
      "metadata": {
        "id": "ryi08MGFvEgn"
      }
    },
    {
      "cell_type": "code",
      "source": [
        "def merge_sorted_lists(list1, list2):\n",
        "    \"\"\"Merges two sorted lists into a single sorted list.\n",
        "\n",
        "    Args:\n",
        "        list1: The first sorted list.\n",
        "        list2: The second sorted list.\n",
        "\n",
        "    Returns:\n",
        "\n",
        "        A new sorted list containing elements from both input lists.\n",
        "    \"\"\"\n",
        "\n",
        "    merged_list = []\n",
        "    i, j = 0, 0\n",
        "\n",
        "    while i < len(list1) and j < len(list2):\n",
        "        if list1[i] < list2[j]:\n",
        "            merged_list.append(list1[i])\n",
        "            i += 1\n",
        "        else:\n",
        "            merged_list.append(list2[j])\n",
        "\n",
        "            j += 1\n",
        "\n",
        "    # Append remaining elements from the list that hasn't been exhausted\n",
        "    merged_list.extend(list1[i:])\n",
        "    merged_list.extend(list2[j:])\n",
        "\n",
        "    return merged_list\n",
        "\n",
        "# Example usage:\n",
        "list1 = [1, 3, 5, 7]\n",
        "list2 = [2, 4, 6, 8]\n",
        "\n",
        "merged_list = merge_sorted_lists(list1, list2)\n",
        "print(merged_list) # Output: [1, 2, 3, 4, 5, 6, 7, 8]"
      ],
      "metadata": {
        "colab": {
          "base_uri": "https://localhost:8080/"
        },
        "id": "qWby2J6dvBEa",
        "outputId": "db83fab3-649e-431d-e239-df94943182f1"
      },
      "execution_count": 19,
      "outputs": [
        {
          "output_type": "stream",
          "name": "stdout",
          "text": [
            "[1, 2, 3, 4, 5, 6, 7, 8]\n"
          ]
        }
      ]
    },
    {
      "cell_type": "markdown",
      "source": [
        "### Implement a code to find the intersection of two given lists. ###\n",
        "Ans- This code defines a function intersection that takes two lists as input. It converts both lists into sets to efficiently find the intersection using the intersection() method. The resulting intersection set is then converted back to a list and returned."
      ],
      "metadata": {
        "id": "KvyhrGB6vetO"
      }
    },
    {
      "cell_type": "code",
      "source": [
        "def intersection(list1, list2):\n",
        "    \"\"\"Finds the intersection of two lists.\n",
        "\n",
        "    Args:\n",
        "        list1: The first list.\n",
        "        list2: The second list.\n",
        "\n",
        "    Returns:\n",
        "\n",
        "        A new list containing the common elements from both lists.\n",
        "    \"\"\"\n",
        "\n",
        "    set1 = set(list1)\n",
        "    set2 = set(list2)\n",
        "    intersection_set = set1.intersection(set2)\n",
        "    return list(intersection_set)\n",
        "\n",
        "# Example usage:\n",
        "list1 = [1, 2, 3, 4, 5]\n",
        "list2 = [2, 3, 5, 7, 9]\n",
        "\n",
        "result = intersection(list1, list2)\n",
        "print(result)  # Output: [2, 3, 5]"
      ],
      "metadata": {
        "colab": {
          "base_uri": "https://localhost:8080/"
        },
        "id": "TLSv1qdnvWXH",
        "outputId": "b7ca0daa-7d07-45e8-e19a-215c6c4676ea"
      },
      "execution_count": 20,
      "outputs": [
        {
          "output_type": "stream",
          "name": "stdout",
          "text": [
            "[2, 3, 5]\n"
          ]
        }
      ]
    },
    {
      "cell_type": "markdown",
      "source": [
        "### Create a code to find the union of two lists without duplicates. ###\n",
        "Ans- This code defines a function union that takes two lists as input. It first concatenates the two lists using the + operator. Then, it converts the concatenated list into a set to remove duplicates. Finally, it converts the set back to a list and returns it. This approach efficiently finds the union of the two lists while eliminating duplicates."
      ],
      "metadata": {
        "id": "Am1q4mRZvsaY"
      }
    },
    {
      "cell_type": "code",
      "source": [
        "def union(list1, list2):\n",
        "    \"\"\"Finds the union of two lists without duplicates.\n",
        "\n",
        "    Args:\n",
        "        list1: The first list.\n",
        "        list2: The second list.\n",
        "\n",
        "    Returns:\n",
        "        A new list containing the unique elements from both lists.\n",
        "    \"\"\"\n",
        "\n",
        "    union_set = set(list1 + list2)\n",
        "    return list(union_set)\n",
        "\n",
        "# Example usage:\n",
        "list1 = [1, 2, 3, 4, 5]\n",
        "list2 = [2, 3, 5, 7, 9]\n",
        "\n",
        "result = union(list1, list2)\n",
        "print(result)  # Output: [1, 2, 3, 4, 5, 7, 9]"
      ],
      "metadata": {
        "colab": {
          "base_uri": "https://localhost:8080/"
        },
        "id": "NDqa9SQNvm5J",
        "outputId": "bd3049f2-b904-4a7a-954b-2b20889b4cc0"
      },
      "execution_count": 21,
      "outputs": [
        {
          "output_type": "stream",
          "name": "stdout",
          "text": [
            "[1, 2, 3, 4, 5, 7, 9]\n"
          ]
        }
      ]
    },
    {
      "cell_type": "markdown",
      "source": [
        "### Write a code to shuffle a given list randomly without using any built-in shuffle functions. ###\n",
        "Ans- This code implements a simple shuffling algorithm. It iterates through the list and for each element, it randomly selects another element from the remaining part of the list and swaps them. This process ensures that each element has an equal chance of being in any position in the final shuffled list."
      ],
      "metadata": {
        "id": "junh7Oc5v3tW"
      }
    },
    {
      "cell_type": "code",
      "source": [
        "import random\n",
        "\n",
        "def shuffle_list(lst):\n",
        "    \"\"\"Shuffles a list randomly without using built-in shuffle functions.\n",
        "\n",
        "    Args:\n",
        "        lst: The list to be shuffled.\n",
        "\n",
        "    Returns:\n",
        "        The shuffled list.\n",
        "    \"\"\"\n",
        "\n",
        "    for i in range(len(lst)):\n",
        "        # Generate a random index between i and the end of the list\n",
        "        j = random.randint(i, len(lst) - 1)\n",
        "\n",
        "        # Swap elements at indices i and j\n",
        "        lst[i], lst[j] = lst[j], lst[i]\n",
        "\n",
        "    return lst\n",
        "\n",
        "# Example usage:\n",
        "my_list = [1, 2, 3, 4, 5]\n",
        "shuffled_list = shuffle_list(my_list)\n",
        "print(shuffled_list)  # Output: A randomly shuffled list"
      ],
      "metadata": {
        "colab": {
          "base_uri": "https://localhost:8080/"
        },
        "id": "KeBv8EBCv0ho",
        "outputId": "bab8db4f-9f84-4c50-b6db-1f2205eb3083"
      },
      "execution_count": 23,
      "outputs": [
        {
          "output_type": "stream",
          "name": "stdout",
          "text": [
            "[1, 3, 5, 2, 4]\n"
          ]
        }
      ]
    },
    {
      "cell_type": "markdown",
      "source": [
        "### Write a code that takes two tuples as input and returns a new tuple containing elements that are common to both input tuples. ###\n",
        "Ans- This code defines a function common_elements that takes two tuples as input. It converts the tuples into sets to efficiently find the intersection using the intersection() method. The resulting intersection set is then converted back to a tuple and returned."
      ],
      "metadata": {
        "id": "frQfTjVhwYCc"
      }
    },
    {
      "cell_type": "code",
      "source": [
        "def common_elements(tuple1, tuple2):\n",
        "    \"\"\"Finds common elements in two tuples.\n",
        "\n",
        "    Args:\n",
        "        tuple1: The first tuple.\n",
        "        tuple2: The second tuple.\n",
        "\n",
        "    Returns:\n",
        "        A new tuple containing common elements.\n",
        "    \"\"\"\n",
        "\n",
        "    set1 = set(tuple1)\n",
        "    set2 = set(tuple2)\n",
        "    common_set = set1.intersection(set2)\n",
        "    return tuple(common_set)\n",
        "\n",
        "# Example usage:\n",
        "tuple1 = (1, 2, 3, 4, 5)\n",
        "tuple2 = (2, 3, 5, 7, 9)\n",
        "\n",
        "common_elements_tuple = common_elements(tuple1, tuple2)\n",
        "print(common_elements_tuple)  # Output: (2, 3, 5)"
      ],
      "metadata": {
        "colab": {
          "base_uri": "https://localhost:8080/"
        },
        "id": "glqI4Mo6v_rJ",
        "outputId": "e9310efd-40b8-4297-9d16-fbef4cdd301b"
      },
      "execution_count": 24,
      "outputs": [
        {
          "output_type": "stream",
          "name": "stdout",
          "text": [
            "(2, 3, 5)\n"
          ]
        }
      ]
    },
    {
      "cell_type": "markdown",
      "source": [
        "###  Create a code that prompts the user to enter two sets of integers separated by commas. Then, print the intersection of these two sets. ###\n",
        "Ans- This code first prompts the user to enter two sets of integers, separated by commas. It then converts each string into a set of integers using a generator expression. The intersection of these sets is calculated using the intersection() method and printed to the console."
      ],
      "metadata": {
        "id": "iZPaeKzKwmOT"
      }
    },
    {
      "cell_type": "code",
      "source": [
        "def get_intersection(set1_str, set2_str):\n",
        "    \"\"\"Gets two sets of integers from user input and prints their intersection.\n",
        "\n",
        "    Args:\n",
        "        set1_str: A string representing the first set of integers.\n",
        "        set2_str: A string representing the second set of integers.\n",
        "    \"\"\"\n",
        "\n",
        "    set1 = set(int(num) for num in set1_str.split(','))\n",
        "    set2 = set(int(num) for num in set2_str.split(','))\n",
        "    intersection = set1.intersection(set2)\n",
        "    print(\"Intersection:\", intersection)\n",
        "\n",
        "# Get input from the user\n",
        "set1_str = input(\"Enter the first set of integers, separated by commas: \")\n",
        "set2_str = input(\"Enter the second set of integers, separated by commas: \")\n",
        "\n",
        "# Calculate and print the intersection\n",
        "get_intersection(set1_str, set2_str)"
      ],
      "metadata": {
        "colab": {
          "base_uri": "https://localhost:8080/"
        },
        "id": "aNb3p6ekwhPB",
        "outputId": "45a747f4-ab5d-40ee-febb-a9d15c25ffe6"
      },
      "execution_count": 25,
      "outputs": [
        {
          "output_type": "stream",
          "name": "stdout",
          "text": [
            "Enter the first set of integers, separated by commas: 2,3\n",
            "Enter the second set of integers, separated by commas: 3,4\n",
            "Intersection: {3}\n"
          ]
        }
      ]
    },
    {
      "cell_type": "markdown",
      "source": [
        "### Write a code to concatenate two tuples. The function should take two tuples as input and return a new tuple containing elements from both input tuples. ###\n",
        "Ans- This code defines a function concatenate_tuples that takes two tuples as input. It simply uses the + operator to concatenate the two tuples and returns the resulting tuple."
      ],
      "metadata": {
        "id": "828aY-XcxKQM"
      }
    },
    {
      "cell_type": "code",
      "source": [
        "def concatenate_tuples(tuple1, tuple2):\n",
        "    \"\"\"Concatenates two tuples.\n",
        "\n",
        "    Args:\n",
        "        tuple1: The first tuple.\n",
        "        tuple2: The second tuple.\n",
        "\n",
        "    Returns:\n",
        "        A new tuple containing elements from both input tuples.\n",
        "    \"\"\"\n",
        "\n",
        "    return tuple1 + tuple2\n",
        "\n",
        "# Example usage:\n",
        "tuple1 = (1, 2, 3)\n",
        "tuple2 = (4, 5, 6)\n",
        "\n",
        "result = concatenate_tuples(tuple1, tuple2)\n",
        "print(result)  # Output: (1, 2, 3, 4, 5, 6)"
      ],
      "metadata": {
        "colab": {
          "base_uri": "https://localhost:8080/"
        },
        "id": "RHTw0hblwxPY",
        "outputId": "31a3e53e-983a-434c-9e6d-62feeca93f6b"
      },
      "execution_count": 26,
      "outputs": [
        {
          "output_type": "stream",
          "name": "stdout",
          "text": [
            "(1, 2, 3, 4, 5, 6)\n"
          ]
        }
      ]
    },
    {
      "cell_type": "markdown",
      "source": [
        "### Develop a code that prompts the user to input two sets of strings. Then, print the elements that are present in the first set but not in the second set. ###\n",
        "Ans- This code first prompts the user to enter two sets of strings, separated by commas. It then converts each string into a set of strings using the split() method. The - operator is used to find the set difference between the two sets, which gives us the elements present in the first set but not in the second. Finally, the unique elements are printed to the console."
      ],
      "metadata": {
        "id": "jneMWpbgxvxW"
      }
    },
    {
      "cell_type": "code",
      "source": [
        "def find_unique_elements(set1_str, set2_str):\n",
        "    \"\"\"Finds elements in the first set that are not in the second set.\n",
        "\n",
        "    Args:\n",
        "        set1_str: A string representing the first set of strings.\n",
        "        set2_str: A string representing the second set of strings.\n",
        "    \"\"\"\n",
        "\n",
        "    set1 = set(set1_str.split(','))\n",
        "    set2 = set(set2_str.split(','))\n",
        "    unique_elements = set1 - set2\n",
        "    print(\"Elements in the first set but not in the second:\", unique_elements)\n",
        "\n",
        "# Get input from the user\n",
        "set1_str = input(\"Enter the first set of strings, separated by commas: \")\n",
        "set2_str = input(\"Enter the second set of strings, separated by commas: \")\n",
        "\n",
        "# Find and print the unique elements\n",
        "find_unique_elements(set1_str, set2_str)"
      ],
      "metadata": {
        "colab": {
          "base_uri": "https://localhost:8080/"
        },
        "id": "XfSwsK28xnuS",
        "outputId": "0a195743-d6f0-49a5-9e39-662d41bfb95f"
      },
      "execution_count": 27,
      "outputs": [
        {
          "output_type": "stream",
          "name": "stdout",
          "text": [
            "Enter the first set of strings, separated by commas: Fire, Ice\n",
            "Enter the second set of strings, separated by commas: Ice, Air\n",
            "Elements in the first set but not in the second: {'Fire', ' Ice'}\n"
          ]
        }
      ]
    },
    {
      "cell_type": "markdown",
      "source": [
        "### Create a code that takes a tuple and two integers as input. The function should return a new tuple containing elements from the original tuple within the specified range of indices. ###\n",
        "Ans- This code defines a function slice_tuple that takes a tuple and two integers as input. It uses the slicing syntax tuple1[start:end] to extract the desired portion of the tuple and returns it as a new tuple."
      ],
      "metadata": {
        "id": "qZYWkMreyhVG"
      }
    },
    {
      "cell_type": "code",
      "source": [
        "def slice_tuple(tuple1, start, end):\n",
        "    \"\"\"Slices a tuple within a specified range of indices.\n",
        "\n",
        "    Args:\n",
        "        tuple1: The input tuple.\n",
        "        start: The starting index (inclusive).\n",
        "        end: The ending index (exclusive).\n",
        "\n",
        "    Returns:\n",
        "        A new tuple containing elements within the specified range.\n",
        "    \"\"\"\n",
        "\n",
        "    return tuple1[start:end]\n",
        "\n",
        "# Example usage:\n",
        "my_tuple = (1, 2, 3, 4, 5, 6, 7)\n",
        "start_index = 2\n",
        "end_index = 5\n",
        "\n",
        "sliced_tuple = slice_tuple(my_tuple, start_index, end_index)\n",
        "print(sliced_tuple)  # Output: (3, 4, 5)"
      ],
      "metadata": {
        "colab": {
          "base_uri": "https://localhost:8080/"
        },
        "id": "RrQ25amux6A8",
        "outputId": "99c1bbac-a9a5-4017-c661-e11fbbbefbe1"
      },
      "execution_count": 28,
      "outputs": [
        {
          "output_type": "stream",
          "name": "stdout",
          "text": [
            "(3, 4, 5)\n"
          ]
        }
      ]
    },
    {
      "cell_type": "markdown",
      "source": [
        "###  Write a code that prompts the user to input two sets of characters. Then, print the union of these two sets. ###\n",
        "Ans- This code first prompts the user to enter two sets of characters. It then converts each string into a set of characters using the set() constructor. The union() method is used to find the union of these two sets, and the result is printed to the console."
      ],
      "metadata": {
        "id": "TCL6zIwwyxQi"
      }
    },
    {
      "cell_type": "code",
      "source": [
        "def get_union(set1_str, set2_str):\n",
        "    \"\"\"Gets two sets of characters from user input and prints their union.\n",
        "\n",
        "    Args:\n",
        "        set1_str: A string representing the first set of characters.\n",
        "        set2_str: A string representing the second set of characters.\n",
        "    \"\"\"\n",
        "\n",
        "    set1 = set(set1_str)\n",
        "    set2 = set(set2_str)\n",
        "    union_set = set1.union(set2)\n",
        "    print(\"Union:\", union_set)\n",
        "\n",
        "# Get input from the user\n",
        "set1_str = input(\"Enter the first set of characters: \")\n",
        "set2_str = input(\"Enter the second set of characters: \")\n",
        "\n",
        "# Calculate and print the union\n",
        "get_union(set1_str, set2_str)"
      ],
      "metadata": {
        "colab": {
          "base_uri": "https://localhost:8080/"
        },
        "id": "dH27Z-bRyreO",
        "outputId": "a64074dd-58c0-444f-807f-f200e9c7e11a"
      },
      "execution_count": 29,
      "outputs": [
        {
          "output_type": "stream",
          "name": "stdout",
          "text": [
            "Enter the first set of characters: Pratik\n",
            "Enter the second set of characters: Sagar\n",
            "Union: {'S', 'P', 't', 'r', 'a', 'k', 'g', 'i'}\n"
          ]
        }
      ]
    },
    {
      "cell_type": "markdown",
      "source": [
        "### Develop a code that takes a tuple of integers as input. The function should return the maximum and minimum values from the tuple using tuple unpacking. ###\n",
        "Ans- This code defines a function find_max_min that takes a tuple as input. It uses the built-in max() and min() functions to find the maximum and minimum values in the tuple. The results are returned as a tuple, which is unpacked into two variables max_val and min_val."
      ],
      "metadata": {
        "id": "ztg7MSM9zP76"
      }
    },
    {
      "cell_type": "code",
      "source": [
        "def find_max_min(tuple1):\n",
        "    \"\"\"Finds the maximum and minimum values in a tuple.\n",
        "\n",
        "    Args:\n",
        "        tuple1: The input tuple.\n",
        "\n",
        "    Returns:\n",
        "        A tuple containing the maximum and minimum values.\n",
        "    \"\"\"\n",
        "\n",
        "    max_value = max(tuple1)\n",
        "    min_value = min(tuple1)\n",
        "    return max_value, min_value\n",
        "\n",
        "# Example usage:\n",
        "my_tuple = (10, 5, 20, 8, 15)\n",
        "max_val, min_val = find_max_min(my_tuple)\n",
        "print(\"Maximum value:\", max_val)  # Output: 20\n",
        "print(\"Minimum value:\", min_val)  # Output: 5"
      ],
      "metadata": {
        "colab": {
          "base_uri": "https://localhost:8080/"
        },
        "id": "8agCQ6YAy3zP",
        "outputId": "7b87e913-dea9-448c-8916-3391ed260d84"
      },
      "execution_count": 30,
      "outputs": [
        {
          "output_type": "stream",
          "name": "stdout",
          "text": [
            "Maximum value: 20\n",
            "Minimum value: 5\n"
          ]
        }
      ]
    },
    {
      "cell_type": "markdown",
      "source": [
        "### Create a code that defines two sets of integers. Then, print the union, intersection, and difference of these two sets. ###\n",
        "Ans- This code defines a function set_operations that takes two sets of integers as input.\n",
        "\n",
        "It performs the following set operations:\n",
        "\n",
        "a. Union: Combines all unique elements from both sets.\n",
        "\n",
        "b. Intersection: Finds the common elements between the two sets.\n",
        "\n",
        "c. Difference: Finds the elements present in the first set but not in the second.\n",
        "\n",
        "d. The results of these operations are printed to the console."
      ],
      "metadata": {
        "id": "ELzgZKOlzcze"
      }
    },
    {
      "cell_type": "code",
      "source": [
        "def set_operations(set1, set2):\n",
        "    \"\"\"Performs set operations on two sets of integers.\n",
        "\n",
        "    Args:\n",
        "        set1: The first set of integers.\n",
        "        set2: The second set of integers.\n",
        "    \"\"\"\n",
        "\n",
        "    union_set = set1.union(set2)\n",
        "    intersection_set = set1.intersection(set2)\n",
        "    difference_set = set1.difference(set2)\n",
        "\n",
        "    print(\"Union:\", union_set)\n",
        "    print(\"Intersection:\", intersection_set)\n",
        "    print(\"Difference (set1 - set2):\", difference_set)\n",
        "\n",
        "# Example usage:\n",
        "set1 = {1, 2, 3, 4, 5}\n",
        "set2 = {2, 4, 6, 8}\n",
        "\n",
        "set_operations(set1, set2)"
      ],
      "metadata": {
        "colab": {
          "base_uri": "https://localhost:8080/"
        },
        "id": "w12JmaC2zZAX",
        "outputId": "4acf79f3-97c1-41a9-9e03-c0a9f73379b2"
      },
      "execution_count": 32,
      "outputs": [
        {
          "output_type": "stream",
          "name": "stdout",
          "text": [
            "Union: {1, 2, 3, 4, 5, 6, 8}\n",
            "Intersection: {2, 4}\n",
            "Difference (set1 - set2): {1, 3, 5}\n"
          ]
        }
      ]
    },
    {
      "cell_type": "markdown",
      "source": [
        "### Write a code that takes a tuple and an element as input. The function should return the count of occurrences of the given element in the tuple. ###\n",
        "Ans- This code defines a function count_occurrences that takes a tuple and an element as input. It uses the count() method of the tuple to efficiently count the occurrences of the given element and returns the result."
      ],
      "metadata": {
        "id": "MsjCL6w7z3la"
      }
    },
    {
      "cell_type": "code",
      "source": [
        "def count_occurrences(tuple1, element):\n",
        "    \"\"\"Counts the occurrences of an element in a tuple.\n",
        "\n",
        "    Args:\n",
        "        tuple1: The input tuple.\n",
        "        element: The element to count.\n",
        "\n",
        "    Returns:\n",
        "        The number of occurrences of the element in the tuple.\n",
        "    \"\"\"\n",
        "\n",
        "    count = tuple1.count(element)\n",
        "    return count\n",
        "\n",
        "# Example usage:\n",
        "my_tuple = (1, 2, 3, 2, 1, 4, 1)\n",
        "element_to_count = 1\n",
        "\n",
        "count = count_occurrences(my_tuple, element_to_count)\n",
        "print(\"Count of\", element_to_count, \":\", count)  # Output: Count of 1 : 3"
      ],
      "metadata": {
        "colab": {
          "base_uri": "https://localhost:8080/"
        },
        "id": "toDnuWKxzwW5",
        "outputId": "b47857bb-47c5-48a3-99fc-eb1129967992"
      },
      "execution_count": 33,
      "outputs": [
        {
          "output_type": "stream",
          "name": "stdout",
          "text": [
            "Count of 1 : 3\n"
          ]
        }
      ]
    },
    {
      "cell_type": "markdown",
      "source": [
        "### Develop a code that prompts the user to input two sets of strings. Then, print the symmetric difference of these two sets. ###\n",
        "Ans- This code first prompts the user to enter two sets of strings, separated by commas. It then converts each string into a set of strings using the split() method. The symmetric_difference() method is used to find the symmetric difference between the two sets, which contains elements that are in either set but not in both. The resulting symmetric difference set is printed to the console."
      ],
      "metadata": {
        "id": "dVdn9KJW0Fk-"
      }
    },
    {
      "cell_type": "code",
      "source": [
        "def get_symmetric_difference(set1_str, set2_str):\n",
        "    \"\"\"Gets two sets of strings from user input and prints their symmetric difference.\n",
        "\n",
        "    Args:\n",
        "        set1_str: A string representing the first set of strings.\n",
        "        set2_str: A string representing the second set of strings.\n",
        "    \"\"\"\n",
        "\n",
        "    set1 = set(set1_str.split(','))\n",
        "    set2 = set(set2_str.split(','))\n",
        "    symmetric_difference = set1.symmetric_difference(set2)\n",
        "    print(\"Symmetric difference:\", symmetric_difference)\n",
        "\n",
        "# Get input from the user\n",
        "set1_str = input(\"Enter the first set of strings, separated by commas: \")\n",
        "set2_str = input(\"Enter the second set of strings, separated by commas: \")\n",
        "\n",
        "# Calculate and print the symmetric difference\n",
        "get_symmetric_difference(set1_str, set2_str)"
      ],
      "metadata": {
        "colab": {
          "base_uri": "https://localhost:8080/"
        },
        "id": "1Z5NW6hz0A-b",
        "outputId": "f79a9a4d-2322-451d-f6cf-bb54eba9da2e"
      },
      "execution_count": 34,
      "outputs": [
        {
          "output_type": "stream",
          "name": "stdout",
          "text": [
            "Enter the first set of strings, separated by commas: Fire, Ice\n",
            "Enter the second set of strings, separated by commas: Ice, Air\n",
            "Symmetric difference: {'Ice', 'Fire', ' Air', ' Ice'}\n"
          ]
        }
      ]
    },
    {
      "cell_type": "markdown",
      "source": [
        "### Write a code that takes a list of words as input and returns a dictionary where the keys are unique words and the values are the frequencies of those words in the input list. ###\n",
        "Ans- This code defines a function word_frequency that takes a list of words as input. It creates an empty dictionary word_counts to store the word frequencies. The function iterates through each word in the list and updates its count in the dictionary using the get() method. Finally, it returns the word_counts dictionary."
      ],
      "metadata": {
        "id": "9v0mQjTJ0jEW"
      }
    },
    {
      "cell_type": "code",
      "source": [
        "def word_frequency(words):\n",
        "    \"\"\"Counts the frequency of each word in a list.\n",
        "\n",
        "    Args:\n",
        "        words: A list of words.\n",
        "\n",
        "    Returns:\n",
        "        A dictionary with words as keys and their frequencies as values.\n",
        "    \"\"\"\n",
        "\n",
        "    word_counts = {}\n",
        "    for word in words:\n",
        "        word_counts[word] = word_counts.get(word, 0) + 1\n",
        "    return word_counts\n",
        "\n",
        "# Example usage:\n",
        "words = [\"apple\", \"banana\", \"apple\", \"orange\", \"banana\"]\n",
        "word_freq = word_frequency(words)\n",
        "print(word_freq)  # Output: {'apple': 2, 'banana': 2, 'orange': 1}"
      ],
      "metadata": {
        "colab": {
          "base_uri": "https://localhost:8080/"
        },
        "id": "YO_2ga7D0Pb3",
        "outputId": "c99b40dc-0498-4f7c-bc8d-5d2da3feff0e"
      },
      "execution_count": 35,
      "outputs": [
        {
          "output_type": "stream",
          "name": "stdout",
          "text": [
            "{'apple': 2, 'banana': 2, 'orange': 1}\n"
          ]
        }
      ]
    },
    {
      "cell_type": "markdown",
      "source": [
        "### Write a code that takes two dictionaries as input and merges them into a single dictionary. If there are common keys, the values should be added together. ###\n",
        "Ans- This code defines a function merge_dictionaries that takes two dictionaries as input. It creates a copy of the first dictionary to avoid modifying it directly.\n",
        "\n",
        "Then, it iterates through the second dictionary, and for each key-value pair:\n",
        "\n",
        "a. Checks if the key exists in the merged dictionary.\n",
        "\n",
        "b. If the key exists, adds the value from the second dictionary to the existing value in the merged dictionary.\n",
        "\n",
        "c. If the key doesn't exist, adds the key-value pair from the second dictionary to the merged dictionary.\n",
        "\n",
        "Finally, the function returns the merged dictionary.\n",
        "\n",
        "\n",
        "Sources and related content\n"
      ],
      "metadata": {
        "id": "PYVAua7W0vp7"
      }
    },
    {
      "cell_type": "code",
      "source": [
        "def merge_dictionaries(dict1, dict2):\n",
        "    \"\"\"Merges two dictionaries, adding values for common keys.\n",
        "\n",
        "    Args:\n",
        "        dict1: The first dictionary.\n",
        "        dict2: The second dictionary.\n",
        "\n",
        "    Returns:\n",
        "        A new dictionary with\n",
        " merged keys and values.\n",
        "    \"\"\"\n",
        "\n",
        "    merged_dict = dict1.copy()\n",
        "    for key, value in dict2.items():\n",
        "        merged_dict[key] = merged_dict.get(key, 0) + value\n",
        "    return merged_dict\n",
        "\n",
        "# Example usage:\n",
        "dict1 = {'a': 10, 'b': 20, 'c': 30}\n",
        "dict2 = {'b': 40, 'd': 50}\n",
        "\n",
        "merged_dict = merge_dictionaries(dict1, dict2)\n",
        "print(merged_dict)  # Output: {'a': 10, 'b': 60, 'c': 30, 'd': 50}"
      ],
      "metadata": {
        "colab": {
          "base_uri": "https://localhost:8080/"
        },
        "id": "7B0NeNE90sCJ",
        "outputId": "bdb29bb4-10e0-4deb-f929-9008c8612491"
      },
      "execution_count": 36,
      "outputs": [
        {
          "output_type": "stream",
          "name": "stdout",
          "text": [
            "{'a': 10, 'b': 60, 'c': 30, 'd': 50}\n"
          ]
        }
      ]
    },
    {
      "cell_type": "markdown",
      "source": [
        "### Write a code to access a value in a nested dictionary. The function should take the dictionary and a list of keys as input, and return the corresponding value. If any of the keys do not exist in the dictionary, the function should return None. ###\n",
        "Ans- This code defines a function access_nested_value that takes a nested dictionary and a list of keys as input. It iteratively accesses the dictionary using the keys provided. If a key is found, the function moves to the next level of the dictionary. If a key is not found, the function returns None.\n",
        "\n",
        "This approach is flexible and can handle nested dictionaries of arbitrary depth."
      ],
      "metadata": {
        "id": "FR4sM2dO1M82"
      }
    },
    {
      "cell_type": "code",
      "source": [
        "def access_nested_value(dictionary, keys):\n",
        "    \"\"\"Accesses a value in a nested dictionary using a list of keys.\n",
        "\n",
        "    Args:\n",
        "        dictionary: The nested dictionary.\n",
        "        keys: A list of keys to access the value.\n",
        "\n",
        "    Returns:\n",
        "        The value at the specified path, or None if the path is invalid.\n",
        "    \"\"\"\n",
        "\n",
        "    current_dict = dictionary\n",
        "    for key in keys:\n",
        "        if key in current_dict:\n",
        "            current_dict = current_dict[key]\n",
        "        else:\n",
        "            return None\n",
        "    return current_dict\n",
        "\n",
        "# Example usage:\n",
        "nested_dict = {\n",
        "    \"a\": {\n",
        "        \"b\": {\n",
        "            \"c\": 10\n",
        "        }\n",
        "    }\n",
        "}\n",
        "\n",
        "keys = [\"a\", \"b\", \"c\"]\n",
        "value = access_nested_value(nested_dict, keys)\n",
        "print(value)  # Output: 10"
      ],
      "metadata": {
        "colab": {
          "base_uri": "https://localhost:8080/"
        },
        "id": "igeLI9yT1JDQ",
        "outputId": "a6de1ab1-e6dd-4c0e-80df-68c5e6fb8750"
      },
      "execution_count": 37,
      "outputs": [
        {
          "output_type": "stream",
          "name": "stdout",
          "text": [
            "10\n"
          ]
        }
      ]
    },
    {
      "cell_type": "markdown",
      "source": [
        "###  Write a code that takes a dictionary as input and returns a sorted version of it based on the values. You can choose whether to sort in ascending or descending order. ###\n",
        "Ans- This code defines a function sort_dict_by_value that takes a dictionary and an optional ascending flag as input. It sorts the dictionary's items based on their values using the sorted() function with a lambda function as the key argument. The reverse parameter of the sorted() function is used to control the sorting order.\n",
        "\n",
        "The function returns a list of tuples, where each tuple contains a key-value pair from the sorted dictionary. You can further process this list to obtain a sorted dictionary or extract specific information from it."
      ],
      "metadata": {
        "id": "8UIVfnpd1dcu"
      }
    },
    {
      "cell_type": "code",
      "source": [
        "def sort_dict_by_value(dictionary, ascending=True):\n",
        "    \"\"\"Sorts a dictionary by its values.\n",
        "\n",
        "    Args:\n",
        "        dictionary: The input dictionary.\n",
        "        ascending: If True, sorts in ascending order; otherwise, descending.\n",
        "\n",
        "    Returns:\n",
        "        A list of tuples, where each tuple contains a key-value pair from the sorted dictionary.\n",
        "    \"\"\"\n",
        "\n",
        "    sorted_items = sorted(dictionary.items(), key=lambda x: x[1], reverse=not ascending)\n",
        "    return sorted_items\n",
        "\n",
        "# Example usage:\n",
        "my_dict = {'a': 3, 'b': 1, 'c': 5, 'd': 2}\n",
        "\n",
        "# Sort in ascending order\n",
        "sorted_dict_asc = sort_dict_by_value(my_dict)\n",
        "print(sorted_dict_asc)  # Output: [('b', 1), ('d', 2), ('a', 3), ('c', 5)]\n",
        "\n",
        "# Sort in descending order\n",
        "sorted_dict_desc = sort_dict_by_value(my_dict, False)\n",
        "print(sorted_dict_desc)  # Output: [('c', 5), ('a', 3), ('d', 2), ('b', 1)]"
      ],
      "metadata": {
        "colab": {
          "base_uri": "https://localhost:8080/"
        },
        "id": "pClG0Xd41ZBV",
        "outputId": "13aef451-6936-468f-c087-3cfb9409aedc"
      },
      "execution_count": 38,
      "outputs": [
        {
          "output_type": "stream",
          "name": "stdout",
          "text": [
            "[('b', 1), ('d', 2), ('a', 3), ('c', 5)]\n",
            "[('c', 5), ('a', 3), ('d', 2), ('b', 1)]\n"
          ]
        }
      ]
    },
    {
      "cell_type": "markdown",
      "source": [
        "### Write a code that inverts a dictionary, swapping keys and values. Ensure that the inverted dictionary correctly handles cases where multiple keys have the same value by storing the keys as a list in the inverted dictionary. ###\n",
        "Ans- This code defines a function invert_dictionary that takes a dictionary as input. It iterates through each key-value pair in the original dictionary. If the value is not already a key in the inverted dictionary, a new key-value pair is added with the value as the key and a list containing the original key as the value. If the value already exists as a key in the inverted dictionary, the original key is appended to the existing list of keys. This ensures that multiple keys with the same value are handled correctly."
      ],
      "metadata": {
        "id": "g5g72Uds1sco"
      }
    },
    {
      "cell_type": "code",
      "source": [
        "def invert_dictionary(dictionary):\n",
        "    \"\"\"Inverts a dictionary, swapping keys and values.\n",
        "\n",
        "    Args:\n",
        "        dictionary: The input dictionary.\n",
        "\n",
        "    Returns:\n",
        "        The inverted dictionary.\n",
        "    \"\"\"\n",
        "\n",
        "    inverted_dict = {}\n",
        "    for key, value in dictionary.items():\n",
        "        if value not in inverted_dict:\n",
        "            inverted_dict[value] = [key]\n",
        "        else:\n",
        "            inverted_dict[value].append(key)\n",
        "    return inverted_dict\n",
        "\n",
        "# Example usage:\n",
        "original_dict = {'a': 1, 'b': 2, 'c': 1, 'd': 3}\n",
        "inverted_dict = invert_dictionary(original_dict)\n",
        "print(inverted_dict)  # Output: {1: ['a', 'c'], 2: ['b'], 3: ['d']}"
      ],
      "metadata": {
        "colab": {
          "base_uri": "https://localhost:8080/"
        },
        "id": "6c2dQxJK1lYx",
        "outputId": "ff39da81-43e0-4537-eb11-91516e5a1cb1"
      },
      "execution_count": 39,
      "outputs": [
        {
          "output_type": "stream",
          "name": "stdout",
          "text": [
            "{1: ['a', 'c'], 2: ['b'], 3: ['d']}\n"
          ]
        }
      ]
    },
    {
      "cell_type": "code",
      "source": [],
      "metadata": {
        "id": "w-_Mr5fj2CtY"
      },
      "execution_count": null,
      "outputs": []
    }
  ]
}