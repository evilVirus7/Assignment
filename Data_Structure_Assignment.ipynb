{
  "nbformat": 4,
  "nbformat_minor": 0,
  "metadata": {
    "colab": {
      "provenance": []
    },
    "kernelspec": {
      "name": "python3",
      "display_name": "Python 3"
    },
    "language_info": {
      "name": "python"
    }
  },
  "cells": [
    {
      "cell_type": "markdown",
      "source": [
        "### Discuss string slicing and provide examples. ###\n",
        "Ans- String Slicing\n",
        "\n",
        "String slicing is a powerful technique in Python that allows you to extract specific portions of a string. It's done using square brackets [] and specifying the start and end indices of the desired substring."
      ],
      "metadata": {
        "id": "ugFvujZQnlAU"
      }
    },
    {
      "cell_type": "code",
      "source": [
        "#Basic Syntax:\n",
        "\n",
        "string[start:end:step]"
      ],
      "metadata": {
        "id": "vrrUtachoX5M"
      },
      "execution_count": null,
      "outputs": []
    },
    {
      "cell_type": "markdown",
      "source": [
        "a. start: The index of the first character to include (inclusive).\n",
        "\n",
        "b. end: The index of the first character to exclude (exclusive).\n",
        "\n",
        "c. step: The number of characters to skip between each character (default is 1)."
      ],
      "metadata": {
        "id": "pyay9e6EoE3r"
      }
    },
    {
      "cell_type": "code",
      "source": [
        "#Example-\n",
        "\n",
        "my_string = \"Hello, World!\"\n",
        "\n",
        "# Extract the first 5 characters\n",
        "print(my_string[:5])  # Output: Hello\n",
        "\n",
        "# Extract characters from index 7 to the end\n",
        "print(my_string[7:])  # Output: World!\n",
        "\n",
        "# Extract every second character\n",
        "print(my_string[::2])  # Output: Hlo ol!\n",
        "\n",
        "# Reverse the string\n",
        "print(my_string[::-1])  # Output: !dlroW ,olleH\n",
        "\n",
        "# Extract characters from index 2 to 8, skipping every other character\n",
        "print(my_string[2:8:2])  # Output: loW"
      ],
      "metadata": {
        "colab": {
          "base_uri": "https://localhost:8080/"
        },
        "id": "mEZ9h17NoBbg",
        "outputId": "560bc80a-22ce-4a94-b2da-d5ce20abd378"
      },
      "execution_count": 3,
      "outputs": [
        {
          "output_type": "stream",
          "name": "stdout",
          "text": [
            "Hello\n",
            "World!\n",
            "Hlo ol!\n",
            "!dlroW ,olleH\n",
            "lo \n"
          ]
        }
      ]
    },
    {
      "cell_type": "markdown",
      "source": [
        "Key Points:\n",
        "\n",
        "a. If the start index is omitted, it defaults to 0 (the beginning of the string).\n",
        "\n",
        "b. If the end index is omitted, it defaults to the length of the string (the end of the string).\n",
        "\n",
        "c. A negative start or end index counts from the end of the string.\n",
        "\n",
        "d. A negative step value reverses the slicing direction."
      ],
      "metadata": {
        "id": "SxUB9Gw3onoo"
      }
    },
    {
      "cell_type": "markdown",
      "source": [
        "### Explain the key features of lists in Python. ###\n",
        "Ans- Key Features of Lists in Python\n",
        "\n",
        "Lists are one of the most versatile data structures in Python, offering a variety of features for storing and manipulating data. Here are some of the key features:\n",
        "\n",
        "1. Ordered Sequence:\n",
        "\n",
        "Elements in a list are ordered, meaning they have a specific index position.\n",
        "You can access elements using their index, starting from 0.\n",
        "\n",
        "2. Mutable:\n",
        "\n",
        "Lists are mutable, which means you can change their elements after creation.\n",
        "\n",
        "You can add, remove, or modify elements using various methods.\n",
        "\n",
        "3. Heterogeneous:\n",
        "\n",
        "A list can hold elements of different data types, such as integers, strings, floats, and even other lists.\n",
        "\n",
        "4. Slicing:\n",
        "\n",
        "You can extract specific portions of a list using slicing. This involves specifying the start and end indices, and optionally a step size.\n",
        "\n",
        "5. Common Operations:\n",
        "\n",
        "Indexing: Accessing individual elements using their index.\n",
        "\n",
        "Slicing: Extracting subsets of the list.\n",
        "\n",
        "Concatenation: Combining two or more lists using the + operator.\n",
        "\n",
        "Length: Finding the number of elements using the len() function.\n",
        "\n",
        "Membership Testing: Checking if an element exists in the list using the in keyword.\n",
        "\n",
        "Iteration: Looping over elements using for loops."
      ],
      "metadata": {
        "id": "ZT7kL1mfo9sx"
      }
    },
    {
      "cell_type": "code",
      "source": [
        "#Example-\n",
        "\n",
        "my_list = [10, \"hello\", 3.14, [2, 4, 6]]\n",
        "\n",
        "# Accessing elements\n",
        "print(my_list[0])  # Output: 10\n",
        "print(my_list[2])  # Output: 3.14\n",
        "\n",
        "# Slicing\n",
        "print(my_list[1:3])  # Output: ['hello', 3.14]\n",
        "\n",
        "# Concatenation\n",
        "new_list = my_list + [5, \"world\"]\n",
        "print(new_list)  # Output: [10, 'hello', 3.14, [2, 4, 6], 5, 'world']\n",
        "\n",
        "# Length\n",
        "print(len(my_list))  # Output: 4\n",
        "\n",
        "# Membership testing\n",
        "print(10 in my_list)  # Output: True\n",
        "\n",
        "# Iteration\n",
        "for item in my_list:\n",
        "    print(item)"
      ],
      "metadata": {
        "colab": {
          "base_uri": "https://localhost:8080/"
        },
        "id": "dfkZYf8nojAQ",
        "outputId": "5546b8b9-ce86-43c0-b27c-13c1a27fe2fc"
      },
      "execution_count": 4,
      "outputs": [
        {
          "output_type": "stream",
          "name": "stdout",
          "text": [
            "10\n",
            "3.14\n",
            "['hello', 3.14]\n",
            "[10, 'hello', 3.14, [2, 4, 6], 5, 'world']\n",
            "4\n",
            "True\n",
            "10\n",
            "hello\n",
            "3.14\n",
            "[2, 4, 6]\n"
          ]
        }
      ]
    },
    {
      "cell_type": "markdown",
      "source": [
        "### Describe how to access, modify, and delete elements in a list with examples. ###\n",
        "Ans- Accessing Elements:\n",
        "\n",
        "You can access elements in a list using their index, which starts from 0."
      ],
      "metadata": {
        "id": "9v98axk8p-4d"
      }
    },
    {
      "cell_type": "code",
      "source": [
        "my_list = [10, 20, 30, 40, 50]\n",
        "\n",
        "# Accessing the first element\n",
        "print(my_list[0])  # Output: 10\n",
        "\n",
        "# Accessing the last element\n",
        "print(my_list[-1])  # Output: 50\n",
        "\n",
        "# Accessing elements from index 2 to 4 (exclusive)\n",
        "print(my_list[2:4])  # Output: [30, 40]"
      ],
      "metadata": {
        "colab": {
          "base_uri": "https://localhost:8080/"
        },
        "id": "NeCb5XILpem5",
        "outputId": "f33674bf-3fdf-4ccc-c737-8f02a5987a03"
      },
      "execution_count": 5,
      "outputs": [
        {
          "output_type": "stream",
          "name": "stdout",
          "text": [
            "10\n",
            "50\n",
            "[30, 40]\n"
          ]
        }
      ]
    },
    {
      "cell_type": "markdown",
      "source": [
        "Modifying Elements:\n",
        "\n",
        "You can modify elements in a list by assigning new values to their indices."
      ],
      "metadata": {
        "id": "b2cdL4lNqSXt"
      }
    },
    {
      "cell_type": "code",
      "source": [
        "my_list = [10, 20, 30, 40, 50]\n",
        "\n",
        "# Modify the second element\n",
        "my_list[1] = 25\n",
        "print(my_list)  # Output: [10, 25, 30, 40, 50]"
      ],
      "metadata": {
        "colab": {
          "base_uri": "https://localhost:8080/"
        },
        "id": "Iln_nt-IqPHM",
        "outputId": "26e78b49-d066-477f-d4d8-d354dc66454b"
      },
      "execution_count": 6,
      "outputs": [
        {
          "output_type": "stream",
          "name": "stdout",
          "text": [
            "[10, 25, 30, 40, 50]\n"
          ]
        }
      ]
    },
    {
      "cell_type": "markdown",
      "source": [
        "Deleting Elements:\n",
        "\n",
        "You can delete elements using the del keyword or the pop() method.\n",
        "\n",
        "Using del:"
      ],
      "metadata": {
        "id": "z7qqVmLkqZUe"
      }
    },
    {
      "cell_type": "code",
      "source": [
        "my_list = [10, 20, 30, 40, 50]\n",
        "\n",
        "# Delete the third element\n",
        "del my_list[2]\n",
        "print(my_list)  # Output: [10, 20, 40, 50]"
      ],
      "metadata": {
        "colab": {
          "base_uri": "https://localhost:8080/"
        },
        "id": "iLPMDPWfqVkE",
        "outputId": "c82ee267-225d-4e4f-e97c-252e3417791d"
      },
      "execution_count": 7,
      "outputs": [
        {
          "output_type": "stream",
          "name": "stdout",
          "text": [
            "[10, 20, 40, 50]\n"
          ]
        }
      ]
    },
    {
      "cell_type": "markdown",
      "source": [
        "Using pop():"
      ],
      "metadata": {
        "id": "S-MPxIYTqfaE"
      }
    },
    {
      "cell_type": "code",
      "source": [
        "my_list = [10, 20, 30, 40, 50]\n",
        "\n",
        "# Remove and return the last element\n",
        "last_element = my_list.pop()\n",
        "print(last_element)  # Output: 50\n",
        "print(my_list)  # Output: [10, 20, 30, 40]\n",
        "\n",
        "# Remove and return the element at index 1\n",
        "second_element = my_list.pop(1)\n",
        "print(second_element)  # Output: 20\n",
        "print(my_list)  # Output: [10, 30, 40]"
      ],
      "metadata": {
        "colab": {
          "base_uri": "https://localhost:8080/"
        },
        "id": "HmUiTDXsqcmt",
        "outputId": "3566c75d-ad4f-48ff-e3fb-455fa4730a75"
      },
      "execution_count": 8,
      "outputs": [
        {
          "output_type": "stream",
          "name": "stdout",
          "text": [
            "50\n",
            "[10, 20, 30, 40]\n",
            "20\n",
            "[10, 30, 40]\n"
          ]
        }
      ]
    },
    {
      "cell_type": "markdown",
      "source": [
        "### Compare and contrast tuples and lists with examples. ###\n",
        "Ans- Tuples vs. Lists\n",
        "\n",
        "Both tuples and lists are fundamental data structures in Python, used to store collections of items. However, they differ in terms of mutability.\n",
        "\n",
        "Lists:\n",
        "\n",
        "Mutable: Elements can be added, removed, or modified after creation.\n",
        "\n",
        "Syntax: Enclosed in square brackets [].\n",
        "\n",
        "Common Use Cases:\n",
        "\n",
        "a. Storing a collection of items that may change.\n",
        "\n",
        "b. Implementing stacks and queues.\n",
        "\n",
        "c. Representing matrices and other data structures."
      ],
      "metadata": {
        "id": "YY0zqtqkriB8"
      }
    },
    {
      "cell_type": "code",
      "source": [
        "#Example-\n",
        "\n",
        "my_list = [1, 2, 3, \"hello\", True]\n",
        "my_list[1] = 10  # Modifying an element\n",
        "my_list.append(4)  # Adding an element"
      ],
      "metadata": {
        "id": "lMvmyadWqjJm"
      },
      "execution_count": 9,
      "outputs": []
    },
    {
      "cell_type": "markdown",
      "source": [
        "Tuples:\n",
        "\n",
        "Immutable: Elements cannot be changed after creation.\n",
        "\n",
        "Syntax: Enclosed in parentheses ().\n",
        "\n",
        "Common Use Cases:\n",
        "\n",
        "a. Storing fixed data that should not be modified.\n",
        "\n",
        "b. Representing records or fixed-size data structures.\n",
        "\n",
        "c. Returning multiple values from a function."
      ],
      "metadata": {
        "id": "dg4vOF1yr1_c"
      }
    },
    {
      "cell_type": "code",
      "source": [
        "#Example-\n",
        "\n",
        "my_tuple = (1, 2, 3, \"hello\", True)\n",
        "# my_tuple[1] = 10  # This will raise a TypeError"
      ],
      "metadata": {
        "id": "9Pdh4F7arzBt"
      },
      "execution_count": 10,
      "outputs": []
    },
    {
      "cell_type": "markdown",
      "source": [
        "In Summary:\n",
        "\n",
        "Use lists when you need to modify the contents of a collection.\n",
        "\n",
        "Use tuples when you want to ensure that the data remains unchanged."
      ],
      "metadata": {
        "id": "28kzH6disCFS"
      }
    },
    {
      "cell_type": "markdown",
      "source": [
        "### Describe the key features of sets and provide examples of their use. ###\n",
        "Ans- Key Features of Sets in Python\n",
        "\n",
        "Sets in Python are unordered collections of unique elements. They are defined by enclosing elements within curly braces {} or using the set() constructor.\n",
        "\n",
        "Key Features:\n",
        "\n",
        "a. Unordered: Elements in a set do not have a specific order.\n",
        "\n",
        "b. Unique: Each element in a set must be unique. Duplicates are automatically removed.\n",
        "\n",
        "c. Mutable: Elements can be added or removed after the set is created.\n",
        "\n",
        "d. Set Operations: Sets support various mathematical set operations like union, intersection, difference, and symmetric difference."
      ],
      "metadata": {
        "id": "6jEXhgm8sIPy"
      }
    },
    {
      "cell_type": "code",
      "source": [
        "#Example-\n",
        "\n",
        "my_set = {1, 2, 3, 3, 4, \"hello\"}\n",
        "print(my_set)  # Output: {1, 2, 3, 4, 'hello'} (Note: duplicate 3 is removed)\n",
        "\n",
        "# Adding an element\n",
        "my_set.add(5)\n",
        "print(my_set)  # Output: {1, 2, 3, 4, 5, 'hello'}\n",
        "\n",
        "# Removing an element\n",
        "my_set.remove(2)\n",
        "print(my_set)  # Output: {1, 3, 4, 5, 'hello'}\n",
        "\n",
        "# Set operations\n",
        "set1 = {1, 2, 3}\n",
        "set2 = {2, 3, 4}\n",
        "\n",
        "# Union\n",
        "print(set1.union(set2))  # Output: {1, 2, 3, 4}\n",
        "\n",
        "# Intersection\n",
        "print(set1.intersection(set2))  # Output: {2, 3}\n",
        "\n",
        "# Difference\n",
        "print(set1.difference(set2))  # Output: {1}\n",
        "\n",
        "# Symmetric difference\n",
        "print(set1.symmetric_difference(set2))  # Output: {1, 4}"
      ],
      "metadata": {
        "colab": {
          "base_uri": "https://localhost:8080/"
        },
        "id": "TUYjGI3Dr88_",
        "outputId": "b031e255-1876-4bd4-848d-86926681ef17"
      },
      "execution_count": 11,
      "outputs": [
        {
          "output_type": "stream",
          "name": "stdout",
          "text": [
            "{1, 2, 3, 4, 'hello'}\n",
            "{1, 2, 3, 4, 5, 'hello'}\n",
            "{1, 3, 4, 5, 'hello'}\n",
            "{1, 2, 3, 4}\n",
            "{2, 3}\n",
            "{1}\n",
            "{1, 4}\n"
          ]
        }
      ]
    },
    {
      "cell_type": "markdown",
      "source": [
        "Common Use Cases:\n",
        "\n",
        "a. Removing duplicates from a list: Convert a list to a set to eliminate duplicates.\n",
        "\n",
        "b. Checking for membership: Use the in keyword to determine if an element exists in a set.\n",
        "\n",
        "c. Performing set operations: Find intersections, unions, differences, and symmetric differences between sets.\n",
        "\n",
        "d. Implementing algorithms: Sets can be used to implement algorithms like finding unique elements, determining if two sets are disjoint, or calculating the cardinality of a set."
      ],
      "metadata": {
        "id": "h0aSlgjWsiB4"
      }
    },
    {
      "cell_type": "markdown",
      "source": [
        "### Discuss the use cases of tuples and sets in Python programming. ###\n",
        "Ans- Tuples\n",
        "\n",
        "Tuples are immutable sequences of elements. They are often used in scenarios where you want to ensure data integrity and prevent accidental modifications.\n",
        "\n",
        "Use Cases:\n",
        "\n",
        "a. Representing immutable data:\n",
        "\n",
        "Configuration settings\n",
        "\n",
        "Database records\n",
        "\n",
        "Geographical coordinates\n",
        "\n",
        "Returning multiple values from a function:\n",
        "\n",
        "Functions can return multiple values as a tuple.\n",
        "\n",
        "b. Swapping variables:\n",
        "\n",
        "Tuple unpacking can be used to swap variables efficiently.\n",
        "\n",
        "c. Using as keys in dictionaries:\n",
        "\n",
        "Tuples can be used as dictionary keys due to their immutability."
      ],
      "metadata": {
        "id": "zYTtueQpsr9Q"
      }
    },
    {
      "cell_type": "code",
      "source": [
        "#Example-\n",
        "\n",
        "# Representing a person's information\n",
        "person = (\"Alice\", 25, \"New York\")\n",
        "\n",
        "# Returning multiple values from a function\n",
        "def calculate_area(length, width):\n",
        "    return length * width, length + width * 2\n",
        "\n",
        "area, perimeter = calculate_area(5, 3)\n",
        "\n",
        "# Swapping variables\n",
        "x, y = 10, 20\n",
        "x, y = y, x"
      ],
      "metadata": {
        "id": "5WnzBscssb8C"
      },
      "execution_count": 13,
      "outputs": []
    },
    {
      "cell_type": "markdown",
      "source": [
        "Sets\n",
        "\n",
        "Sets are unordered collections of unique elements. They are useful for membership testing, removing duplicates, and performing set operations.\n",
        "\n",
        "Use Cases:\n",
        "\n",
        "a. Removing duplicates:\n",
        "\n",
        "Convert a list to a set to eliminate duplicates.\n",
        "\n",
        "b. Membership testing:\n",
        "\n",
        "Check if an element exists in a set using the in keyword.\n",
        "\n",
        "c. Set operations:\n",
        "\n",
        "Perform operations like union, intersection, difference, and symmetric difference on sets.\n",
        "\n",
        "d. Implementing algorithms:\n",
        "\n",
        "Use sets to implement algorithms like finding unique elements, determining if two sets are disjoint, or calculating the cardinality of a set.\n"
      ],
      "metadata": {
        "id": "ua_LKlvntCtC"
      }
    },
    {
      "cell_type": "code",
      "source": [
        "#Example-\n",
        "\n",
        "# Removing duplicates from a list\n",
        "my_list = [1, 2, 3, 1, 2, 4]\n",
        "my_set = set(my_list)\n",
        "print(my_set)  # Output: {1, 2, 3, 4}\n",
        "\n",
        "# Checking for membership\n",
        "my_set = {1, 2, 3}\n",
        "print(2 in my_set)  # Output: True\n",
        "\n",
        "# Set operations\n",
        "set1 = {1, 2, 3}\n",
        "set2 = {2, 3, 4}\n",
        "print(set1.union(set2))  # Output: {1, 2, 3, 4}"
      ],
      "metadata": {
        "colab": {
          "base_uri": "https://localhost:8080/"
        },
        "id": "A5aWztWfs-qe",
        "outputId": "68255a1f-b6d3-42b5-a1f9-f59e4cf90d66"
      },
      "execution_count": 14,
      "outputs": [
        {
          "output_type": "stream",
          "name": "stdout",
          "text": [
            "{1, 2, 3, 4}\n",
            "True\n",
            "{1, 2, 3, 4}\n"
          ]
        }
      ]
    },
    {
      "cell_type": "markdown",
      "source": [
        "### Describe how to add, modify, and delete items in a dictionary with examples. ###\n",
        "ANs- Dictionaries in Python are unordered collections of key-value pairs. Each key must be unique, while the values can be of any data type.\n",
        "\n",
        "Adding Items:\n",
        "\n",
        "To add a new key-value pair to a dictionary, you can simply assign a value to a new key:"
      ],
      "metadata": {
        "id": "dIjhXvist-Yk"
      }
    },
    {
      "cell_type": "code",
      "source": [
        "my_dict = {'name': 'Pratik', 'age': 27}\n",
        "my_dict['city'] = 'Patna'  # Adding a new key-value pair\n",
        "print(my_dict)  # Output: {'name': 'Pratik', 'age': 27, 'city': 'Patna'}"
      ],
      "metadata": {
        "colab": {
          "base_uri": "https://localhost:8080/"
        },
        "id": "LiYH02nXt5Kt",
        "outputId": "7cd87f99-0eaf-4854-8ca8-477a27f462f0"
      },
      "execution_count": 15,
      "outputs": [
        {
          "output_type": "stream",
          "name": "stdout",
          "text": [
            "{'name': 'Pratik', 'age': 27, 'city': 'Patna'}\n"
          ]
        }
      ]
    },
    {
      "cell_type": "markdown",
      "source": [
        "Modifying Items:\n",
        "\n",
        "To modify the value of an existing key, you can assign a new value to it:"
      ],
      "metadata": {
        "id": "gphCCW5zudnO"
      }
    },
    {
      "cell_type": "code",
      "source": [
        "my_dict = {'name': 'Pratik', 'age': 27}\n",
        "my_dict['age'] = 28  # Modifying the value of the 'age' key\n",
        "print(my_dict)  # Output: {'name': 'Pratik', 'age': 28}"
      ],
      "metadata": {
        "colab": {
          "base_uri": "https://localhost:8080/"
        },
        "id": "gQaANffpuZwR",
        "outputId": "2c867dd7-7c44-426d-a1a3-5dc11616f88a"
      },
      "execution_count": 16,
      "outputs": [
        {
          "output_type": "stream",
          "name": "stdout",
          "text": [
            "{'name': 'Pratik', 'age': 28}\n"
          ]
        }
      ]
    },
    {
      "cell_type": "markdown",
      "source": [
        "Deleting Items:\n",
        "\n",
        "You can delete items from a dictionary using the del keyword or the pop() method:\n",
        "\n",
        "Using del:"
      ],
      "metadata": {
        "id": "mC8q8TBTu4QG"
      }
    },
    {
      "cell_type": "code",
      "source": [
        "my_dict = {'name': 'Pratik', 'age': 27, 'city': 'Patna'}\n",
        "del my_dict['city']  # Deleting the 'city' key-value pair\n",
        "print(my_dict)  # Output: {'name': 'Pratik', 'age': 27}"
      ],
      "metadata": {
        "colab": {
          "base_uri": "https://localhost:8080/"
        },
        "id": "08A-WZV_ul_T",
        "outputId": "cc5c867d-9fe8-4d1d-ba5e-050ef564c3bb"
      },
      "execution_count": 17,
      "outputs": [
        {
          "output_type": "stream",
          "name": "stdout",
          "text": [
            "{'name': 'Pratik', 'age': 27}\n"
          ]
        }
      ]
    },
    {
      "cell_type": "markdown",
      "source": [
        "Using pop():"
      ],
      "metadata": {
        "id": "OBgVXgUvvDAC"
      }
    },
    {
      "cell_type": "code",
      "source": [
        "my_dict = {'name': 'Pratik', 'age': 27, 'city': 'Pratik'}\n",
        "removed_value = my_dict.pop('age')  # Removing and returning the value of the 'age' key\n",
        "print(removed_value)  # Output: 27\n",
        "print(my_dict)  # Output: {'name': 'Pratik', 'city': 'Patna'}"
      ],
      "metadata": {
        "colab": {
          "base_uri": "https://localhost:8080/"
        },
        "id": "gUo0_vfyvAt3",
        "outputId": "fa8e87d5-241a-4b84-c569-56a13f986acf"
      },
      "execution_count": 18,
      "outputs": [
        {
          "output_type": "stream",
          "name": "stdout",
          "text": [
            "27\n",
            "{'name': 'Pratik', 'city': 'Pratik'}\n"
          ]
        }
      ]
    },
    {
      "cell_type": "markdown",
      "source": [
        "###  Discuss the importance of dictionary keys being immutable and provide examples. ###\n",
        "Ans- Importance of Immutable Dictionary Keys\n",
        "\n",
        "In Python, dictionary keys must be immutable objects. This is a fundamental requirement because dictionaries use hash tables for efficient key-value lookup. Hash tables rely on the consistent hashing of keys to determine their storage location.\n",
        "\n",
        "Key Points:\n",
        "\n",
        "Consistent Hashing:\n",
        "\n",
        "a. Immutable objects guarantee that their hash values remain constant throughout their lifetime. This ensures that the dictionary can efficiently locate and retrieve values based on their keys.\n",
        "\n",
        "b. If keys were mutable, their hash values could change, leading to unpredictable behavior and potential errors.\n",
        "\n",
        "Efficient Lookup:\n",
        "\n",
        "a. Consistent hashing allows the dictionary to use hash tables for fast key-value lookup.\n",
        "\n",
        "b. This makes dictionary operations like get, in, and del highly efficient, especially for large dictionaries.\n",
        "\n",
        "Key Uniqueness:\n",
        "\n",
        "a. Immutable keys help in enforcing the uniqueness constraint for dictionary keys.\n",
        "\n",
        "b. If keys were mutable, two different keys could potentially have the same hash value, leading to conflicts and unexpected behavior.\n",
        "\n",
        "Examples of Immutable Key Types:\n",
        "\n",
        "Integers: 1, 2, 3\n",
        "\n",
        "Floating-point numbers: 3.14, 2.718\n",
        "\n",
        "Strings: \"hello\", \"world\"\n",
        "\n",
        "Tuples: (1, 2), (\"a\", \"b\")"
      ],
      "metadata": {
        "id": "iLVF1vLhvZ_Y"
      }
    },
    {
      "cell_type": "code",
      "source": [
        "my_dict = {\n",
        "    \"name\": \"Alice\",\n",
        "    \"age\": 30,\n",
        "    (1, 2): \"tuple_key\"}"
      ],
      "metadata": {
        "id": "r0hNy3a6vN9c"
      },
      "execution_count": 19,
      "outputs": []
    },
    {
      "cell_type": "code",
      "source": [],
      "metadata": {
        "id": "rUvV9_pBv4Di"
      },
      "execution_count": null,
      "outputs": []
    }
  ]
}