{
  "nbformat": 4,
  "nbformat_minor": 0,
  "metadata": {
    "colab": {
      "provenance": []
    },
    "kernelspec": {
      "name": "python3",
      "display_name": "Python 3"
    },
    "language_info": {
      "name": "python"
    }
  },
  "cells": [
    {
      "cell_type": "markdown",
      "source": [
        "# THEORY QUESTION:- #"
      ],
      "metadata": {
        "id": "Cg8E02u0dAzv"
      }
    },
    {
      "cell_type": "markdown",
      "source": [
        "### 1. Explain the purpose and advantages of NumPy in scientific computing and data analysis. How does it enhance Python's capabilities for numerical operations? ###\n",
        "Ans- NumPy: A Powerful Tool for Numerical Computing\n",
        "\n",
        "NumPy, short for Numerical Python, is a fundamental library for scientific computing in Python. It provides efficient array operations, linear algebra functions, random number generation, and much more.\n",
        "\n",
        "**Purpose:**\n",
        "\n",
        "a. Efficient Numerical Operations: NumPy's core data structure, the NumPy array, is optimized for numerical computations. It allows for vectorized operations, which significantly speeds up calculations compared to traditional Python lists.\n",
        "\n",
        "b. Linear Algebra: NumPy offers a rich set of functions for linear algebra, including matrix multiplication, inversion, and solving linear equations.\n",
        "\n",
        "c. Random Number Generation: It provides various functions for generating random numbers from different distributions.\n",
        "\n",
        "d. Fourier Transforms: NumPy supports Fourier transforms for signal processing and analysis.\n",
        "\n",
        "e. Polynomials: It includes tools for working with polynomials.\n",
        "\n",
        "**Advantages:**\n",
        "\n",
        "a. Speed: NumPy's optimized implementations of numerical operations, especially vectorized operations, are significantly faster than pure Python code.\n",
        "\n",
        "b. Efficiency: NumPy arrays are more memory-efficient than Python lists, especially for large datasets.\n",
        "\n",
        "c. Ease of Use: NumPy provides a simple and intuitive interface for performing complex numerical operations.\n",
        "\n",
        "d. Integration with Other Libraries: NumPy integrates seamlessly with other scientific computing libraries like SciPy, Matplotlib, and Pandas.\n",
        "\n",
        "**How NumPy Enhances Python's Capabilities:**\n",
        "\n",
        "a. Vectorization: NumPy allows you to perform operations on entire arrays at once, avoiding explicit loops and significantly improving performance.\n",
        "\n",
        "b. Broadcasting: NumPy can automatically broadcast arrays of different shapes to perform element-wise operations.\n",
        "\n",
        "c. Linear Algebra: NumPy provides efficient implementations of linear algebra operations, such as matrix multiplication, inversion, and eigenvalue decomposition.\n",
        "\n",
        "d. Random Number Generation: NumPy offers a variety of random number generation functions, including uniform, normal, and other distributions.\n",
        "\n",
        "e. Fourier Transforms: NumPy's Fourier transform functions are useful for signal processing and analysis."
      ],
      "metadata": {
        "id": "vBT8CAsC8Vpd"
      }
    },
    {
      "cell_type": "code",
      "source": [
        "#Example-\n",
        "\n",
        "import numpy as np\n",
        "\n",
        "# Create two NumPy arrays\n",
        "a = np.array([1, 2, 3])\n",
        "b = np.array([4, 5, 6])\n",
        "\n",
        "# Vectorized addition\n",
        "c = a + b  # Output: [5, 7, 9]\n",
        "\n",
        "# Matrix multiplication\n",
        "matrix1 = np.array([[1, 2], [3, 4]])\n",
        "matrix2 = np.array([[5, 6], [7, 8]])\n",
        "product = np.dot(matrix1, matrix2)  # Matrix multiplication\n",
        "\n",
        "# Generate random numbers\n",
        "random_numbers = np.random.rand(5)  # 5 random numbers between 0 and 1"
      ],
      "metadata": {
        "id": "LilNpefG8ydC"
      },
      "execution_count": 2,
      "outputs": []
    },
    {
      "cell_type": "markdown",
      "source": [
        "### 2. Compare and contrast np.mean() and np.average() functions in NumPy. When would you use one over the other? ###\n",
        "Ans- np.mean() and np.average() are two functions in NumPy that are often used to calculate the average of an array or a sequence of numbers. While they might seem similar, they have subtle differences in their behavior, especially when dealing with weighted averages.\n",
        "\n",
        "1. **np.mean()**\n",
        "\n",
        "a. Simple Average: Calculates the arithmetic mean of an array.\n",
        "\n",
        "b. Weighted Average: Not directly supported. You'll need to manually calculate the weighted average using the array elements and weights.\n",
        "\n",
        "2. **np.average()**\n",
        "\n",
        "a. Simple Average: Can be used to calculate the arithmetic mean, similar to np.mean().\n",
        "\n",
        "b. Weighted Average: Supports weighted averages by providing an optional weights argument. This allows you to specify weights for each element in the array.\n",
        "\n",
        "**When to Use Which:**\n",
        "\n",
        "1. Simple Average:\n",
        "\n",
        "Use np.mean() or np.average() interchangeably when you want to calculate the arithmetic mean of an array without weights.\n",
        "\n",
        "2. Weighted Average:\n",
        "\n",
        "Use np.average() with the weights argument when you want to calculate a weighted average. This is useful when some elements in the array are more important than others."
      ],
      "metadata": {
        "id": "Tjxxy6Mh9BQZ"
      }
    },
    {
      "cell_type": "code",
      "source": [
        "#Example-\n",
        "\n",
        "import numpy as np\n",
        "\n",
        "# Simple average\n",
        "arr = np.array([1, 2, 3, 4, 5])\n",
        "mean_value = np.mean(arr)  # Or np.average(arr)\n",
        "print(mean_value)  # Output: 3.0\n",
        "\n",
        "# Weighted average\n",
        "weights = np.array([0.1, 0.2, 0.3, 0.2, 0.2])\n",
        "weighted_mean = np.average(arr, weights=weights)\n",
        "print(weighted_mean)  # Output: 2.9"
      ],
      "metadata": {
        "colab": {
          "base_uri": "https://localhost:8080/"
        },
        "id": "V8ZJTUX885id",
        "outputId": "c49d9f47-e0f5-4708-8eb6-1b2ced7b0082"
      },
      "execution_count": 3,
      "outputs": [
        {
          "output_type": "stream",
          "name": "stdout",
          "text": [
            "3.0\n",
            "3.2\n"
          ]
        }
      ]
    },
    {
      "cell_type": "markdown",
      "source": [
        "###  3. Describe the methods for reversing a NumPy array along different axes. Provide examples for 1D and 2D arrays. ###\n",
        "Ans- NumPy provides several methods to reverse arrays along different axes. Here are the common approaches:\n",
        "\n",
        "1. **Using Indexing:**\n",
        "\n",
        "Reversing a 1D array:"
      ],
      "metadata": {
        "id": "iP34RlvuCVqf"
      }
    },
    {
      "cell_type": "code",
      "source": [
        "import numpy as np\n",
        "\n",
        "arr = np.array([1, 2, 3, 4, 5])\n",
        "reversed_arr = arr[::-1]\n",
        "print(reversed_arr)  # Output: [5 4 3 2 1]"
      ],
      "metadata": {
        "colab": {
          "base_uri": "https://localhost:8080/"
        },
        "id": "TNmVhCp19caX",
        "outputId": "640d6cdb-6147-4573-afc2-0c1c22de13a0"
      },
      "execution_count": 4,
      "outputs": [
        {
          "output_type": "stream",
          "name": "stdout",
          "text": [
            "[5 4 3 2 1]\n"
          ]
        }
      ]
    },
    {
      "cell_type": "markdown",
      "source": [
        "Reversing a 2D array along a specific axis:"
      ],
      "metadata": {
        "id": "4PRgZV6BDasA"
      }
    },
    {
      "cell_type": "code",
      "source": [
        "arr = np.array([[1, 2, 3], [4, 5, 6]])\n",
        "\n",
        "# Reversing along the first axis (rows)\n",
        "reversed_rows = arr[::-1, :]\n",
        "print(reversed_rows)  # Output: [[4 5 6], [1 2 3]]\n",
        "\n",
        "# Reversing along the second axis (columns)\n",
        "reversed_cols = arr[:, ::-1]\n",
        "print(reversed_cols)  # Output: [[3 2 1], [6 5 4]]"
      ],
      "metadata": {
        "colab": {
          "base_uri": "https://localhost:8080/"
        },
        "id": "daIy3lk9DZCm",
        "outputId": "239de61f-efc2-4e66-e86b-e2951d2e2adf"
      },
      "execution_count": 5,
      "outputs": [
        {
          "output_type": "stream",
          "name": "stdout",
          "text": [
            "[[4 5 6]\n",
            " [1 2 3]]\n",
            "[[3 2 1]\n",
            " [6 5 4]]\n"
          ]
        }
      ]
    },
    {
      "cell_type": "markdown",
      "source": [
        "2. **Using np.flip():**"
      ],
      "metadata": {
        "id": "orxGrvpfDiiq"
      }
    },
    {
      "cell_type": "code",
      "source": [
        "arr = np.array([[1, 2, 3], [4, 5, 6]])\n",
        "\n",
        "# Reversing along the first axis\n",
        "reversed_rows = np.flip(arr, axis=0)\n",
        "print(reversed_rows)  # Output: [[4 5 6], [1 2 3]]\n",
        "\n",
        "# Reversing along the second axis\n",
        "reversed_cols = np.flip(arr, axis=1)\n",
        "print(reversed_cols)  # Output: [[3 2 1], [6 5 4]]"
      ],
      "metadata": {
        "colab": {
          "base_uri": "https://localhost:8080/"
        },
        "id": "3yduf4l1Dfnj",
        "outputId": "0ba981f3-f83f-49bd-b18c-3d4e97751f15"
      },
      "execution_count": 6,
      "outputs": [
        {
          "output_type": "stream",
          "name": "stdout",
          "text": [
            "[[4 5 6]\n",
            " [1 2 3]]\n",
            "[[3 2 1]\n",
            " [6 5 4]]\n"
          ]
        }
      ]
    },
    {
      "cell_type": "markdown",
      "source": [
        "**Explanation:**\n",
        "\n",
        "1. Indexing:\n",
        "\n",
        "a. The [::-1] slicing syntax reverses the array.\n",
        "\n",
        "b. For 2D arrays, specifying [::-1] for a particular axis reverses that axis.\n",
        "\n",
        "2. np.flip():\n",
        "\n",
        "a. Takes an array and an axis as input.\n",
        "\n",
        "b. Reverses the specified axis of the array.\n",
        "\n",
        "c. axis=0 reverses rows, and axis=1 reverses columns."
      ],
      "metadata": {
        "id": "ew-v0r_3DoTV"
      }
    },
    {
      "cell_type": "markdown",
      "source": [
        "### 4. How can you determine the data type of elements in a NumPy array? Discuss the importance of data types in memory management and performance. ###\n",
        "Ans- Determining Data Types in NumPy Arrays\n",
        "\n",
        "NumPy arrays are homogeneous, meaning all elements must have the same data type. To determine the data type of elements in a NumPy array, you can use the dtype attribute:"
      ],
      "metadata": {
        "id": "Cbn93fF3Dv7L"
      }
    },
    {
      "cell_type": "code",
      "source": [
        "import numpy as np\n",
        "\n",
        "arr = np.array([1, 2, 3, 4, 5])\n",
        "print(arr.dtype)  # Output: int32 or int64 (depending on system)\n",
        "\n",
        "arr_float = np.array([1.1, 2.2, 3.3])\n",
        "print(arr_float.dtype)  # Output: float64"
      ],
      "metadata": {
        "colab": {
          "base_uri": "https://localhost:8080/"
        },
        "id": "tIDOs3PqDlfL",
        "outputId": "83aa69dd-fe24-4a90-8a99-2b8e7904e742"
      },
      "execution_count": 7,
      "outputs": [
        {
          "output_type": "stream",
          "name": "stdout",
          "text": [
            "int64\n",
            "float64\n"
          ]
        }
      ]
    },
    {
      "cell_type": "markdown",
      "source": [
        "Importance of Data Types in Memory Management and Performance:\n",
        "\n",
        "The data type of elements in a NumPy array significantly impacts memory usage and computational performance:\n",
        "\n",
        "1. Memory Usage:\n",
        "\n",
        "a. Different data types require different amounts of memory to store each element. For example, int32 uses 4 bytes per element, while float64 uses 8 bytes per element.\n",
        "\n",
        "b. Choosing the appropriate data type can help optimize memory usage, especially for large arrays.\n",
        "\n",
        "2. Computational Performance:\n",
        "\n",
        "a. NumPy's optimized operations are often implemented in C, which can take advantage of hardware-specific optimizations.\n",
        "\n",
        "b. The choice of data type can influence the efficiency of these operations. For instance, integer operations are generally faster than floating-point operations.\n",
        "\n",
        "3. Precision:\n",
        "\n",
        "a. The data type determines the precision of the values stored in the array. For example, float64 offers higher precision than float32.\n",
        "\n",
        "b. Choosing the appropriate precision is important to balance accuracy and performance.\n",
        "\n",
        "\n",
        "Best Practices:\n",
        "\n",
        "a. Choose the Right Data Type: Select the data type that is appropriate for the range of values and the required precision.\n",
        "\n",
        "b. Avoid Unnecessary Precision: Using a higher precision data type than necessary can waste memory and slow down computations.\n",
        "\n",
        "c. Consider Memory Constraints: For large datasets, consider using lower-precision data types to reduce memory usage.\n",
        "\n",
        "d. Be Aware of Type Conversions: NumPy automatically converts data types when necessary, but be mindful of potential performance implications, especially when mixing different data types in operations."
      ],
      "metadata": {
        "id": "63YLuwwuELne"
      }
    },
    {
      "cell_type": "markdown",
      "source": [
        "### 5. Define ndarrays in NumPy and explain their key features. How do they differ from standard Python lists? ###\n",
        "Ans- ndarrays: The Core of NumPy\n",
        "\n",
        "NumPy arrays, or ndarrays, are fundamental data structures in Python for numerical computations. They represent multi-dimensional arrays, which can be thought of as grids of numbers.\n",
        "\n",
        "Key Features of ndarrays:\n",
        "\n",
        "a. Homogeneous Data Type: All elements in an ndarray must be of the same data type. This allows for efficient memory usage and optimized operations.\n",
        "\n",
        "b. Multi-Dimensional: ndarrays can be one-dimensional (vectors), two-dimensional (matrices), or higher-dimensional arrays.\n",
        "\n",
        "c. Vectorized Operations: NumPy supports vectorized operations, which means operations can be performed on entire arrays element-wise, leading to significant performance gains.\n",
        "\n",
        "d. Broadcasting: NumPy can automatically broadcast arrays of different shapes to perform element-wise operations, making it easy to work with arrays of different sizes.\n",
        "\n",
        "e. Indexing and Slicing: Powerful indexing and slicing mechanisms allow you to access and manipulate specific elements or subsets of an array.\n",
        "\n",
        "Differences from Standard Python Lists:\n",
        "\n",
        "![image.png](data:image/png;base64,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)"
      ],
      "metadata": {
        "id": "e1PWoTx4EqEe"
      }
    },
    {
      "cell_type": "code",
      "source": [
        "import numpy as np\n",
        "\n",
        "# Create a 1D array\n",
        "arr1 = np.array([1, 2, 3, 4, 5])\n",
        "\n",
        "# Create a 2D array\n",
        "arr2 = np.array([[1, 2, 3], [4, 5, 6]])\n",
        "\n",
        "# Vectorized addition\n",
        "result = arr1 + 2  # Adds 2 to each element\n",
        "\n",
        "# Matrix multiplication\n",
        "matrix1 = np.array([[1, 2], [3, 4]])\n",
        "matrix2 = np.array([[5, 6], [7, 8]])\n",
        "product = np.dot(matrix1, matrix2)\n",
        "\n",
        "# Accessing elements and slicing\n",
        "print(arr1[1])  # Access the second element\n",
        "print(arr2[1, 2])  # Access the element at row 1, column 2\n",
        "print(arr2[:, 1])  # Access the second column"
      ],
      "metadata": {
        "colab": {
          "base_uri": "https://localhost:8080/"
        },
        "id": "BFe3esS6U5x1",
        "outputId": "e42a4a5f-0764-4259-e5b5-dcce7e941968"
      },
      "execution_count": 10,
      "outputs": [
        {
          "output_type": "stream",
          "name": "stdout",
          "text": [
            "2\n",
            "6\n",
            "[2 5]\n"
          ]
        }
      ]
    },
    {
      "cell_type": "markdown",
      "source": [
        "### 6. Analyze the performance benefits of NumPy arrays over Python lists for large-scale numerical operations. ###\n",
        "Ans- NumPy arrays offer significant performance advantages over Python lists for large-scale numerical operations due to the following reasons:\n",
        "\n",
        "1. **Memory Efficiency:**\n",
        "\n",
        "a. Homogeneous Data Type: NumPy arrays store elements of the same data type, which allows for efficient memory allocation and access.\n",
        "\n",
        "b. Contiguous Memory: NumPy arrays allocate memory contiguously, which improves memory access patterns and reduces cache misses.\n",
        "\n",
        "c. Reduced Overhead: Python lists have additional overhead for storing object references and type information for each element, making them less memory-efficient for large datasets.\n",
        "\n",
        "2. **Vectorization:**\n",
        "\n",
        "a. Element-wise Operations: NumPy allows you to perform operations on entire arrays element-wise, without the need for explicit loops. This is significantly faster than iterating over elements in a Python list.\n",
        "\n",
        "b. Optimized C Implementation: Many NumPy operations are implemented in C, which is much faster than Python's interpreted code.\n",
        "\n",
        "3. **Broadcasting:**\n",
        "\n",
        "a. Automatic Shape Alignment: NumPy can automatically broadcast arrays of different shapes to perform element-wise operations, making it easier to work with arrays of different sizes.\n",
        "\n",
        "4. **Optimized Libraries:**\n",
        "\n",
        "\n",
        "a. NumPy is integrated with other high-performance libraries like SciPy and Scikit-learn, which are built on top of NumPy and leverage its efficiency."
      ],
      "metadata": {
        "id": "1FiQbkAKYHWs"
      }
    },
    {
      "cell_type": "code",
      "source": [
        "import numpy as np\n",
        "import time\n",
        "\n",
        "# Create large lists and arrays\n",
        "python_list = list(range(1000000))\n",
        "numpy_array = np.array(python_list)\n",
        "\n",
        "# Time the sum operation\n",
        "start_time = time.time()\n",
        "python_sum = sum(python_list)\n",
        "end_time = time.time()\n",
        "python_time = end_time - start_time\n",
        "\n",
        "start_time = time.time()\n",
        "numpy_sum = np.sum(numpy_array)\n",
        "end_time = time.time()\n",
        "numpy_time = end_time - start_time\n",
        "\n",
        "print(\"Python list sum time:\", python_time)\n",
        "print(\"NumPy array sum time:\", numpy_time)"
      ],
      "metadata": {
        "colab": {
          "base_uri": "https://localhost:8080/"
        },
        "id": "DCoS0vg-VQEl",
        "outputId": "b73dadb1-3ed3-4286-9f3e-eed48437d478"
      },
      "execution_count": 11,
      "outputs": [
        {
          "output_type": "stream",
          "name": "stdout",
          "text": [
            "Python list sum time: 0.02735137939453125\n",
            "NumPy array sum time: 0.0044095516204833984\n"
          ]
        }
      ]
    },
    {
      "cell_type": "markdown",
      "source": [
        "In this example, you'll typically find that the NumPy array operation is significantly faster than the Python list operation, especially for large datasets."
      ],
      "metadata": {
        "id": "JqLUQsu-Z45R"
      }
    },
    {
      "cell_type": "markdown",
      "source": [
        "### 7. Compare vstack() and hstack() functions in NumPy. Provide examples demonstrating their usage and output. ###\n",
        "Ans- np.vstack() and np.hstack() are two essential functions in NumPy for stacking arrays vertically and horizontally, respectively.\n",
        "\n",
        "1. **np.vstack():**\n",
        "\n",
        "a. Stacking Vertically: This function stacks arrays vertically, meaning it adds rows to the original array.\n",
        "\n",
        "b. Shape Compatibility: The arrays to be stacked must have the same shape along all but the first axis."
      ],
      "metadata": {
        "id": "iYc0oyfCZ9WJ"
      }
    },
    {
      "cell_type": "code",
      "source": [
        "#Example-\n",
        "\n",
        "import numpy as np\n",
        "\n",
        "a = np.array([1, 2, 3])\n",
        "b = np.array([4, 5, 6])\n",
        "\n",
        "# Stacking vertically\n",
        "c = np.vstack((a, b))\n",
        "print(c)"
      ],
      "metadata": {
        "colab": {
          "base_uri": "https://localhost:8080/"
        },
        "id": "-oKJdcvsZoCK",
        "outputId": "d795025e-2193-45b6-ddc0-f70dd0a56078"
      },
      "execution_count": 12,
      "outputs": [
        {
          "output_type": "stream",
          "name": "stdout",
          "text": [
            "[[1 2 3]\n",
            " [4 5 6]]\n"
          ]
        }
      ]
    },
    {
      "cell_type": "markdown",
      "source": [
        "2. **np.hstack():**\n",
        "\n",
        "a. Stacking Horizontally: This function stacks arrays horizontally, meaning it adds columns to the original array.\n",
        "\n",
        "b. Shape Compatibility: The arrays to be stacked must have the same shape along all but the second axis."
      ],
      "metadata": {
        "id": "f_N5ShKUbEN9"
      }
    },
    {
      "cell_type": "code",
      "source": [
        "#Example-\n",
        "\n",
        "import numpy as np\n",
        "\n",
        "a = np.array([[1], [2], [3]])\n",
        "b = np.array([[4], [5], [6]])\n",
        "\n",
        "# Stacking horizontally\n",
        "c = np.hstack((a, b))\n",
        "print(c)"
      ],
      "metadata": {
        "colab": {
          "base_uri": "https://localhost:8080/"
        },
        "id": "vPen_tsrbANa",
        "outputId": "3417dd52-1959-4803-dc4a-9fafdd4c4e1d"
      },
      "execution_count": 13,
      "outputs": [
        {
          "output_type": "stream",
          "name": "stdout",
          "text": [
            "[[1 4]\n",
            " [2 5]\n",
            " [3 6]]\n"
          ]
        }
      ]
    },
    {
      "cell_type": "markdown",
      "source": [
        "![image.png](data:image/png;base64,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)"
      ],
      "metadata": {
        "id": "3oJG3ui-bSoQ"
      }
    },
    {
      "cell_type": "markdown",
      "source": [
        "### 8. Explain the differences between fliplr() and flipud() methods in NumPy, including their effects on various array dimensions. ###\n",
        "Ans- np.fliplr() and np.flipud() are two useful functions in NumPy for flipping arrays along specific axes.\n",
        "\n",
        "1. **np.fliplr():**\n",
        "\n",
        "a. Flips the array horizontally.\n",
        "\n",
        "b. Reverses the order of columns in a 2D array.\n",
        "\n",
        "c. For higher-dimensional arrays, it reverses the order of the last axis."
      ],
      "metadata": {
        "id": "bfUKGOtYbmRN"
      }
    },
    {
      "cell_type": "code",
      "source": [
        "#Example-\n",
        "\n",
        "import numpy as np\n",
        "\n",
        "arr = np.array([[1, 2, 3], [4, 5, 6]])\n",
        "flipped_arr = np.fliplr(arr)\n",
        "print(flipped_arr)"
      ],
      "metadata": {
        "colab": {
          "base_uri": "https://localhost:8080/"
        },
        "id": "nJeXl82tbM7y",
        "outputId": "0e0db1d0-a6fe-461d-d9dc-1596063094ae"
      },
      "execution_count": 14,
      "outputs": [
        {
          "output_type": "stream",
          "name": "stdout",
          "text": [
            "[[3 2 1]\n",
            " [6 5 4]]\n"
          ]
        }
      ]
    },
    {
      "cell_type": "markdown",
      "source": [
        "2. **np.flipud():**\n",
        "\n",
        "a. Flips the array vertically.\n",
        "\n",
        "b. Reverses the order of rows in a 2D array.\n",
        "\n",
        "c. For higher-dimensional arrays, it reverses the order of the first axis."
      ],
      "metadata": {
        "id": "4gMx9jjXb9fQ"
      }
    },
    {
      "cell_type": "code",
      "source": [
        "#Example-\n",
        "\n",
        "import numpy as np\n",
        "\n",
        "arr = np.array([[1, 2, 3], [4, 5, 6]])\n",
        "flipped_arr = np.flipud(arr)\n",
        "print(flipped_arr)"
      ],
      "metadata": {
        "colab": {
          "base_uri": "https://localhost:8080/"
        },
        "id": "-nU9opALb6ng",
        "outputId": "2f0d1d77-6597-41c0-99a2-f65f02a901bc"
      },
      "execution_count": 15,
      "outputs": [
        {
          "output_type": "stream",
          "name": "stdout",
          "text": [
            "[[4 5 6]\n",
            " [1 2 3]]\n"
          ]
        }
      ]
    },
    {
      "cell_type": "markdown",
      "source": [
        "![image.png](data:image/png;base64,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)\n",
        "\n",
        "**For Higher-Dimensional Arrays:**\n",
        "\n",
        "a. np.fliplr() reverses the order of the last axis.\n",
        "\n",
        "b. np.flipud() reverses the order of the first axis."
      ],
      "metadata": {
        "id": "j2DfeU3scVfG"
      }
    },
    {
      "cell_type": "markdown",
      "source": [
        "### 9. Discuss the functionality of the array_split() method in NumPy. How does it handle uneven splits? ###\n",
        "Ans- np.array_split() is a versatile function in NumPy that splits an array into multiple sub-arrays along a specified axis. It's particularly useful for dividing large datasets into smaller, more manageable chunks.\n",
        "\n",
        "1. **Uneven Splits:**\n",
        "\n",
        "When the number of sections doesn't divide the array size evenly, np.array_split() handles it gracefully. It distributes the extra elements among the sections, ensuring that all sections have approximately the same size."
      ],
      "metadata": {
        "id": "rpPWhG_xclUi"
      }
    },
    {
      "cell_type": "code",
      "source": [
        "#Example-\n",
        "\n",
        "import numpy as np\n",
        "\n",
        "arr = np.arange(11)\n",
        "split_arr = np.array_split(arr, 4)\n",
        "print(split_arr)"
      ],
      "metadata": {
        "colab": {
          "base_uri": "https://localhost:8080/"
        },
        "id": "tMnS8usjcHah",
        "outputId": "0f3be4b7-ca03-455a-cd11-32ab832aa105"
      },
      "execution_count": 16,
      "outputs": [
        {
          "output_type": "stream",
          "name": "stdout",
          "text": [
            "[array([0, 1, 2]), array([3, 4, 5]), array([6, 7, 8]), array([ 9, 10])]\n"
          ]
        }
      ]
    },
    {
      "cell_type": "markdown",
      "source": [
        "As you can see, the last two sections have one more element each to accommodate the total number of elements.\n",
        "\n",
        "**Key Points:**\n",
        "\n",
        "a. Axis: You can specify the axis along which to split the array using the axis parameter.\n",
        "\n",
        "b. Uneven Splits: The function handles uneven splits efficiently by distributing the extra elements across the sections.\n",
        "\n",
        "c. Flexibility: It's suitable for various data processing tasks, including batch processing, parallel computing, and data visualization."
      ],
      "metadata": {
        "id": "fbmQO9q5c1ju"
      }
    },
    {
      "cell_type": "markdown",
      "source": [
        "### 10. Explain the concepts of vectorization and broadcasting in NumPy. How do they contribute to efficient array operations? ###\n",
        "Ans- Vectorization and Broadcasting in NumPy\n",
        "\n",
        "NumPy's efficiency and power largely stem from two key concepts: vectorization and broadcasting.\n",
        "\n",
        "1. **Vectorization**\n",
        "\n",
        "Vectorization is the process of replacing explicit loops with vectorized operations. NumPy performs these operations on entire arrays element-wise, eliminating the need for Python's slower loops. This significantly speeds up computations."
      ],
      "metadata": {
        "id": "r4giN3vFdMgI"
      }
    },
    {
      "cell_type": "code",
      "source": [
        "#Example-\n",
        "\n",
        "import numpy as np\n",
        "\n",
        "# Python list approach\n",
        "python_list = [1, 2, 3, 4, 5]\n",
        "result = []\n",
        "for x in python_list:\n",
        "    result.append(x * 2)\n",
        "\n",
        "# NumPy vectorized approach\n",
        "numpy_array = np.array([1, 2, 3, 4, 5])\n",
        "result_np = numpy_array * 2"
      ],
      "metadata": {
        "id": "0BtmEBNnczDu"
      },
      "execution_count": 17,
      "outputs": []
    },
    {
      "cell_type": "markdown",
      "source": [
        "The NumPy approach is much faster because it's executed at a lower level, often in optimized C code.\n",
        "\n",
        "2. **Broadcasting**\n",
        "\n",
        "Broadcasting is a powerful feature in NumPy that allows arrays of different shapes to be combined in arithmetic operations. NumPy automatically expands arrays to compatible shapes before performing the operation."
      ],
      "metadata": {
        "id": "hk4rqmxTdfJO"
      }
    },
    {
      "cell_type": "code",
      "source": [
        "#Example-\n",
        "\n",
        "import numpy as np\n",
        "\n",
        "a = np.array([1, 2, 3])\n",
        "b = 2\n",
        "\n",
        "# Broadcasting to add 2 to each element of a\n",
        "c = a + b\n",
        "print(c)  # Output: [3 4 5]"
      ],
      "metadata": {
        "colab": {
          "base_uri": "https://localhost:8080/"
        },
        "id": "a-ZSyKFKdbxy",
        "outputId": "8e4e7028-1df0-4b25-93a9-06c3b7b71dd6"
      },
      "execution_count": 18,
      "outputs": [
        {
          "output_type": "stream",
          "name": "stdout",
          "text": [
            "[3 4 5]\n"
          ]
        }
      ]
    },
    {
      "cell_type": "markdown",
      "source": [
        "Here, the scalar b is broadcasted to match the shape of a and then added element-wise.\n",
        "\n",
        "**How Vectorization and Broadcasting Contribute to Efficiency:**\n",
        "\n",
        "a. Reduced Python Overhead: Vectorized operations minimize the overhead of Python's interpreter loop.\n",
        "\n",
        "b. Optimized C Implementation: NumPy's core operations are implemented in C, which is much faster than Python.\n",
        "\n",
        "c. Memory Efficiency: Vectorized operations can often be more memory-efficient by avoiding temporary arrays.\n",
        "\n",
        "d. Simplified Code: Vectorized operations lead to more concise and readable code."
      ],
      "metadata": {
        "id": "emSOZj7ddoQx"
      }
    },
    {
      "cell_type": "markdown",
      "source": [
        "# PRACTICAL QUESTIONS:- #"
      ],
      "metadata": {
        "id": "k8q_c-_bd1DI"
      }
    },
    {
      "cell_type": "markdown",
      "source": [
        "### 1. Create a 3x3 NumPy array with random integers between 1 and 100. Then, interchange its rows and columns. ###\n"
      ],
      "metadata": {
        "id": "c-XBjiUSd99C"
      }
    },
    {
      "cell_type": "code",
      "source": [
        "#Ans-\n",
        "\n",
        "import numpy as np\n",
        "\n",
        "# Create a 3x3 NumPy array with random integers\n",
        "array = np.random.randint(1, 101, size=(3, 3))\n",
        "print(\"Original array:\")\n",
        "print(array)\n",
        "\n",
        "# Transpose the array to interchange rows and columns\n",
        "transposed_array = array.T\n",
        "print(\"Transposed array:\")\n",
        "print(transposed_array)"
      ],
      "metadata": {
        "colab": {
          "base_uri": "https://localhost:8080/"
        },
        "id": "cxYxT5u8dlOa",
        "outputId": "99558505-7627-40c4-bab2-2eb60cdb5737"
      },
      "execution_count": 20,
      "outputs": [
        {
          "output_type": "stream",
          "name": "stdout",
          "text": [
            "Original array:\n",
            "[[94 46 36]\n",
            " [20 90 48]\n",
            " [60 15 35]]\n",
            "Transposed array:\n",
            "[[94 20 60]\n",
            " [46 90 15]\n",
            " [36 48 35]]\n"
          ]
        }
      ]
    },
    {
      "cell_type": "markdown",
      "source": [
        "### 2. Generate a 1D NumPy array with 10 elements. Reshape it into a 2x5 array, then into a 5x2 array. ###\n"
      ],
      "metadata": {
        "id": "ncNlxyaUeRiP"
      }
    },
    {
      "cell_type": "code",
      "source": [
        "#Ans-\n",
        "\n",
        "import numpy as np\n",
        "\n",
        "# Create a 1D array\n",
        "arr = np.arange(10)\n",
        "print(\"Original array:\", arr)\n",
        "\n",
        "# Reshape into a 2x5 array\n",
        "arr_2x5 = arr.reshape(2, 5)\n",
        "print(\"Reshaped into 2x5:\", arr_2x5)\n",
        "\n",
        "# Reshape into a 5x2 array\n",
        "arr_5x2 = arr.reshape(5, 2)\n",
        "print(\"Reshaped into 5x2:\", arr_5x2)"
      ],
      "metadata": {
        "colab": {
          "base_uri": "https://localhost:8080/"
        },
        "id": "iivZJp3QeJci",
        "outputId": "df932ba5-b62d-446c-ccc5-7e88fadd5a66"
      },
      "execution_count": 21,
      "outputs": [
        {
          "output_type": "stream",
          "name": "stdout",
          "text": [
            "Original array: [0 1 2 3 4 5 6 7 8 9]\n",
            "Reshaped into 2x5: [[0 1 2 3 4]\n",
            " [5 6 7 8 9]]\n",
            "Reshaped into 5x2: [[0 1]\n",
            " [2 3]\n",
            " [4 5]\n",
            " [6 7]\n",
            " [8 9]]\n"
          ]
        }
      ]
    },
    {
      "cell_type": "markdown",
      "source": [
        "### 3. Create a 4x4 NumPy array with random float values. Add a border of zeros around it, resulting in a 6x6 array. ###"
      ],
      "metadata": {
        "id": "PHGFf9r1eeSs"
      }
    },
    {
      "cell_type": "code",
      "source": [
        "#Ans-\n",
        "\n",
        "import numpy as np\n",
        "\n",
        "# Create a 4x4 array with random floats\n",
        "array = np.random.rand(4, 4)\n",
        "\n",
        "# Add a border of zeros\n",
        "padded_array = np.pad(array, pad_width=1, mode='constant', constant_values=0)\n",
        "\n",
        "print(padded_array)"
      ],
      "metadata": {
        "colab": {
          "base_uri": "https://localhost:8080/"
        },
        "id": "dCx7yovleYDX",
        "outputId": "9707ab24-19af-43cb-db97-b15735adc3c5"
      },
      "execution_count": 22,
      "outputs": [
        {
          "output_type": "stream",
          "name": "stdout",
          "text": [
            "[[0.         0.         0.         0.         0.         0.        ]\n",
            " [0.         0.29969412 0.68691179 0.26247908 0.01699307 0.        ]\n",
            " [0.         0.71965865 0.65769299 0.4926389  0.82431828 0.        ]\n",
            " [0.         0.77997514 0.05753589 0.97792093 0.02654895 0.        ]\n",
            " [0.         0.59819138 0.20347648 0.81546026 0.33426688 0.        ]\n",
            " [0.         0.         0.         0.         0.         0.        ]]\n"
          ]
        }
      ]
    },
    {
      "cell_type": "markdown",
      "source": [
        "### 4. Using NumPy, create an array of integers from 10 to 60 with a step of 5. ###"
      ],
      "metadata": {
        "id": "EOziIeJ3er1q"
      }
    },
    {
      "cell_type": "code",
      "source": [
        "#Ans-\n",
        "\n",
        "import numpy as np\n",
        "\n",
        "array = np.arange(10, 61, 5)\n",
        "print(array)"
      ],
      "metadata": {
        "colab": {
          "base_uri": "https://localhost:8080/"
        },
        "id": "jap27YTFejS4",
        "outputId": "f9d6c470-7a3a-4052-b1aa-ec994cbd8318"
      },
      "execution_count": 23,
      "outputs": [
        {
          "output_type": "stream",
          "name": "stdout",
          "text": [
            "[10 15 20 25 30 35 40 45 50 55 60]\n"
          ]
        }
      ]
    },
    {
      "cell_type": "markdown",
      "source": [
        "### 5. Create a NumPy array of strings ['python', 'numpy', 'pandas']. Apply different case transformations (uppercase, lowercase, title case, etc.) to each element. ###"
      ],
      "metadata": {
        "id": "61W7CVGhe1nO"
      }
    },
    {
      "cell_type": "code",
      "source": [
        "#Ans-\n",
        "\n",
        "import numpy as np\n",
        "\n",
        "strings = np.array(['python', 'numpy', 'pandas'])\n",
        "\n",
        "# Uppercase\n",
        "uppercase_strings = np.char.upper(strings)\n",
        "print(uppercase_strings)\n",
        "\n",
        "# Lowercase\n",
        "lowercase_strings = np.char.lower(strings)\n",
        "print(lowercase_strings)\n",
        "\n",
        "# Title case\n",
        "title_case_strings = np.char.title(strings)\n",
        "print(title_case_strings)\n",
        "\n",
        "# Capitalize\n",
        "capitalize_strings = np.char.capitalize(strings)\n",
        "print(capitalize_strings)\n",
        "\n",
        "# Swapcase\n",
        "swapcase_strings = np.char.swapcase(strings)\n",
        "swapcase_strings"
      ],
      "metadata": {
        "colab": {
          "base_uri": "https://localhost:8080/"
        },
        "id": "N6_-bQDEfnQG",
        "outputId": "3a074466-55a1-4dc6-eef6-09c101d00ae3"
      },
      "execution_count": 31,
      "outputs": [
        {
          "output_type": "stream",
          "name": "stdout",
          "text": [
            "['PYTHON' 'NUMPY' 'PANDAS']\n",
            "['python' 'numpy' 'pandas']\n",
            "['Python' 'Numpy' 'Pandas']\n",
            "['Python' 'Numpy' 'Pandas']\n"
          ]
        },
        {
          "output_type": "execute_result",
          "data": {
            "text/plain": [
              "array(['PYTHON', 'NUMPY', 'PANDAS'], dtype='<U6')"
            ]
          },
          "metadata": {},
          "execution_count": 31
        }
      ]
    },
    {
      "cell_type": "markdown",
      "source": [
        "### 6. Generate a NumPy array of words. Insert a space between each character of every word in the array. ###"
      ],
      "metadata": {
        "id": "obDxEttwgJ8M"
      }
    },
    {
      "cell_type": "code",
      "source": [
        "#Ans-\n",
        "\n",
        "import numpy as np\n",
        "\n",
        "words = np.array([\"hello\", \"world\", \"numpy\"])\n",
        "\n",
        "# Add spaces between characters\n",
        "spaced_words = np.char.replace(words, '', ' ')\n",
        "\n",
        "print(spaced_words)"
      ],
      "metadata": {
        "colab": {
          "base_uri": "https://localhost:8080/"
        },
        "id": "faSXuG7tf1JY",
        "outputId": "2a704fca-7b4b-465d-8e36-716b0a3ec620"
      },
      "execution_count": 32,
      "outputs": [
        {
          "output_type": "stream",
          "name": "stdout",
          "text": [
            "[' h e l l o ' ' w o r l d ' ' n u m p y ']\n"
          ]
        }
      ]
    },
    {
      "cell_type": "markdown",
      "source": [
        "### 7. Create two 2D NumPy arrays and perform element-wise addition, subtraction, multiplication, and division. ###"
      ],
      "metadata": {
        "id": "L3Nr-KEtgSiD"
      }
    },
    {
      "cell_type": "code",
      "source": [
        "#Ans-\n",
        "\n",
        "import numpy as np\n",
        "\n",
        "# Create two 2D arrays\n",
        "array1 = np.array([[1, 2], [3, 4]])\n",
        "array2 = np.array([[5, 6], [7, 8]])\n",
        "\n",
        "# Element-wise addition\n",
        "addition_result = array1 + array2\n",
        "print(\"Addition:\", addition_result)\n",
        "\n",
        "# Element-wise subtraction\n",
        "subtraction_result = array1 - array2\n",
        "print(\"Subtraction:\", subtraction_result)\n",
        "\n",
        "# Element-wise multiplication\n",
        "multiplication_result = array1 * array2\n",
        "print(\"Multiplication:\", multiplication_result)\n",
        "\n",
        "# Element-wise division\n",
        "division_result = array1 / array2\n",
        "print(\"Division:\", division_result)"
      ],
      "metadata": {
        "colab": {
          "base_uri": "https://localhost:8080/"
        },
        "id": "Vo7ciNeCgOv7",
        "outputId": "e1bca332-1e7f-439c-bb8c-70203c5a3b5a"
      },
      "execution_count": 33,
      "outputs": [
        {
          "output_type": "stream",
          "name": "stdout",
          "text": [
            "Addition: [[ 6  8]\n",
            " [10 12]]\n",
            "Subtraction: [[-4 -4]\n",
            " [-4 -4]]\n",
            "Multiplication: [[ 5 12]\n",
            " [21 32]]\n",
            "Division: [[0.2        0.33333333]\n",
            " [0.42857143 0.5       ]]\n"
          ]
        }
      ]
    },
    {
      "cell_type": "markdown",
      "source": [
        "### 8. Use NumPy to create a 5x5 identity matrix, then extract its diagonal elements. ###\n"
      ],
      "metadata": {
        "id": "WTjUEeF1gcIY"
      }
    },
    {
      "cell_type": "code",
      "source": [
        "#Ans-\n",
        "\n",
        "import numpy as np\n",
        "\n",
        "# Create a 5x5 identity matrix\n",
        "identity_matrix = np.eye(5)\n",
        "print(\"Identity matrix:\\n\", identity_matrix)\n",
        "\n",
        "# Extract the diagonal elements\n",
        "diagonal_elements = np.diag(identity_matrix)\n",
        "print(\"Diagonal elements:\", diagonal_elements)"
      ],
      "metadata": {
        "colab": {
          "base_uri": "https://localhost:8080/"
        },
        "id": "5r58XeRcgX4C",
        "outputId": "3fe56b6e-7cff-41bc-d7e8-badf87f066eb"
      },
      "execution_count": 35,
      "outputs": [
        {
          "output_type": "stream",
          "name": "stdout",
          "text": [
            "Identity matrix:\n",
            " [[1. 0. 0. 0. 0.]\n",
            " [0. 1. 0. 0. 0.]\n",
            " [0. 0. 1. 0. 0.]\n",
            " [0. 0. 0. 1. 0.]\n",
            " [0. 0. 0. 0. 1.]]\n",
            "Diagonal elements: [1. 1. 1. 1. 1.]\n"
          ]
        }
      ]
    },
    {
      "cell_type": "markdown",
      "source": [
        "### 9. Generate a NumPy array of 100 random integers between 0 and 1000. Find and display all prime numbers in this array. ###"
      ],
      "metadata": {
        "id": "96DsV_lygo1R"
      }
    },
    {
      "cell_type": "code",
      "source": [
        "#Ans-\n",
        "\n",
        "import numpy as np\n",
        "\n",
        "# Generate a NumPy array of 100 random integers between 0 and 1000\n",
        "random_array = np.random.randint(0, 1001, 100)\n",
        "\n",
        "# Function to check if a number is prime\n",
        "def is_prime(num):\n",
        "    if num <= 1:\n",
        "        return False\n",
        "    for i in range(2, int(num**0.5) + 1):\n",
        "        if num % i == 0:\n",
        "            return False\n",
        "    return True\n",
        "\n",
        "# Find and print prime numbers\n",
        "prime_numbers = []\n",
        "for num in random_array:\n",
        "    if is_prime(num):\n",
        "      prime_numbers.append(num)\n",
        "\n",
        "print(\"Prime numbers in the array:\", prime_numbers)"
      ],
      "metadata": {
        "colab": {
          "base_uri": "https://localhost:8080/"
        },
        "id": "kndmX83vhBHo",
        "outputId": "40a8db24-cca4-4ec1-b672-c450f1636556"
      },
      "execution_count": 40,
      "outputs": [
        {
          "output_type": "stream",
          "name": "stdout",
          "text": [
            "Prime numbers in the array: [811, 11, 647, 53, 7, 701, 337, 349, 887, 307, 659, 977, 907]\n"
          ]
        }
      ]
    },
    {
      "cell_type": "markdown",
      "source": [
        "### 10. Create a NumPy array representing daily temperatures for a month. Calculate and display the weekly averages. ###"
      ],
      "metadata": {
        "id": "cwpNb3RuhQkl"
      }
    },
    {
      "cell_type": "code",
      "source": [
        "#Ans-\n",
        "\n",
        "import numpy as np\n",
        "\n",
        "# Create a NumPy array representing daily temperatures for a month (30 days)\n",
        "temperatures = np.random.randint(15, 35, size=30)  # Example temperatures between 15 and 34 degrees\n",
        "\n",
        "# Reshape the array into a 2D array with 4 weeks and 7 days per week (assuming 4 full weeks)\n",
        "temperatures_reshaped = temperatures[:28].reshape(4, 7)\n",
        "\n",
        "# Calculate the weekly averages\n",
        "weekly_averages = np.mean(temperatures_reshaped, axis=1)\n",
        "\n",
        "print(\"Daily Temperatures:\", temperatures)\n",
        "print(\"Weekly Averages:\", weekly_averages)"
      ],
      "metadata": {
        "colab": {
          "base_uri": "https://localhost:8080/"
        },
        "id": "FfpB7zwKhWaI",
        "outputId": "6a72092f-7071-4b23-8cb1-86fa06ea36cf"
      },
      "execution_count": 44,
      "outputs": [
        {
          "output_type": "stream",
          "name": "stdout",
          "text": [
            "Daily Temperatures: [26 19 33 22 19 23 23 27 28 21 30 34 31 24 31 16 33 32 24 24 20 18 34 25\n",
            " 21 29 23 24 22 33]\n",
            "Weekly Averages: [23.57142857 27.85714286 25.71428571 24.85714286]\n"
          ]
        }
      ]
    },
    {
      "cell_type": "code",
      "source": [],
      "metadata": {
        "id": "20F7uPIFha64"
      },
      "execution_count": null,
      "outputs": []
    }
  ]
}