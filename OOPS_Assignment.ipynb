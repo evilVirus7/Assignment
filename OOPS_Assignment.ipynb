{
  "nbformat": 4,
  "nbformat_minor": 0,
  "metadata": {
    "colab": {
      "provenance": []
    },
    "kernelspec": {
      "name": "python3",
      "display_name": "Python 3"
    },
    "language_info": {
      "name": "python"
    }
  },
  "cells": [
    {
      "cell_type": "markdown",
      "source": [
        "### What are the five key concepts of Object-Oriented Programming (OOP)? ###\n",
        "Ans- The five key concepts of Object-Oriented Programming (OOP) are:\n",
        "\n",
        "a. Classes: A class is a blueprint or template for creating objects. It defines the properties (attributes) and behaviors (methods) that objects of that class will have.\n",
        "\n",
        "b. Objects: Objects are instances of classes. They represent real-world entities and have their own unique state (values of their attributes) and behaviors.\n",
        "\n",
        "c. Encapsulation: Encapsulation is the bundling of data (attributes) and methods (behaviors) that operate on that data within a single unit (class). This helps in protecting the data from unauthorized access and modification, promoting data integrity.\n",
        "\n",
        "d. Inheritance: Inheritance is the mechanism by which one class (child class or subclass) inherits the properties and methods of another class (parent class or superclass). This promotes code reusability and creates hierarchical relationships between classes.\n",
        "\n",
        "e. Polymorphism: Polymorphism allows objects of different types to be treated as if they were of the same type. This can be achieved through method overloading (different methods with the same name but different parameters) or method overriding (redefining a method in a subclass with the same name and parameters as in the superclass)."
      ],
      "metadata": {
        "id": "8NesQvhFbFbz"
      }
    },
    {
      "cell_type": "markdown",
      "source": [
        "### Write a Python class for a `Car` with attributes for `make`, `model`, and `year`. Include a method to display the car's information. ###\n",
        "Ans- This code defines a Car class with three attributes: make, model, and year. The __init__ method is a constructor that initializes these attributes when a new Car object is created.\n",
        "\n",
        "The display_info method prints the car's information to the console.\n",
        "\n",
        "The code then creates an instance of the Car class, my_car, and calls the display_info method to print its details.\n"
      ],
      "metadata": {
        "id": "ETMuosXFbfQg"
      }
    },
    {
      "cell_type": "code",
      "source": [
        "class Car:\n",
        "    def __init__(self, make, model, year):\n",
        "        self.make = make\n",
        "        self.model = model\n",
        "        self.year = year\n",
        "\n",
        "    def display_info(self):\n",
        "        print(\"Car Information:\")\n",
        "        print(f\"Make: {self.make}\")\n",
        "        print(f\"Model: {self.model}\")\n",
        "        print(f\"Year: {self.year}\")\n",
        "\n",
        "# Create a car object\n",
        "my_car = Car(\"Toyota\", \"Camry\", 2023)\n",
        "\n",
        "# Display the car's information\n",
        "my_car.display_info()"
      ],
      "metadata": {
        "colab": {
          "base_uri": "https://localhost:8080/"
        },
        "id": "zcQF_bUxciEt",
        "outputId": "6b430cae-8999-4ba3-c0ec-dcf3965127d2"
      },
      "execution_count": 7,
      "outputs": [
        {
          "output_type": "stream",
          "name": "stdout",
          "text": [
            "Car Information:\n",
            "Make: Toyota\n",
            "Model: Camry\n",
            "Year: 2023\n"
          ]
        }
      ]
    },
    {
      "cell_type": "markdown",
      "source": [
        "###  Explain the difference between instance methods and class methods. Provide an example of each. ###\n",
        "Ans- Instance Methods\n",
        "\n",
        "a. Belong to a specific object instance.\n",
        "\n",
        "b. Can access and modify the instance's attributes.\n",
        "\n",
        "c. Use the self parameter to refer to the current object instance."
      ],
      "metadata": {
        "id": "XD51fSdOryD_"
      }
    },
    {
      "cell_type": "code",
      "source": [
        "#Example-\n",
        "\n",
        "class Car:\n",
        "    def __init__(self, make, model, year):\n",
        "        self.make = make\n",
        "        self.model = model\n",
        "        self.year = year\n",
        "\n",
        "    def display_info(self):\n",
        "        print(f\"Car: Information:\")\n",
        "        print(f\"Make: {self.make}\")\n",
        "        print(f\"Model: {self.model}\")\n",
        "        print(f\"Year: {self.year}\")"
      ],
      "metadata": {
        "id": "1C7eUDI4cibV"
      },
      "execution_count": 1,
      "outputs": []
    },
    {
      "cell_type": "markdown",
      "source": [
        "Class Methods\n",
        "\n",
        "a. Belong to the class itself, not to specific object instances.\n",
        "\n",
        "b. Cannot access or modify instance attributes.\n",
        "\n",
        "c. Use the cls parameter to refer to the class itself.\n",
        "\n",
        "d. Often used for creating class-level methods like factory methods."
      ],
      "metadata": {
        "id": "69eReNPOs1tD"
      }
    },
    {
      "cell_type": "code",
      "source": [
        "#Example-\n",
        "\n",
        "class Car:\n",
        "    def __init__(self, make, model, year):\n",
        "        self.make = make\n",
        "        self.model = model\n",
        "        self.year = year\n",
        "\n",
        "    @classmethod\n",
        "    def from_string(cls, car_str):\n",
        "        make, model, year = car_str.split(',')\n",
        "        return cls(make, model, year)"
      ],
      "metadata": {
        "id": "Z2LNignKtRBn"
      },
      "execution_count": 4,
      "outputs": []
    },
    {
      "cell_type": "markdown",
      "source": [
        "### How does Python implement method overloading? Give an example. ###\n",
        "Ans- Python does not directly support method overloading like some other languages. However, you can achieve similar behavior using several techniques:\n",
        "\n",
        "1. Default Argument Values:\n",
        "\n",
        "By defining default values for parameters, you can create methods with the same name but different behaviors based on the number of arguments provided."
      ],
      "metadata": {
        "id": "DoXtGd4btXm6"
      }
    },
    {
      "cell_type": "code",
      "source": [
        "def greet(name, greeting=\"Hello\"):\n",
        "    print(greeting, name)\n",
        "\n",
        "greet(\"Sanu\")  # Output: Hello Sanu\n",
        "greet(\"Pratik\", \"Hi\")  # Output: Hi Pratik"
      ],
      "metadata": {
        "colab": {
          "base_uri": "https://localhost:8080/"
        },
        "id": "yfD4QZeKtRad",
        "outputId": "e3da2970-92f5-4eb2-ef22-7567f16a20d8"
      },
      "execution_count": 5,
      "outputs": [
        {
          "output_type": "stream",
          "name": "stdout",
          "text": [
            "Hello Sanu\n",
            "Hi Pratik\n"
          ]
        }
      ]
    },
    {
      "cell_type": "markdown",
      "source": [
        "2. Variable-Length Arguments (*args and **kwargs):\n",
        "\n",
        "You can use *args to accept a variable number of positional arguments and **kwargs to accept a variable number of keyword arguments."
      ],
      "metadata": {
        "id": "UX1bqoxCt3cq"
      }
    },
    {
      "cell_type": "code",
      "source": [
        "def calculate_sum(*args):\n",
        "    total = 0\n",
        "    for num in args:\n",
        "        total += num\n",
        "    return total\n",
        "\n",
        "result = calculate_sum(1, 2, 3, 4)  # Output: 10"
      ],
      "metadata": {
        "id": "hwvDw9JdtujC"
      },
      "execution_count": 6,
      "outputs": []
    },
    {
      "cell_type": "markdown",
      "source": [
        "3. Method Overriding in Inheritance:\n",
        "\n",
        "While not strictly overloading, you can redefine a method in a subclass with the same name as a method in the parent class. This is known as method overriding."
      ],
      "metadata": {
        "id": "9zcwQqkbuHrd"
      }
    },
    {
      "cell_type": "code",
      "source": [
        "class Animal:\n",
        "    def make_sound(self):\n",
        "        print(\"Generic animal sound\")\n",
        "\n",
        "class Dog(Animal):\n",
        "    def make_sound(self):\n",
        "        print(\"Woof!\")"
      ],
      "metadata": {
        "id": "DBkS58iVuEIa"
      },
      "execution_count": 7,
      "outputs": []
    },
    {
      "cell_type": "markdown",
      "source": [
        "### What are the three types of access modifiers in Python? How are they denoted? ###\n",
        "Ans- Python primarily uses the following three types of access modifiers:\n",
        "\n",
        "1. Public:\n",
        "\n",
        "No specific keyword is used to denote public members.\n",
        "\n",
        "They are accessible from anywhere within the program, including outside the class.\n",
        "\n",
        "2. Protected:\n",
        "\n",
        "Denoted by a single underscore (_) prefix.\n",
        "\n",
        "They are accessible within the class and its subclasses.\n",
        "\n",
        "3. Private:\n",
        "\n",
        "Denoted by a double underscore (__) prefix.\n",
        "\n",
        "They are accessible only within the class itself."
      ],
      "metadata": {
        "id": "6v0az7L6uWK-"
      }
    },
    {
      "cell_type": "markdown",
      "source": [
        "###  Describe the five types of inheritance in Python. Provide a simple example of multiple inheritance. ###\n",
        "Ans- Python supports the following five types of inheritance:\n",
        "\n",
        "a. Single Inheritance: A class inherits from only one parent class.\n",
        "\n",
        "b. Multiple Inheritance: A class inherits from multiple parent classes.\n",
        "\n",
        "c. Multilevel Inheritance: A class inherits from a derived class.\n",
        "\n",
        "d. Hierarchical Inheritance: Multiple classes inherit from a single parent class.\n",
        "\n",
        "e. Hybrid Inheritance: A combination of multiple inheritance types."
      ],
      "metadata": {
        "id": "tluaAxOHutoV"
      }
    },
    {
      "cell_type": "code",
      "source": [
        "#Example of Multiple Inheritance:\n",
        "\n",
        "class Vehicle:\n",
        "    def __init__(self, brand):\n",
        "        self.brand = brand\n",
        "    def display_brand(self):\n",
        "        print(\"Brand:\", self.brand)\n",
        "class Engine:\n",
        "    def __init__(self, engine_type):\n",
        "        self.engine_type = engine_type\n",
        "    def display_engine_type(self):\n",
        "        print(\"Engine Type:\", self.engine_type)\n",
        "class Car(Vehicle, Engine):\n",
        "    def __init__(self, brand, engine_type, color):\n",
        "        Vehicle.__init__(self, brand)\n",
        "        Engine.__init__(self, engine_type)\n",
        "        self.color = color\n",
        "    def display_info(self):\n",
        "        self.display_brand()\n",
        "        self.display_engine_type()\n",
        "        print(\"Color:\", self.color)\n",
        "\n",
        "my_car = Car(\"Toyota\", \"Petrol\", \"Red\")\n",
        "my_car.display_info()"
      ],
      "metadata": {
        "colab": {
          "base_uri": "https://localhost:8080/"
        },
        "id": "8cbYvzSZvNUn",
        "outputId": "0e8825e3-1a1b-480e-fddd-3b3119c490b0"
      },
      "execution_count": 9,
      "outputs": [
        {
          "output_type": "stream",
          "name": "stdout",
          "text": [
            "Brand: Toyota\n",
            "Engine Type: Petrol\n",
            "Color: Red\n"
          ]
        }
      ]
    },
    {
      "cell_type": "markdown",
      "source": [
        "### What is the Method Resolution Order (MRO) in Python? How can you retrieve it programmatically? ###\n",
        "Ans- Method Resolution Order (MRO) in Python is the order in which Python searches for a method in a class hierarchy, especially when multiple inheritance is involved. It ensures that methods are found in a consistent and predictable way, preventing ambiguity and conflicts.\n",
        "\n",
        "Python uses the C3 linearization algorithm to determine the MRO. This algorithm guarantees that the MRO is:\n",
        "\n",
        "a. Consistent: The same MRO is produced for a given class hierarchy, regardless of the order of inheritance.\n",
        "\n",
        "b. Monotonic: If a class C inherits from classes A and B, then A and B must appear in the MRO of C in the same order as they appear in C's inheritance list.\n",
        "Linear: The MRO is a linear sequence of classes.\n",
        "\n",
        "c. Retrieving the MRO Programmatically:\n",
        "You can retrieve the MRO of a class using the mro() method or the __mro__ attribute:"
      ],
      "metadata": {
        "id": "AOS3ggv9w-iz"
      }
    },
    {
      "cell_type": "code",
      "source": [
        "class A:\n",
        "    pass\n",
        "\n",
        "class B:\n",
        "    pass\n",
        "\n",
        "class C(A, B):\n",
        "    pass\n",
        "\n",
        "print(C.mro())  # Output: [<class '__main__.C'>, <class '__main__.A'>, <class '__main__.B'>, <class 'object'>]\n",
        "print(C.__mro__)  # Output: (<class '__main__.C'>, <class '__main__.A'>, <class '__main__.B'>, <class 'object'>)"
      ],
      "metadata": {
        "colab": {
          "base_uri": "https://localhost:8080/"
        },
        "id": "OWkSiA35vQIS",
        "outputId": "f0d22e4c-2d5c-4ad7-d33d-701c01b8c1b8"
      },
      "execution_count": 10,
      "outputs": [
        {
          "output_type": "stream",
          "name": "stdout",
          "text": [
            "[<class '__main__.C'>, <class '__main__.A'>, <class '__main__.B'>, <class 'object'>]\n",
            "(<class '__main__.C'>, <class '__main__.A'>, <class '__main__.B'>, <class 'object'>)\n"
          ]
        }
      ]
    },
    {
      "cell_type": "markdown",
      "source": [
        "### Create an abstract base class `Shape` with an abstract method `area()`. Then create two subclasses\n",
        "`Circle` and `Rectangle` that implement the `area()` method. ###\n",
        "Ans- In this code:\n",
        "\n",
        "a. Abstract Base Class Shape:\n",
        "\n",
        "Shape is defined as an abstract base class using ABC.\n",
        "The area() method is declared as abstract using @abstractmethod. This ensures that any subclass of Shape must implement this method.\n",
        "\n",
        "b. Concrete Subclasses Circle and Rectangle:\n",
        "\n",
        "Both Circle and Rectangle inherit from Shape.\n",
        "They provide concrete implementations of the area() method, calculating the area specific to their shapes.\n",
        "\n",
        "c. Object Creation and Area Calculation:\n",
        "\n",
        "Objects of Circle and Rectangle are created with appropriate parameters.\n",
        "The area() method is called on each object to calculate and print the respective areas."
      ],
      "metadata": {
        "id": "BVs2catiyLIy"
      }
    },
    {
      "cell_type": "code",
      "source": [
        "from abc import ABC, abstractmethod\n",
        "\n",
        "class Shape(ABC):\n",
        "    @abstractmethod\n",
        "    def area(self):\n",
        "        pass\n",
        "\n",
        "class Circle(Shape):\n",
        "    def __init__(self, radius):\n",
        "        self.radius = radius\n",
        "\n",
        "    def area(self):\n",
        "        return 3.14159\n",
        "\n",
        "class Rectangle(Shape):\n",
        "    def __init__(self, length, width):\n",
        "        self.length = length\n",
        "        self.width = width\n",
        "\n",
        "    def area(self):\n",
        "        return self.length * self.width\n",
        "\n",
        "\n",
        "# Creating objects of Circle and Rectangle\n",
        "circle = Circle(5)\n",
        "rectangle = Rectangle(4, 6)\n",
        "\n",
        "\n",
        "# Calculating and printing areas\n",
        "print(\"Area of Circle:\", circle.area())\n",
        "print(\"Area of Rectangle:\", rectangle.area())"
      ],
      "metadata": {
        "colab": {
          "base_uri": "https://localhost:8080/"
        },
        "id": "_JIzj-IgzMjb",
        "outputId": "8482193b-06f1-45e6-a6fc-f2f90723634c"
      },
      "execution_count": 21,
      "outputs": [
        {
          "output_type": "stream",
          "name": "stdout",
          "text": [
            "Area of Circle: 3.14159\n",
            "Area of Rectangle: 24\n"
          ]
        }
      ]
    },
    {
      "cell_type": "markdown",
      "source": [
        "### Demonstrate polymorphism by creating a function that can work with different shape objects to calculate and print their areas. ###\n",
        "Ans- Explanation:\n",
        "\n",
        "a. Polymorphic Function calculate_area():\n",
        "\n",
        "This function takes a Shape object as input.\n",
        "\n",
        "It calls the area() method on the passed object, which is polymorphic.\n",
        "The actual implementation of area() depends on the specific shape object (Circle or Rectangle).\n",
        "\n",
        "b. Polymorphic Behavior:\n",
        "\n",
        "The calculate_area() function can work with any object that inherits from the Shape class and implements the area() method.\n",
        "\n",
        "This demonstrates polymorphism, as the same function can be used with different objects, and the behavior is determined dynamically at runtime."
      ],
      "metadata": {
        "id": "PNBCj9LLz5uu"
      }
    },
    {
      "cell_type": "code",
      "source": [
        "from abc import ABC, abstractmethod\n",
        "\n",
        "class Shape(ABC):\n",
        "    @abstractmethod\n",
        "    def area(self):\n",
        "        pass\n",
        "\n",
        "class Circle(Shape):\n",
        "    def __init__(self, radius):\n",
        "        self.radius = radius\n",
        "\n",
        "    def area(self):\n",
        "        return 3.14159\n",
        "\n",
        "class Rectangle(Shape):\n",
        "    def __init__(self, length, width):\n",
        "        self.length = length\n",
        "        self.width = width\n",
        "\n",
        "    def area(self):\n",
        "        return self.length * self.width\n",
        "\n",
        "def calculate_area(shape):\n",
        "\n",
        "  print(\"Area:\", shape.area())\n",
        "\n",
        "# Creating objects of Circle and Rectangle\n",
        "circle = Circle(5)\n",
        "rectangle = Rectangle(4, 6)\n",
        "\n",
        "# Calculating and printing areas using the polymorphic function\n",
        "calculate_area(circle)\n",
        "calculate_area(rectangle)"
      ],
      "metadata": {
        "colab": {
          "base_uri": "https://localhost:8080/"
        },
        "id": "xOwyrP3FzwCI",
        "outputId": "216a7555-7fb5-4dd9-ab93-bfdef0ee7eea"
      },
      "execution_count": 28,
      "outputs": [
        {
          "output_type": "stream",
          "name": "stdout",
          "text": [
            "Area: 3.14159\n",
            "Area: 24\n"
          ]
        }
      ]
    },
    {
      "cell_type": "markdown",
      "source": [
        "### Implement encapsulation in a `BankAccount` class with private attributes for `balance` and `account_number`. Include methods for deposit, withdrawal, and balance inquiry. ###\n",
        "Ans- Explanation:\n",
        "\n",
        "1. Private Attributes:\n",
        "\n",
        "__account_number and __balance are declared as private attributes using double underscores. This prevents direct access from outside the class.\n",
        "\n",
        "2. Public Methods:\n",
        "\n",
        "deposit(), withdraw(), and check_balance() are public methods that provide controlled access to the private attributes.\n",
        "\n",
        "deposit() and withdraw() validate input and update the balance accordingly.\n",
        "\n",
        "check_balance() displays the current balance without allowing modification.\n",
        "\n",
        "3. Encapsulation:\n",
        "\n",
        "The class encapsulates the data (account number and balance) and the operations (deposit, withdrawal, and balance inquiry) within a single unit.\n",
        "\n",
        "This protects the data integrity and prevents accidental or malicious modification.\n",
        "\n",
        "The public methods provide a controlled interface to interact with the private data, ensuring that the data is handled correctly."
      ],
      "metadata": {
        "id": "pgz43v7f0lOz"
      }
    },
    {
      "cell_type": "code",
      "source": [
        "class BankAccount:\n",
        "    def __init__(self, account_number, initial_balance):\n",
        "        self.__account_number = account_number\n",
        "        self.__balance = initial_balance\n",
        "\n",
        "    def deposit(self, amount):\n",
        "        if amount > 0:\n",
        "            self.__balance += amount\n",
        "            print(f\"Deposited {amount}. New balance:  {self.__balance}\")\n",
        "        else:\n",
        "            print(\"Invalid deposit amount.\")\n",
        "\n",
        "    def withdraw(self, amount):\n",
        "        if 0 < amount <= self.__balance:\n",
        "            self.__balance -= amount\n",
        "            print(f\"Withdrew {amount}. New balance:  {self.__balance}\")\n",
        "        elif amount > self.__balance:\n",
        "            print(\"Insufficient balance.\")\n",
        "        else:\n",
        "            print(\"Invalid withdrawal amount.\")\n",
        "\n",
        "    def check_balance(self):\n",
        "        print(f\"Your current balance is: {self.__balance}\")\n",
        "\n",
        "# Create a bank account\n",
        "account = BankAccount(\"12345\", 1000)\n",
        "\n",
        "# Deposit money\n",
        "account.deposit(500)\n",
        "\n",
        "# Withdraw money\n",
        "account.withdraw(200)\n",
        "\n",
        "# Check balance\n",
        "account.check_balance()"
      ],
      "metadata": {
        "colab": {
          "base_uri": "https://localhost:8080/"
        },
        "id": "k782HQIN0PMi",
        "outputId": "a0ee28da-815b-42b7-aa89-f0e5abef4000"
      },
      "execution_count": 32,
      "outputs": [
        {
          "output_type": "stream",
          "name": "stdout",
          "text": [
            "Deposited 500. New balance:  1500\n",
            "Withdrew 200. New balance:  1300\n",
            "Your current balance is: 1300\n"
          ]
        }
      ]
    },
    {
      "cell_type": "markdown",
      "source": [
        "### Write a class that overrides the `__str__` and `__add__` magic methods. What will these methods allow you to do? ###\n",
        "Ans- Explanation:\n",
        "\n",
        "a. __str__ method:\n",
        "\n",
        "This method is called when an object is converted to a string representation.\n",
        "By overriding it, we can customize the string representation of our Person objects.\n",
        "\n",
        "In this case, it returns a string containing the person's name and age.\n",
        "\n",
        "b. __add__ method:\n",
        "\n",
        "This method is called when the + operator is used with two Person objects.\n",
        "By overriding it, we can define custom behavior for addition.\n",
        "\n",
        "In this case, it adds the ages of the two people.\n",
        "\n",
        "By overriding these magic methods, we can make our classes more intuitive and expressive. We can define custom behavior for common operations like string conversion and arithmetic, making our code more readable and concise."
      ],
      "metadata": {
        "id": "-qCEQ39_1b10"
      }
    },
    {
      "cell_type": "code",
      "source": [
        "class Person:\n",
        "    def __init__(self, name, age):\n",
        "        self.name = name\n",
        "        self.age = age\n",
        "\n",
        "    def __str__(self):\n",
        "        return f\"Person: {self.name}, Age: {self.age}\"\n",
        "\n",
        "\n",
        "    def __add__(self, other):\n",
        "        return self.age + other.age\n",
        "\n",
        "# Create two Person objects\n",
        "person1 = Person(\"Alice\", 25)\n",
        "person2 = Person(\"Bob\", 30)\n",
        "\n",
        "# Print the person objects\n",
        "print(person1)  # Output: Person: Alice, Age: 25\n",
        "print(person2)  # Output: Person: Bob, Age: 30\n",
        "\n",
        "# Add the ages of the two people\n",
        "total_age = person1 + person2\n",
        "print(\"Total age:\", total_age)  # Output: Total age: 55"
      ],
      "metadata": {
        "colab": {
          "base_uri": "https://localhost:8080/"
        },
        "id": "gBXBqV021Fcx",
        "outputId": "91e32a19-ebcc-4ef4-f242-281d87d073d2"
      },
      "execution_count": 33,
      "outputs": [
        {
          "output_type": "stream",
          "name": "stdout",
          "text": [
            "Person: Alice, Age: 25\n",
            "Person: Bob, Age: 30\n",
            "Total age: 55\n"
          ]
        }
      ]
    },
    {
      "cell_type": "markdown",
      "source": [
        "### Create a decorator that measures and prints the execution time of a function. ###\n",
        "Ans- Explanation:\n",
        "\n",
        "a. Decorator Function measure_time():\n",
        "\n",
        "Takes a function func as input.\n",
        "\n",
        "Defines a wrapper function that:\n",
        "\n",
        "Measures the start time.\n",
        "\n",
        "Calls the original function func.\n",
        "\n",
        "Measures the end time.\n",
        "\n",
        "Calculates the execution time.\n",
        "\n",
        "Prints the execution time.\n",
        "\n",
        "Returns the result of the original function.\n",
        "\n",
        "b. Decorator Usage:\n",
        "\n",
        "The @measure_time decorator is applied to the my_function().\n",
        "\n",
        "This effectively replaces my_function with the wrapper function.\n",
        "\n",
        "When my_function() is called, the wrapper function is executed, measuring and printing the execution time."
      ],
      "metadata": {
        "id": "KBNcQglJ15b5"
      }
    },
    {
      "cell_type": "code",
      "source": [
        "import time\n",
        "\n",
        "def measure_time(func):\n",
        "    def wrapper(*args, **kwargs):\n",
        "        start_time = time.time()\n",
        "        result = func(*args, **kwargs)\n",
        "        end_time = time.time()\n",
        "        execution_time = end_time - start_time\n",
        "        print(f\"Execution time of {func.__name__}: {execution_time:.4f} seconds\")\n",
        "        return result\n",
        "    return wrapper\n",
        "\n",
        "@measure_time\n",
        "\n",
        "def my_function():\n",
        "    # Some time-consuming operation\n",
        "    time.sleep(2)\n",
        "    print(\"Function executed\")\n",
        "\n",
        "my_function()"
      ],
      "metadata": {
        "colab": {
          "base_uri": "https://localhost:8080/"
        },
        "id": "N4B1G0JT11tV",
        "outputId": "c6c84330-2198-4cdd-9e8c-a18f3e5c0ab4"
      },
      "execution_count": 35,
      "outputs": [
        {
          "output_type": "stream",
          "name": "stdout",
          "text": [
            "Function executed\n",
            "Execution time of my_function: 2.0031 seconds\n"
          ]
        }
      ]
    },
    {
      "cell_type": "markdown",
      "source": [
        "### Explain the concept of the Diamond Problem in multiple inheritance. How does Python resolve it? ###\n",
        "Ans- The Diamond Problem\n",
        "\n",
        "The Diamond Problem arises in multiple inheritance when a class inherits from two classes that share a common parent class. This creates a diamond-shaped inheritance hierarchy, and if both parent classes have a method with the same name, it can lead to ambiguity.\n",
        "\n",
        "Python's Resolution: Method Resolution Order (MRO)\n",
        "\n",
        "Python employs the C3 linearization algorithm to determine the Method Resolution Order (MRO), which is the order in which methods are searched for when a method call is made.\n",
        "\n",
        "The C3 algorithm ensures that the MRO is:\n",
        "\n",
        "a. Consistent: The same MRO is produced for a given class hierarchy, regardless of the order of inheritance.\n",
        "\n",
        "b. Monotonic: If a class C inherits from classes A and B, then A and B must appear in the MRO of C in the same order as they appear in C's inheritance list.\n",
        "\n",
        "c. Linear: The MRO is a linear sequence of classes."
      ],
      "metadata": {
        "id": "H2mT0QFM2XTq"
      }
    },
    {
      "cell_type": "code",
      "source": [
        "#Example-\n",
        "\n",
        "class A:\n",
        "    def foo(self):\n",
        "        print(\"A's foo\")\n",
        "\n",
        "class B(A):\n",
        "    pass\n",
        "\n",
        "class C(A):\n",
        "    pass\n",
        "\n",
        "class D(B, C):\n",
        "    pass\n",
        "\n",
        "d = D()\n",
        "d.foo()  # Output: A's foo"
      ],
      "metadata": {
        "colab": {
          "base_uri": "https://localhost:8080/"
        },
        "id": "EkIR6bq-2RcX",
        "outputId": "a77c6f25-8ba9-44c4-aa90-697f5dca9dfc"
      },
      "execution_count": 36,
      "outputs": [
        {
          "output_type": "stream",
          "name": "stdout",
          "text": [
            "A's foo\n"
          ]
        }
      ]
    },
    {
      "cell_type": "markdown",
      "source": [
        "### Write a class method that keeps track of the number of instances created from a class. ###\n",
        "Ans- Explanation:\n",
        "\n",
        "a. Class Attribute instance_count:\n",
        "\n",
        "This attribute is defined at the class level and is shared by all instances of the class.\n",
        "\n",
        "It is initialized to 0 to keep track of the total number of instances created.\n",
        "\n",
        "b. __init__ Method:\n",
        "\n",
        "This method is called whenever a new instance of the class is created.\n",
        "\n",
        "It increments the instance_count by 1.\n",
        "\n",
        "c. get_instance_count() Class Method:\n",
        "\n",
        "This class method can be called directly on the class itself without creating an instance.\n",
        "\n",
        "It returns the current value of the instance_count attribute."
      ],
      "metadata": {
        "id": "2sHQ9xkU22Ih"
      }
    },
    {
      "cell_type": "code",
      "source": [
        "class MyClass:\n",
        "    instance_count = 0\n",
        "\n",
        "    def __init__(self):\n",
        "        MyClass.instance_count += 1\n",
        "\n",
        "    @classmethod\n",
        "    def get_instance_count(cls):\n",
        "        return cls.instance_count\n",
        "\n",
        "# Create multiple instances\n",
        "obj1 = MyClass()\n",
        "obj2 = MyClass()\n",
        "obj3 = MyClass()\n",
        "\n",
        "# Print the total number of instances\n",
        "print(MyClass.get_instance_count())  # Output: 3"
      ],
      "metadata": {
        "colab": {
          "base_uri": "https://localhost:8080/"
        },
        "id": "IskXsfSa2xl7",
        "outputId": "e13e84d5-2f97-43e1-aa9a-eefd645d8d90"
      },
      "execution_count": 37,
      "outputs": [
        {
          "output_type": "stream",
          "name": "stdout",
          "text": [
            "3\n"
          ]
        }
      ]
    },
    {
      "cell_type": "markdown",
      "source": [
        "###  Implement a static method in a class that checks if a given year is a leap year. ###\n",
        "Ans- Explanation:\n",
        "\n",
        "a. Static Method is_leap_year():\n",
        "\n",
        "Declared as staticmethod to indicate that it doesn't require an instance of the class to be called.\n",
        "\n",
        "Takes a year as input.\n",
        "\n",
        "Implements the leap year logic:\n",
        "\n",
        "If the year is divisible by 4:\n",
        "\n",
        "If the year is divisible by 100:\n",
        "\n",
        "If the year is divisible by 400, it's a leap year.\n",
        "\n",
        "Otherwise, it's not a leap year.\n",
        "\n",
        "Otherwise, it's a leap year.\n",
        "\n",
        "Otherwise, it's not a leap year.\n",
        "\n",
        "b. Example Usage:\n",
        "\n",
        "Creates a variable year and assigns a value.\n",
        "\n",
        "Calls the is_leap_year() method on the YearChecker class, passing the year as an argument.\n",
        "\n",
        "Prints the appropriate message based on the return value of the method."
      ],
      "metadata": {
        "id": "udTJbhBN3VY2"
      }
    },
    {
      "cell_type": "code",
      "source": [
        "class YearChecker:\n",
        "    @staticmethod\n",
        "    def is_leap_year(year):\n",
        "        if year % 4 == 0:\n",
        "            if year % 100 == 0:\n",
        "                if year % 400 == 0:\n",
        "                    return True\n",
        "                else:\n",
        "                    return False\n",
        "            else:\n",
        "                return True\n",
        "\n",
        "        else:\n",
        "            return False\n",
        "\n",
        "# Example usage:\n",
        "\n",
        "year = 2024\n",
        "if YearChecker.is_leap_year(year):\n",
        "    print(f\"{year} is a leap year.\")\n",
        "else:\n",
        "    print(f\"{year} is not a leap year.\")"
      ],
      "metadata": {
        "colab": {
          "base_uri": "https://localhost:8080/"
        },
        "id": "2ji2bt4B3QWu",
        "outputId": "9d783ef6-a0eb-4144-a8a7-46f6c0e53678"
      },
      "execution_count": 39,
      "outputs": [
        {
          "output_type": "stream",
          "name": "stdout",
          "text": [
            "2024 is a leap year.\n"
          ]
        }
      ]
    },
    {
      "cell_type": "code",
      "source": [],
      "metadata": {
        "id": "FBSNayrc3rGg"
      },
      "execution_count": null,
      "outputs": []
    }
  ]
}