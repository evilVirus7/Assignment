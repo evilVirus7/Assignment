{
  "nbformat": 4,
  "nbformat_minor": 0,
  "metadata": {
    "colab": {
      "provenance": []
    },
    "kernelspec": {
      "name": "python3",
      "display_name": "Python 3"
    },
    "language_info": {
      "name": "python"
    }
  },
  "cells": [
    {
      "cell_type": "markdown",
      "source": [
        "# Theory Questions #"
      ],
      "metadata": {
        "id": "QCHKh7Oq16dP"
      }
    },
    {
      "cell_type": "markdown",
      "source": [
        "### What is the difference between a function and a method in Python? ###\n",
        "Ans- In Python, the terms \"function\" and \"method\" are often used interchangeably, but there is a subtle distinction between them:\n",
        "\n",
        "Function:\n",
        "\n",
        "a. A function is a block of code that performs a specific task and can be called from anywhere in your program.\n",
        "\n",
        "b. Functions are defined using the def keyword followed by the function name, parentheses for arguments, and a colon to start the function body.\n",
        "\n",
        "c. Functions can take input parameters and return a value.\n"
      ],
      "metadata": {
        "id": "gelh4ew4bsMe"
      }
    },
    {
      "cell_type": "code",
      "source": [
        "#Here's an example of a function:\n",
        "def greet(name):\n",
        "  print(\"Hello, \" + name + \"!\")\n",
        "\n",
        "greet(\"Pratik\")"
      ],
      "metadata": {
        "colab": {
          "base_uri": "https://localhost:8080/"
        },
        "id": "S4_yBimldIrV",
        "outputId": "f8716277-7195-40af-89c5-10f36e249086"
      },
      "execution_count": null,
      "outputs": [
        {
          "output_type": "stream",
          "name": "stdout",
          "text": [
            "Hello, Pratik!\n"
          ]
        }
      ]
    },
    {
      "cell_type": "markdown",
      "source": [
        "Method:\n",
        "\n",
        "a. A method is a function that is associated with a particular object or class.\n",
        "\n",
        "b. Methods are defined inside a class and can be called using dot notation on an instance of that class.\n",
        "\n",
        "c. Methods have access to the attributes and other methods of the object they belong to."
      ],
      "metadata": {
        "id": "sGMPOFm-dsxv"
      }
    },
    {
      "cell_type": "code",
      "source": [
        "#Here's an example of a method:\n",
        "class Person:\n",
        "  def __init__(self, name):\n",
        "    self.name = name\n",
        "\n",
        "  def greet(self):\n",
        "    print(\"Hello, my name is \" + self.name)\n",
        "\n",
        "person = Person(\"Pratik\")\n",
        "person.greet()"
      ],
      "metadata": {
        "colab": {
          "base_uri": "https://localhost:8080/"
        },
        "id": "vZWoJ6zgdYmW",
        "outputId": "4fa119a9-f920-4148-b7cc-b8f3b05f8575"
      },
      "execution_count": null,
      "outputs": [
        {
          "output_type": "stream",
          "name": "stdout",
          "text": [
            "Hello, my name is Pratik\n"
          ]
        }
      ]
    },
    {
      "cell_type": "markdown",
      "source": [
        "### Explain the concept of function arguments and parameters in Python. ###\n",
        "Ans- In Python, arguments and parameters are closely related concepts used when defining and calling functions.\n",
        "\n",
        "Parameters:\n",
        "\n",
        "Defined in the function declaration: Parameters are the variables listed within the parentheses of a function definition. They act as placeholders for the values that will be passed to the function when it's called."
      ],
      "metadata": {
        "id": "3Z9AtJuOhTC9"
      }
    },
    {
      "cell_type": "code",
      "source": [
        "#Example-\n",
        "def greet(name):\n",
        "    print(\"Hello, \" + name + \"!\")"
      ],
      "metadata": {
        "id": "QYfnZlUseJEO"
      },
      "execution_count": null,
      "outputs": []
    },
    {
      "cell_type": "markdown",
      "source": [
        "Arguments:\n",
        "\n",
        "Values passed to the function: Arguments are the actual values that you provide when you call a function. These values are assigned to the corresponding parameters in the function definition."
      ],
      "metadata": {
        "id": "Pfb0YQ9BiMe6"
      }
    },
    {
      "cell_type": "code",
      "source": [
        "#Example-\n",
        "greet(\"Pratik\")"
      ],
      "metadata": {
        "colab": {
          "base_uri": "https://localhost:8080/"
        },
        "id": "Q-vePEaGiGOz",
        "outputId": "ac6164df-018c-4d32-912f-dab1e056f6cb"
      },
      "execution_count": null,
      "outputs": [
        {
          "output_type": "stream",
          "name": "stdout",
          "text": [
            "Hello, Pratik!\n"
          ]
        }
      ]
    },
    {
      "cell_type": "markdown",
      "source": [
        "### What are the different ways to define and call a function in Python? ###\n",
        "Ans- There are several ways to define and call a function in Python:\n",
        "\n",
        "Defining a Function:\n",
        "\n",
        "a. Using the def keyword: This is the most common method to define a function. It involves using the def keyword followed by the function name, parentheses for parameters, and a colon to start the function body."
      ],
      "metadata": {
        "id": "Ck6qbP-FieAq"
      }
    },
    {
      "cell_type": "code",
      "source": [
        "def greet(name):\n",
        "    print(\"Hello, \" + name + \"!\")"
      ],
      "metadata": {
        "id": "0LDxI5ueiS0_"
      },
      "execution_count": null,
      "outputs": []
    },
    {
      "cell_type": "markdown",
      "source": [
        "Using lambda expressions: Lambda expressions are anonymous functions that are defined using the lambda keyword. They are often used for short, simple functions."
      ],
      "metadata": {
        "id": "enNDomKTsHF7"
      }
    },
    {
      "cell_type": "code",
      "source": [
        "greet = lambda name: print(\"Hello, \" + name + \"!\")"
      ],
      "metadata": {
        "id": "I6uZCGFqsF_Q"
      },
      "execution_count": null,
      "outputs": []
    },
    {
      "cell_type": "markdown",
      "source": [
        "Using nested functions: Functions can be defined inside other functions. This can be useful for creating helper functions or for implementing closures."
      ],
      "metadata": {
        "id": "hXrWfL4msmS2"
      }
    },
    {
      "cell_type": "code",
      "source": [
        "def outer_function():\n",
        "    def inner_function():\n",
        "        print(\"This is an inner function.\")\n",
        "    inner_function()\n",
        "\n",
        "outer_function()"
      ],
      "metadata": {
        "colab": {
          "base_uri": "https://localhost:8080/"
        },
        "id": "z3F2CjSJsPoS",
        "outputId": "d01bf040-3e9f-4585-9758-8f8f300d8058"
      },
      "execution_count": null,
      "outputs": [
        {
          "output_type": "stream",
          "name": "stdout",
          "text": [
            "This is an inner function.\n"
          ]
        }
      ]
    },
    {
      "cell_type": "markdown",
      "source": [
        "Calling a Function:\n",
        "\n",
        "Directly by name: The most straightforward way to call a function is by using its name followed by parentheses containing any necessary arguments."
      ],
      "metadata": {
        "id": "cxw06O1htFFC"
      }
    },
    {
      "cell_type": "code",
      "source": [
        "greet(\"Pratik\")"
      ],
      "metadata": {
        "colab": {
          "base_uri": "https://localhost:8080/"
        },
        "id": "VUD5LTuCsqGa",
        "outputId": "011f2d00-bb53-4087-b5e2-aa1ad0077127"
      },
      "execution_count": null,
      "outputs": [
        {
          "output_type": "stream",
          "name": "stdout",
          "text": [
            "Hello, Pratik!\n"
          ]
        }
      ]
    },
    {
      "cell_type": "markdown",
      "source": [
        "Using dot notation: If the function is a method of an object, you can call it using dot notation on the object."
      ],
      "metadata": {
        "id": "Ry_Ilg52tSWb"
      }
    },
    {
      "cell_type": "code",
      "source": [
        "person = Person(\"Sanu\")\n",
        "person.greet()"
      ],
      "metadata": {
        "colab": {
          "base_uri": "https://localhost:8080/"
        },
        "id": "mlb_LCAXtMtB",
        "outputId": "63ce31fc-2421-42f5-f463-ac8a00486e5e"
      },
      "execution_count": null,
      "outputs": [
        {
          "output_type": "stream",
          "name": "stdout",
          "text": [
            "Hello, my name is Sanu\n"
          ]
        }
      ]
    },
    {
      "cell_type": "markdown",
      "source": [
        "Using the apply function: The apply function can be used to call a function with a list or tuple of arguments."
      ],
      "metadata": {
        "id": "gacK_Dlzvs55"
      }
    },
    {
      "cell_type": "code",
      "source": [
        "args = [\"Pratik\"]\n",
        "greet(*args)"
      ],
      "metadata": {
        "colab": {
          "base_uri": "https://localhost:8080/"
        },
        "id": "eDVV3j9dtUUB",
        "outputId": "9eb3f236-7c39-4d90-a80c-199e09e017e1"
      },
      "execution_count": null,
      "outputs": [
        {
          "output_type": "stream",
          "name": "stdout",
          "text": [
            "Hello, Pratik!\n"
          ]
        }
      ]
    },
    {
      "cell_type": "markdown",
      "source": [
        "Using the call method: The call method of a callable object can be used to invoke the object as a function."
      ],
      "metadata": {
        "id": "8At1VtKjv5Q6"
      }
    },
    {
      "cell_type": "code",
      "source": [
        "callable_object = lambda name: print(\"Hello, \" + name + \"!\")\n",
        "callable_object(\"Pratik\")"
      ],
      "metadata": {
        "colab": {
          "base_uri": "https://localhost:8080/"
        },
        "id": "mmeJWCdYvwY8",
        "outputId": "9e77622d-ff16-4ef6-e67c-7586c2ed31f0"
      },
      "execution_count": null,
      "outputs": [
        {
          "output_type": "stream",
          "name": "stdout",
          "text": [
            "Hello, Pratik!\n"
          ]
        }
      ]
    },
    {
      "cell_type": "markdown",
      "source": [
        "### What is the purpose of the `return` statement in a Python function? ###\n",
        "Ans- The return statement in a Python function is used to specify the value that the function should return to the caller. When a return statement is executed within a function, the function terminates immediately, and the specified value is returned to the point where the function was called.\n",
        "\n",
        "Here are some key points about the return statement:\n",
        "\n",
        "a. Terminates the function: When a return statement is executed, the function's execution is stopped. Any code after the return statement will not be executed.\n",
        "\n",
        "b. Returns a value: The return statement can be used to return any type of value, including numbers, strings, lists, dictionaries, or even other functions.\n",
        "\n",
        "c. Can be used multiple times: A function can have multiple return statements, but only the first one that is executed will be effective.\n",
        "\n",
        "d. Can return None: If a function doesn't have a return statement, or if the return statement is executed without specifying a value, the function will return None."
      ],
      "metadata": {
        "id": "g00m6V7ByMDu"
      }
    },
    {
      "cell_type": "code",
      "source": [
        "#Here's an example of a function that uses the return statement to calculate the factorial of a number:\n",
        "def factorial(n):\n",
        "    if n == 0:\n",
        "        return 1\n",
        "    else:\n",
        "        return n * factorial(n - 1)"
      ],
      "metadata": {
        "id": "Jycm293Lv81N"
      },
      "execution_count": null,
      "outputs": []
    },
    {
      "cell_type": "markdown",
      "source": [
        "###  What are iterators in Python and how do they differ from iterables? ###\n",
        "Ans-  Iterators and iterables are two fundamental concepts in Python that are often used interchangeably, but they have distinct meanings.\n",
        "\n",
        "Iterables\n",
        "\n",
        "a. Collections of items: Iterables are objects that can be iterated over, meaning their elements can be accessed one by one.\n",
        "\n",
        "b. Examples: Lists, tuples, sets, dictionaries, strings, and custom-defined objects that implement the __iter__ method.\n",
        "\n",
        "c. Iterated using loops: Iterables can be directly used in loops like for loops to access their elements.\n",
        "\n",
        "Iterators\n",
        "\n",
        "a. Objects that provide iteration: Iterators are objects that implement the __iter__ and __next__ methods.\n",
        "\n",
        "b. Produce values one at a time: They provide a way to access elements of an iterable sequentially, one at a time.\n",
        "\n",
        "c. Created from iterables: Iterators are typically created from iterables using the iter() function.\n",
        "\n",
        "d. Used in loops: Iterators can also be used in loops, as they are automatically called to produce the next value.\n",
        "\n",
        "Key Differences\n",
        "\n",
        "a. Implementation: Iterables are collections of items, while iterators are objects that provide a way to access those items sequentially.\n",
        "\n",
        "b. Methods: Iterables must implement the __iter__ method, while iterators must implement both __iter__ and __next__.\n",
        "\n",
        "c. Usage: Iterables can be directly used in loops, while iterators are often created from iterables and then used in loops."
      ],
      "metadata": {
        "id": "IqagUZuIzfhB"
      }
    },
    {
      "cell_type": "code",
      "source": [
        "# Iterable\n",
        "my_list = [1, 2, 3]\n",
        "\n",
        "# Iterator created from the iterable\n",
        "my_iterator = iter(my_list)\n",
        "\n",
        "# Using the iterator to access elements\n",
        "print(next(my_iterator))  # Output: 1\n",
        "print(next(my_iterator))  # Output: 2\n",
        "print(next(my_iterator))  # Output: 3\n",
        "\n",
        "# Using the iterable directly in a loop\n",
        "for item in my_list:\n",
        "    print(item)  # Output: 1 2 3"
      ],
      "metadata": {
        "colab": {
          "base_uri": "https://localhost:8080/"
        },
        "id": "QB-q4LXKy_83",
        "outputId": "15daebaa-9011-491c-c481-93608476f8c3"
      },
      "execution_count": null,
      "outputs": [
        {
          "output_type": "stream",
          "name": "stdout",
          "text": [
            "1\n",
            "2\n",
            "3\n",
            "1\n",
            "2\n",
            "3\n"
          ]
        }
      ]
    },
    {
      "cell_type": "markdown",
      "source": [
        "###  Explain the concept of generators in Python and how they are defined. ###\n",
        "Ans- Generators in Python are a special type of function that return an iterator. Instead of returning a single value at a time, they return a generator object, which can be iterated over to produce a sequence of values.\n",
        "\n",
        "Key characteristics of generators:\n",
        "\n",
        "a. yield keyword: Generators use the yield keyword instead of return to return values. When yield is encountered, the generator's state is paused, and the value is returned. When the generator is resumed, execution continues from where it left off.\n",
        "\n",
        "b. Lazy evaluation: Generators are evaluated lazily, meaning values are produced only when requested, which can be more efficient for large datasets.\n",
        "\n",
        "c. Iterators: Generators are essentially iterators, so they can be used in for loops or with functions like next().\n",
        "\n",
        "Defining generators:\n",
        "\n",
        "Generators are defined using the same syntax as regular functions, but with the yield keyword instead of return."
      ],
      "metadata": {
        "id": "8w_QzGCQ0LdA"
      }
    },
    {
      "cell_type": "code",
      "source": [
        "def my_generator():\n",
        "    for i in range(5):\n",
        "        yield i\n",
        "#In this example, the my_generator function returns a generator object. When iterated over, it will yield the values 0, 1, 2, 3, and 4."
      ],
      "metadata": {
        "id": "TuEH6Ejz0EJV"
      },
      "execution_count": null,
      "outputs": []
    },
    {
      "cell_type": "markdown",
      "source": [
        "How generators work:\n",
        "\n",
        "a. Function call: When a generator function is called, it creates a generator object.\n",
        "\n",
        "b. Execution: The generator function starts executing.\n",
        "\n",
        "c. yield statement: When the yield keyword is encountered, the current value is returned, and the generator's state is paused.\n",
        "\n",
        "d. Resumption: When the generator is resumed (e.g., using next() or in a loop), execution continues from where it left off.\n",
        "\n",
        "e. Iteration: This process repeats until the generator function completes or encounters a return statement."
      ],
      "metadata": {
        "id": "miDgFoLu4Ng7"
      }
    },
    {
      "cell_type": "markdown",
      "source": [
        "### What are the advantages of using generators over regular functions? ###\n",
        "Ans- Generators offer several advantages over regular functions in Python:\n",
        "\n",
        "Memory Efficiency:\n",
        "\n",
        "a. Generators avoid creating and storing entire lists or sequences in memory at once.\n",
        "\n",
        "b. They produce values on-demand, which can be especially beneficial when dealing with large datasets.\n",
        "\n",
        "Lazy Evaluation:\n",
        "\n",
        "a. Generators only compute values when they are needed, leading to more efficient resource usage.\n",
        "\n",
        "b. This can be particularly useful for infinite sequences or computationally expensive operations.\n",
        "\n",
        "Simplified Code:\n",
        "\n",
        "a. Generators often result in cleaner and more concise code, especially when dealing with iterative processes.\n",
        "\n",
        "b. The yield keyword provides a natural way to express the concept of generating values sequentially.\n",
        "\n",
        "Custom Iterators:\n",
        "\n",
        "a. Generators can be used to create custom iterators for various data structures or algorithms.\n",
        "\n",
        "b. This allows you to define how elements are accessed and produced.\n",
        "\n",
        "Pipeline Processing:\n",
        "\n",
        "a. Generators can be combined using techniques like generator expressions and pipelines to create efficient data processing workflows.\n",
        "\n",
        "b. This can be useful for tasks such as filtering, mapping, and reducing data."
      ],
      "metadata": {
        "id": "PSe8M9fO4bQM"
      }
    },
    {
      "cell_type": "code",
      "source": [
        "#Example-\n",
        "def fibonacci():\n",
        "    a, b = 0, 1\n",
        "    while True:\n",
        "        yield a\n",
        "        a, b = b, a + b\n",
        "\n",
        "# Using a generator to create an infinite sequence\n",
        "fib_gen = fibonacci()\n",
        "\n",
        "# Accessing elements one by one\n",
        "for i in range(10):\n",
        "    print(next(fib_gen))"
      ],
      "metadata": {
        "colab": {
          "base_uri": "https://localhost:8080/"
        },
        "id": "8VtCwSdc10My",
        "outputId": "222b1e15-7ef5-43e2-a18f-41d7f4b28c5e"
      },
      "execution_count": null,
      "outputs": [
        {
          "output_type": "stream",
          "name": "stdout",
          "text": [
            "0\n",
            "1\n",
            "1\n",
            "2\n",
            "3\n",
            "5\n",
            "8\n",
            "13\n",
            "21\n",
            "34\n"
          ]
        }
      ]
    },
    {
      "cell_type": "markdown",
      "source": [
        "### What is a lambda function in Python and when is it typically used? ###\n",
        "Ans- Lambda functions in Python are small, anonymous functions that are defined using the lambda keyword. They are often referred to as \"anonymous\" because they don't have a specific name like regular functions.\n",
        "\n"
      ],
      "metadata": {
        "id": "LelU8s0sMbzY"
      }
    },
    {
      "cell_type": "code",
      "source": [
        "#Syntax\n",
        "\n",
        "lambda arguments: expression"
      ],
      "metadata": {
        "colab": {
          "base_uri": "https://localhost:8080/"
        },
        "id": "vNcVHRKb5E_Q",
        "outputId": "dd3cf17f-b6f0-461c-8fee-15aa70c3a8d1"
      },
      "execution_count": null,
      "outputs": [
        {
          "output_type": "execute_result",
          "data": {
            "text/plain": [
              "<function __main__.<lambda>(arguments)>"
            ]
          },
          "metadata": {},
          "execution_count": 21
        }
      ]
    },
    {
      "cell_type": "markdown",
      "source": [
        "a. arguments: A comma-separated list of arguments that the lambda function takes.\n",
        "\n",
        "b. expression: A single expression that the function evaluates and returns."
      ],
      "metadata": {
        "id": "fle4XwjeMtLR"
      }
    },
    {
      "cell_type": "code",
      "source": [
        "#Example-\n",
        "\n",
        "add = lambda x, y: x + y\n",
        "result = add(3, 4)\n",
        "print(result)  # Output: 7"
      ],
      "metadata": {
        "colab": {
          "base_uri": "https://localhost:8080/"
        },
        "id": "jzOggVChMphr",
        "outputId": "0c3ab778-c198-4932-b922-5de67f2598d7"
      },
      "execution_count": null,
      "outputs": [
        {
          "output_type": "stream",
          "name": "stdout",
          "text": [
            "7\n"
          ]
        }
      ]
    },
    {
      "cell_type": "markdown",
      "source": [
        "Typical Use Cases:\n",
        "\n",
        "a. Short, Simple Functions: Lambda functions are ideal for short, one-line functions that don't require a formal name.\n",
        "\n",
        "b. Function Arguments: They can be passed as arguments to other functions, especially when the function expects a function as input.\n",
        "\n",
        "c. List Comprehensions and Generator Expressions: Lambda functions can be used within list comprehensions and generator expressions to apply transformations to elements.\n",
        "\n",
        "d. Functional Programming: Lambda functions are a fundamental concept in functional programming, allowing for concise and expressive code."
      ],
      "metadata": {
        "id": "UjVJN3FcM791"
      }
    },
    {
      "cell_type": "code",
      "source": [
        "#Example with List Comprehension:\n",
        "\n",
        "numbers = [1, 2, 3, 4, 5]\n",
        "squared_numbers = [x**2 for x in numbers]\n",
        "print(squared_numbers)  # Output: [1, 4, 9, 16, 25]"
      ],
      "metadata": {
        "colab": {
          "base_uri": "https://localhost:8080/"
        },
        "id": "86_bPLQGM3kG",
        "outputId": "3fd01fe5-f0d2-414e-9e71-0b47a5fe88dd"
      },
      "execution_count": null,
      "outputs": [
        {
          "output_type": "stream",
          "name": "stdout",
          "text": [
            "[1, 4, 9, 16, 25]\n"
          ]
        }
      ]
    },
    {
      "cell_type": "code",
      "source": [
        "#Example with a Function Argument:\n",
        "\n",
        "def apply_function(func, x):\n",
        "    return func(x)\n",
        "\n",
        "result = apply_function(lambda x: x**2, 5)\n",
        "print(result)  # Output: 25"
      ],
      "metadata": {
        "colab": {
          "base_uri": "https://localhost:8080/"
        },
        "id": "JUBKfwLMNNaf",
        "outputId": "868792aa-6f04-4a8c-a736-1bc8d12f78bf"
      },
      "execution_count": null,
      "outputs": [
        {
          "output_type": "stream",
          "name": "stdout",
          "text": [
            "25\n"
          ]
        }
      ]
    },
    {
      "cell_type": "markdown",
      "source": [
        "### Explain the purpose and usage of the `map()` function in Python. ###\n",
        "Ans- The map() function in Python is a built-in function that applies a given function to each item of an iterable (like a list, tuple, or dictionary) and returns an iterator containing the results.\n",
        "\n",
        "Purpose:\n",
        "\n",
        "a. To apply a function to each element of an iterable efficiently.\n",
        "\n",
        "b. To transform elements of an iterable into a new format or value.\n",
        "\n",
        "c. To create new iterables based on existing ones."
      ],
      "metadata": {
        "id": "VKJ-rHDbNfbI"
      }
    },
    {
      "cell_type": "code",
      "source": [
        "#Example-\n",
        "\n",
        "numbers = [1, 2, 3, 4, 5]\n",
        "\n",
        "# Square each number using map()\n",
        "squared_numbers = map(lambda x: x**2, numbers)\n",
        "\n",
        "# Convert the iterator to a list for printing\n",
        "squared_numbers_list = list(squared_numbers)\n",
        "print(squared_numbers_list)  # Output: [1, 4, 9, 16, 25]"
      ],
      "metadata": {
        "colab": {
          "base_uri": "https://localhost:8080/"
        },
        "id": "swq9c2RrNUzw",
        "outputId": "9376aa88-7487-4a15-a7a6-3884c6c87e15"
      },
      "execution_count": null,
      "outputs": [
        {
          "output_type": "stream",
          "name": "stdout",
          "text": [
            "[1, 4, 9, 16, 25]\n"
          ]
        }
      ]
    },
    {
      "cell_type": "markdown",
      "source": [
        "### What is the difference between `map()`, `reduce()`, and `filter()` functions in Python? ###\n",
        "Ans- map(), reduce(), and filter() are three powerful built-in functions in Python that are commonly used for functional programming tasks. They provide concise and efficient ways to manipulate and transform data.\n",
        "\n",
        "map()-\n",
        "\n",
        "Purpose: Applies a function to each element of an iterable and returns a new iterable containing the results."
      ],
      "metadata": {
        "id": "pvTIy7OwPQQx"
      }
    },
    {
      "cell_type": "code",
      "source": [
        "#Example-\n",
        "\n",
        "numbers = [1, 2, 3, 4, 5]\n",
        "squared_numbers = map(lambda x: x**2, numbers)\n",
        "print(list(squared_numbers))  # Output: [1, 4, 9, 16, 25]"
      ],
      "metadata": {
        "colab": {
          "base_uri": "https://localhost:8080/"
        },
        "id": "oCC0qMUONv-U",
        "outputId": "dd40390d-d4bb-43ac-8f15-375f4baddeb6"
      },
      "execution_count": null,
      "outputs": [
        {
          "output_type": "stream",
          "name": "stdout",
          "text": [
            "[1, 4, 9, 16, 25]\n"
          ]
        }
      ]
    },
    {
      "cell_type": "markdown",
      "source": [
        "filter()-\n",
        "\n",
        "Purpose: Filters elements from an iterable based on a given condition and returns a new iterable containing only the elements that satisfy the condition."
      ],
      "metadata": {
        "id": "ksMhKgKkPt4F"
      }
    },
    {
      "cell_type": "code",
      "source": [
        "#Example-\n",
        "\n",
        "numbers = [1, 2, 3, 4, 5]\n",
        "even_numbers = filter(lambda x: x % 2 == 0, numbers)\n",
        "print(list(even_numbers))  # Output: [2, 4]"
      ],
      "metadata": {
        "colab": {
          "base_uri": "https://localhost:8080/"
        },
        "id": "zEhzeJU5Po3Y",
        "outputId": "a9382d04-f548-4afc-9b81-039be960e475"
      },
      "execution_count": null,
      "outputs": [
        {
          "output_type": "stream",
          "name": "stdout",
          "text": [
            "[2, 4]\n"
          ]
        }
      ]
    },
    {
      "cell_type": "markdown",
      "source": [
        "reduce()-\n",
        "\n",
        "Purpose: Applies a function to an iterable to reduce it to a single value. The function takes two arguments: the accumulated value and the current element."
      ],
      "metadata": {
        "id": "SeXH1YeSP3uy"
      }
    },
    {
      "cell_type": "code",
      "source": [
        "#Example-\n",
        "\n",
        "from functools import reduce\n",
        "numbers = [1, 2, 3, 4, 5]\n",
        "product = reduce(lambda x, y: x * y, numbers)\n",
        "print(product)  # Output: 120"
      ],
      "metadata": {
        "colab": {
          "base_uri": "https://localhost:8080/"
        },
        "id": "5RmXE5OQPz6Y",
        "outputId": "30818edf-995c-486e-e31d-f702ccaaf6f2"
      },
      "execution_count": null,
      "outputs": [
        {
          "output_type": "stream",
          "name": "stdout",
          "text": [
            "120\n"
          ]
        }
      ]
    },
    {
      "cell_type": "markdown",
      "source": [
        "### Using pen & Paper write the internal mechanism for sum operation using  reduce function on this given list:[47,11,42,13]; ###\n",
        "Ans- The reduce function applied to the list [47, 11, 42, 13] for the sum operation, using pen and paper:\n",
        "\n",
        "Initialization:\n",
        "\n",
        "The reduce function starts with an initial value (which is optional). If not provided, the first element of the list is used as the initial value. In this case, the initial value is 47.\n",
        "\n",
        "The reduce function also takes a binary function as an argument. This function is used to combine the accumulated value (initially 47) with each element of the list.\n",
        "\n",
        "Iteration:\n",
        "\n",
        "The reduce function iterates over the remaining elements of the list: [11, 42, 13].\n",
        "\n",
        "In each iteration, the binary function (summation in this case) is applied to the accumulated value and the current element.\n",
        "\n",
        "Step 1:\n",
        "\n",
        "Accumulated value: 47\n",
        "Current element: 11\n",
        "Result: 47 + 11 = 58\n",
        "Step 2:\n",
        "\n",
        "Accumulated value: 58\n",
        "Current element: 42\n",
        "Result: 58 + 42 = 100\n",
        "Step 3:\n",
        "\n",
        "Accumulated value: 100\n",
        "Current element: 13\n",
        "Result: 100 + 13 = 113\n",
        "Final Result:\n",
        "\n",
        "After iterating over all elements, the reduce function returns the final accumulated value, which is 113. This is the sum of the elements in the list."
      ],
      "metadata": {
        "id": "gSk3kGiMRNbG"
      }
    },
    {
      "cell_type": "code",
      "source": [
        "#Sorry unable to upload the raw image."
      ],
      "metadata": {
        "id": "TsjMW8sxRAya"
      },
      "execution_count": null,
      "outputs": []
    },
    {
      "cell_type": "markdown",
      "source": [
        "# Practical Questions #"
      ],
      "metadata": {
        "id": "raeFwaB_X-Ow"
      }
    },
    {
      "cell_type": "code",
      "source": [
        "# Write a Python function that takes a list of numbers as input and returns the sum of all even numbers in the list.\n",
        "\n",
        "def sum_even_numbers(numbers):\n",
        "  \"\"\"\n",
        "  This function takes a list of numbers as input and returns the sum of all even numbers in the list.\n",
        "\n",
        "  Args:\n",
        "    numbers: A list of numbers.\n",
        "\n",
        "  Returns:\n",
        "    The sum of all even numbers in the list.\n",
        "  \"\"\"\n",
        "  sum_of_evens = 0\n",
        "  for number in numbers:\n",
        "    if number % 2 == 0:\n",
        "      sum_of_evens += number\n",
        "  return sum_of_evens\n",
        "\n",
        "# Example usage:\n",
        "numbers = [1, 2, 3, 4, 5, 6]\n",
        "sum_of_evens = sum_even_numbers(numbers)\n",
        "print(f\"The sum of even numbers in the list is: {sum_of_evens}\")"
      ],
      "metadata": {
        "colab": {
          "base_uri": "https://localhost:8080/"
        },
        "id": "9We6xX5KbT5P",
        "outputId": "8938c160-f25e-4e8e-b7f3-16fd2ca43cd1"
      },
      "execution_count": null,
      "outputs": [
        {
          "output_type": "stream",
          "name": "stdout",
          "text": [
            "The sum of even numbers in the list is: 12\n"
          ]
        }
      ]
    },
    {
      "cell_type": "code",
      "source": [
        "#Create a Python function that accepts a string and returns the reverse of that string.\n",
        "\n",
        "def reverse_string(input_string):\n",
        "  \"\"\"Reverses a given string.\n",
        "\n",
        "  Args:\n",
        "    input_string: The string to be reversed.\n",
        "\n",
        "  Returns:\n",
        "    The reversed string.\n",
        "  \"\"\"\n",
        "  return input_string[::-1]\n",
        "\n",
        "# Example usage:\n",
        "string_to_reverse = \"Hello, world!\"\n",
        "reversed_string = reverse_string(string_to_reverse)\n",
        "print(f\"The reversed string is: {reversed_string}\")"
      ],
      "metadata": {
        "colab": {
          "base_uri": "https://localhost:8080/"
        },
        "id": "_L7lVdjfbk07",
        "outputId": "1de4c20e-b553-4724-c23d-b867275971df"
      },
      "execution_count": null,
      "outputs": [
        {
          "output_type": "stream",
          "name": "stdout",
          "text": [
            "The reversed string is: !dlrow ,olleH\n"
          ]
        }
      ]
    },
    {
      "cell_type": "code",
      "source": [
        "# Implement a Python function that takes a list of integers and returns a new list containing the squares of each number.\n",
        "\n",
        "def square_list_elements(numbers):\n",
        "  \"\"\"\n",
        "  This function takes a list of integers and returns a new list containing the squares of each number.\n",
        "\n",
        "  Args:\n",
        "    numbers: A list of integers.\n",
        "\n",
        "  Returns:\n",
        "    A new list containing the squares of each number in the input list.\n",
        "  \"\"\"\n",
        "  squared_numbers = [number ** 2 for number in numbers]\n",
        "  return squared_numbers\n",
        "\n",
        "# Example usage:\n",
        "numbers = [1, 2, 3, 4, 5]\n",
        "squared_numbers = square_list_elements(numbers)\n",
        "print(f\"The list of squared numbers is: {squared_numbers}\")"
      ],
      "metadata": {
        "colab": {
          "base_uri": "https://localhost:8080/"
        },
        "id": "ObBK6jXRbnMK",
        "outputId": "244f166f-6cf0-4e26-c8c8-a336011e287e"
      },
      "execution_count": null,
      "outputs": [
        {
          "output_type": "stream",
          "name": "stdout",
          "text": [
            "The list of squared numbers is: [1, 4, 9, 16, 25]\n"
          ]
        }
      ]
    },
    {
      "cell_type": "code",
      "source": [
        "# Write a Python function that checks if a given number is prime or not from 1 to 200.\n",
        "\n",
        "def is_prime(n):\n",
        "  \"\"\"\n",
        "  Checks if a given number is prime or not.\n",
        "\n",
        "  Args:\n",
        "    n: The number to check.\n",
        "\n",
        "  Returns:\n",
        "    True if the number is prime, False otherwise.\n",
        "  \"\"\"\n",
        "  if n <= 1:\n",
        "    return False\n",
        "  for i in range(2, int(n**0.5) + 1):\n",
        "    if n % i == 0:\n",
        "      return False\n",
        "  return True\n",
        "\n",
        "# Iterate from 1 to 200 and check for prime numbers\n",
        "for i in range(1, 201):\n",
        "  if is_prime(i):\n",
        "    print(i, end=\" \")"
      ],
      "metadata": {
        "colab": {
          "base_uri": "https://localhost:8080/"
        },
        "id": "VKOtDTv8cAhQ",
        "outputId": "0ea155f8-b82c-46c9-e457-579ed04f097f"
      },
      "execution_count": null,
      "outputs": [
        {
          "output_type": "stream",
          "name": "stdout",
          "text": [
            "2 3 5 7 11 13 17 19 23 29 31 37 41 43 47 53 59 61 67 71 73 79 83 89 97 101 103 107 109 113 127 131 137 139 149 151 157 163 167 173 179 181 191 193 197 199 "
          ]
        }
      ]
    },
    {
      "cell_type": "code",
      "source": [
        "#Create an iterator class in Python that generates the Fibonacci sequence up to a specified number of terms.\n",
        "\n",
        "class FibonacciIterator:\n",
        "  \"\"\"\n",
        "  An iterator class that generates the Fibonacci sequence up to a specified number of terms.\n",
        "  \"\"\"\n",
        "\n",
        "  def __init__(self, num_terms):\n",
        "    \"\"\"\n",
        "    Initializes the FibonacciIterator with the number of terms to generate.\n",
        "\n",
        "    Args:\n",
        "      num_terms: The number of Fibonacci terms to generate.\n",
        "    \"\"\"\n",
        "    self.num_terms = num_terms\n",
        "    self.a = 0\n",
        "    self.b = 1\n",
        "    self.count = 0\n",
        "\n",
        "  def __iter__(self):\n",
        "    \"\"\"\n",
        "    Returns the iterator object itself.\n",
        "    \"\"\"\n",
        "    return self"
      ],
      "metadata": {
        "id": "6PvS2xlfmNeN"
      },
      "execution_count": 58,
      "outputs": []
    },
    {
      "cell_type": "code",
      "source": [
        "# Write a generator function in Python that yields the powers of 2 up to a given exponent.\n",
        "\n",
        "def powers_of_2(exponent):\n",
        "  \"\"\"\n",
        "  Generates powers of 2 up to a given exponent.\n",
        "\n",
        "  Args:\n",
        "    exponent: The maximum exponent for the powers of 2.\n",
        "\n",
        "  Yields:\n",
        "    The powers of 2 up to 2**exponent.\n",
        "  \"\"\"\n",
        "  for i in range(exponent + 1):\n",
        "    yield 2 ** i\n",
        "\n",
        "# Example usage:\n",
        "for power in powers_of_2(5):\n",
        "  print(power)"
      ],
      "metadata": {
        "colab": {
          "base_uri": "https://localhost:8080/"
        },
        "id": "s8iDXi23mRk6",
        "outputId": "0ca0f28d-763c-412b-a640-0dd9f830ae9d"
      },
      "execution_count": 59,
      "outputs": [
        {
          "output_type": "stream",
          "name": "stdout",
          "text": [
            "1\n",
            "2\n",
            "4\n",
            "8\n",
            "16\n",
            "32\n"
          ]
        }
      ]
    },
    {
      "cell_type": "code",
      "source": [
        "#Implement a generator function that reads a file line by line and yields each line as a string.\n",
        "\n",
        "def read_file_lines(filename):\n",
        "  \"\"\"Reads a file line by line and yields each line as a string.\n",
        "\n",
        "  Args:\n",
        "    filename: The name of the file to read.\n",
        "\n",
        "  Yields:\n",
        "    Each line of the file as a string.\n",
        "  \"\"\"\n",
        "\n",
        "  with open(filename, 'r') as file:\n",
        "    for line in file:\n",
        "      yield line.strip()"
      ],
      "metadata": {
        "id": "PdzxuU9huTZw"
      },
      "execution_count": 70,
      "outputs": []
    },
    {
      "cell_type": "code",
      "source": [
        "# Use a lambda function in Python to sort a list of tuples based on the second element of each tuple.\n",
        "\n",
        "data = [('apple', 2), ('banana', 1), ('orange', 3)]\n",
        "\n",
        "sorted_data = sorted(data, key=lambda x: x[1])\n",
        "\n",
        "print(sorted_data)"
      ],
      "metadata": {
        "colab": {
          "base_uri": "https://localhost:8080/"
        },
        "id": "PyxWLjUZwhwi",
        "outputId": "242a4178-aeae-42f3-a321-8749345f5583"
      },
      "execution_count": 71,
      "outputs": [
        {
          "output_type": "stream",
          "name": "stdout",
          "text": [
            "[('banana', 1), ('apple', 2), ('orange', 3)]\n"
          ]
        }
      ]
    },
    {
      "cell_type": "code",
      "source": [
        "#Write a Python program that uses `map()` to convert a list of temperatures from Celsius to Fahrenheit.\n",
        "\n",
        "def celsius_to_fahrenheit(celsius):\n",
        "  \"\"\"Converts Celsius to Fahrenheit.\"\"\"\n",
        "  return (celsius * 9/5) + 32\n",
        "\n",
        "temperatures_celsius = [0, 10, 20, 30, 40]\n",
        "temperatures_fahrenheit = list(map(celsius_to_fahrenheit, temperatures_celsius))\n",
        "\n",
        "print(temperatures_fahrenheit)"
      ],
      "metadata": {
        "colab": {
          "base_uri": "https://localhost:8080/"
        },
        "id": "r55AR6bVyHb-",
        "outputId": "33831607-bef1-4502-e856-d15bfcc7ab0a"
      },
      "execution_count": 73,
      "outputs": [
        {
          "output_type": "stream",
          "name": "stdout",
          "text": [
            "[32.0, 50.0, 68.0, 86.0, 104.0]\n"
          ]
        }
      ]
    },
    {
      "cell_type": "code",
      "source": [
        "#Create a Python program that uses `filter()` to remove all the vowels from a given string.\n",
        "\n",
        "def remove_vowels(string):\n",
        "  \"\"\"Removes all vowels from a given string using filter.\"\"\"\n",
        "  vowels = \"aeiouAEIOU\"\n",
        "  return \"\".join(filter(lambda char: char not in vowels, string))\n",
        "\n",
        "# Example usage:\n",
        "input_string = \"Hello, World!\"\n",
        "output_string = remove_vowels(input_string)\n",
        "print(output_string)  # Output: Hll, Wrld!"
      ],
      "metadata": {
        "colab": {
          "base_uri": "https://localhost:8080/"
        },
        "id": "_PWNQLlWyNC2",
        "outputId": "f0302aa2-6646-4b83-ce24-09c640da70ab"
      },
      "execution_count": 74,
      "outputs": [
        {
          "output_type": "stream",
          "name": "stdout",
          "text": [
            "Hll, Wrld!\n"
          ]
        }
      ]
    },
    {
      "cell_type": "code",
      "source": [
        "def process_orders(orders):\n",
        "  \"\"\"Processes a list of orders and returns a list of tuples containing the order number and total price.\n",
        "\n",
        "  Args:\n",
        "    orders: A list of lists, where each inner list represents an order.\n",
        "\n",
        "  Returns:\n",
        "    A list of tuples, where each tuple contains the order number and total price.\n",
        "  \"\"\"\n",
        "\n",
        "  return list(map(lambda order: (order[0], (order[2] * order[3]) + 10 if (order[2] * order[3]) < 100 else (order[2] * order[3])), orders))\n",
        "\n",
        "# Sample data\n",
        "orders = [\n",
        "    [34587, \"Learning Python, Mark Lutz\", 4, 40.95],\n",
        "    [98762, \"Programming Python, Mark Lutz\", 5, 56.80],\n",
        "    [77226, \"Head First Python, Paul Barry\", 3, 32.95],\n",
        "    [88112, \"Einführung in Python3, Bernd Klein\",\n",
        " 3, 24.99]\n",
        "]\n",
        "\n",
        "# Process the orders\n",
        "processed_orders = process_orders(orders)\n",
        "print(processed_orders)"
      ],
      "metadata": {
        "id": "bmJ2USb36pTv"
      },
      "execution_count": null,
      "outputs": []
    }
  ]
}